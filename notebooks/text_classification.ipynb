{
  "metadata": {
    "kernelspec": {
      "display_name": "Python 3",
      "name": "python3"
    },
    "language_info": {
      "name": "python",
      "version": "3.7.12",
      "mimetype": "text/x-python",
      "codemirror_mode": {
        "name": "ipython",
        "version": 3
      },
      "pygments_lexer": "ipython3",
      "nbconvert_exporter": "python",
      "file_extension": ".py"
    },
    "colab": {
      "provenance": []
    },
    "widgets": {
      "application/vnd.jupyter.widget-state+json": {
        "a30401232632417fa237a89405af3bab": {
          "model_module": "@jupyter-widgets/controls",
          "model_name": "HBoxModel",
          "model_module_version": "1.5.0",
          "state": {
            "_dom_classes": [],
            "_model_module": "@jupyter-widgets/controls",
            "_model_module_version": "1.5.0",
            "_model_name": "HBoxModel",
            "_view_count": null,
            "_view_module": "@jupyter-widgets/controls",
            "_view_module_version": "1.5.0",
            "_view_name": "HBoxView",
            "box_style": "",
            "children": [
              "IPY_MODEL_a2886ccd7861481ab492188d38db990b",
              "IPY_MODEL_e28a3e72e06744e58c6f943f83f86b84",
              "IPY_MODEL_39e2f76fbe6e4386b6d303621af838c9"
            ],
            "layout": "IPY_MODEL_8edad1720f554c25827768afc649533c"
          }
        },
        "a2886ccd7861481ab492188d38db990b": {
          "model_module": "@jupyter-widgets/controls",
          "model_name": "HTMLModel",
          "model_module_version": "1.5.0",
          "state": {
            "_dom_classes": [],
            "_model_module": "@jupyter-widgets/controls",
            "_model_module_version": "1.5.0",
            "_model_name": "HTMLModel",
            "_view_count": null,
            "_view_module": "@jupyter-widgets/controls",
            "_view_module_version": "1.5.0",
            "_view_name": "HTMLView",
            "description": "",
            "description_tooltip": null,
            "layout": "IPY_MODEL_d25967f457734affa2f40b8235cb73a9",
            "placeholder": "​",
            "style": "IPY_MODEL_31ca051c7cb64075aaf0ac34ad2965a0",
            "value": "Epoch 99, Loss : 0.00, Val : 0.83, Train : 1.00: 100%"
          }
        },
        "e28a3e72e06744e58c6f943f83f86b84": {
          "model_module": "@jupyter-widgets/controls",
          "model_name": "FloatProgressModel",
          "model_module_version": "1.5.0",
          "state": {
            "_dom_classes": [],
            "_model_module": "@jupyter-widgets/controls",
            "_model_module_version": "1.5.0",
            "_model_name": "FloatProgressModel",
            "_view_count": null,
            "_view_module": "@jupyter-widgets/controls",
            "_view_module_version": "1.5.0",
            "_view_name": "ProgressView",
            "bar_style": "success",
            "description": "",
            "description_tooltip": null,
            "layout": "IPY_MODEL_306e2cbd1b3346e8be4f54b42c5c15b3",
            "max": 100,
            "min": 0,
            "orientation": "horizontal",
            "style": "IPY_MODEL_0391b5e75cff49e8b8c9f712124fe189",
            "value": 100
          }
        },
        "39e2f76fbe6e4386b6d303621af838c9": {
          "model_module": "@jupyter-widgets/controls",
          "model_name": "HTMLModel",
          "model_module_version": "1.5.0",
          "state": {
            "_dom_classes": [],
            "_model_module": "@jupyter-widgets/controls",
            "_model_module_version": "1.5.0",
            "_model_name": "HTMLModel",
            "_view_count": null,
            "_view_module": "@jupyter-widgets/controls",
            "_view_module_version": "1.5.0",
            "_view_name": "HTMLView",
            "description": "",
            "description_tooltip": null,
            "layout": "IPY_MODEL_74f1b23c489c4531852605cf0733f9d2",
            "placeholder": "​",
            "style": "IPY_MODEL_2e122a1a51c947aab4f06b174379f1f6",
            "value": " 100/100 [03:36&lt;00:00,  2.14s/it]"
          }
        },
        "8edad1720f554c25827768afc649533c": {
          "model_module": "@jupyter-widgets/base",
          "model_name": "LayoutModel",
          "model_module_version": "1.2.0",
          "state": {
            "_model_module": "@jupyter-widgets/base",
            "_model_module_version": "1.2.0",
            "_model_name": "LayoutModel",
            "_view_count": null,
            "_view_module": "@jupyter-widgets/base",
            "_view_module_version": "1.2.0",
            "_view_name": "LayoutView",
            "align_content": null,
            "align_items": null,
            "align_self": null,
            "border": null,
            "bottom": null,
            "display": null,
            "flex": null,
            "flex_flow": null,
            "grid_area": null,
            "grid_auto_columns": null,
            "grid_auto_flow": null,
            "grid_auto_rows": null,
            "grid_column": null,
            "grid_gap": null,
            "grid_row": null,
            "grid_template_areas": null,
            "grid_template_columns": null,
            "grid_template_rows": null,
            "height": null,
            "justify_content": null,
            "justify_items": null,
            "left": null,
            "margin": null,
            "max_height": null,
            "max_width": null,
            "min_height": null,
            "min_width": null,
            "object_fit": null,
            "object_position": null,
            "order": null,
            "overflow": null,
            "overflow_x": null,
            "overflow_y": null,
            "padding": null,
            "right": null,
            "top": null,
            "visibility": null,
            "width": null
          }
        },
        "d25967f457734affa2f40b8235cb73a9": {
          "model_module": "@jupyter-widgets/base",
          "model_name": "LayoutModel",
          "model_module_version": "1.2.0",
          "state": {
            "_model_module": "@jupyter-widgets/base",
            "_model_module_version": "1.2.0",
            "_model_name": "LayoutModel",
            "_view_count": null,
            "_view_module": "@jupyter-widgets/base",
            "_view_module_version": "1.2.0",
            "_view_name": "LayoutView",
            "align_content": null,
            "align_items": null,
            "align_self": null,
            "border": null,
            "bottom": null,
            "display": null,
            "flex": null,
            "flex_flow": null,
            "grid_area": null,
            "grid_auto_columns": null,
            "grid_auto_flow": null,
            "grid_auto_rows": null,
            "grid_column": null,
            "grid_gap": null,
            "grid_row": null,
            "grid_template_areas": null,
            "grid_template_columns": null,
            "grid_template_rows": null,
            "height": null,
            "justify_content": null,
            "justify_items": null,
            "left": null,
            "margin": null,
            "max_height": null,
            "max_width": null,
            "min_height": null,
            "min_width": null,
            "object_fit": null,
            "object_position": null,
            "order": null,
            "overflow": null,
            "overflow_x": null,
            "overflow_y": null,
            "padding": null,
            "right": null,
            "top": null,
            "visibility": null,
            "width": null
          }
        },
        "31ca051c7cb64075aaf0ac34ad2965a0": {
          "model_module": "@jupyter-widgets/controls",
          "model_name": "DescriptionStyleModel",
          "model_module_version": "1.5.0",
          "state": {
            "_model_module": "@jupyter-widgets/controls",
            "_model_module_version": "1.5.0",
            "_model_name": "DescriptionStyleModel",
            "_view_count": null,
            "_view_module": "@jupyter-widgets/base",
            "_view_module_version": "1.2.0",
            "_view_name": "StyleView",
            "description_width": ""
          }
        },
        "306e2cbd1b3346e8be4f54b42c5c15b3": {
          "model_module": "@jupyter-widgets/base",
          "model_name": "LayoutModel",
          "model_module_version": "1.2.0",
          "state": {
            "_model_module": "@jupyter-widgets/base",
            "_model_module_version": "1.2.0",
            "_model_name": "LayoutModel",
            "_view_count": null,
            "_view_module": "@jupyter-widgets/base",
            "_view_module_version": "1.2.0",
            "_view_name": "LayoutView",
            "align_content": null,
            "align_items": null,
            "align_self": null,
            "border": null,
            "bottom": null,
            "display": null,
            "flex": null,
            "flex_flow": null,
            "grid_area": null,
            "grid_auto_columns": null,
            "grid_auto_flow": null,
            "grid_auto_rows": null,
            "grid_column": null,
            "grid_gap": null,
            "grid_row": null,
            "grid_template_areas": null,
            "grid_template_columns": null,
            "grid_template_rows": null,
            "height": null,
            "justify_content": null,
            "justify_items": null,
            "left": null,
            "margin": null,
            "max_height": null,
            "max_width": null,
            "min_height": null,
            "min_width": null,
            "object_fit": null,
            "object_position": null,
            "order": null,
            "overflow": null,
            "overflow_x": null,
            "overflow_y": null,
            "padding": null,
            "right": null,
            "top": null,
            "visibility": null,
            "width": null
          }
        },
        "0391b5e75cff49e8b8c9f712124fe189": {
          "model_module": "@jupyter-widgets/controls",
          "model_name": "ProgressStyleModel",
          "model_module_version": "1.5.0",
          "state": {
            "_model_module": "@jupyter-widgets/controls",
            "_model_module_version": "1.5.0",
            "_model_name": "ProgressStyleModel",
            "_view_count": null,
            "_view_module": "@jupyter-widgets/base",
            "_view_module_version": "1.2.0",
            "_view_name": "StyleView",
            "bar_color": null,
            "description_width": ""
          }
        },
        "74f1b23c489c4531852605cf0733f9d2": {
          "model_module": "@jupyter-widgets/base",
          "model_name": "LayoutModel",
          "model_module_version": "1.2.0",
          "state": {
            "_model_module": "@jupyter-widgets/base",
            "_model_module_version": "1.2.0",
            "_model_name": "LayoutModel",
            "_view_count": null,
            "_view_module": "@jupyter-widgets/base",
            "_view_module_version": "1.2.0",
            "_view_name": "LayoutView",
            "align_content": null,
            "align_items": null,
            "align_self": null,
            "border": null,
            "bottom": null,
            "display": null,
            "flex": null,
            "flex_flow": null,
            "grid_area": null,
            "grid_auto_columns": null,
            "grid_auto_flow": null,
            "grid_auto_rows": null,
            "grid_column": null,
            "grid_gap": null,
            "grid_row": null,
            "grid_template_areas": null,
            "grid_template_columns": null,
            "grid_template_rows": null,
            "height": null,
            "justify_content": null,
            "justify_items": null,
            "left": null,
            "margin": null,
            "max_height": null,
            "max_width": null,
            "min_height": null,
            "min_width": null,
            "object_fit": null,
            "object_position": null,
            "order": null,
            "overflow": null,
            "overflow_x": null,
            "overflow_y": null,
            "padding": null,
            "right": null,
            "top": null,
            "visibility": null,
            "width": null
          }
        },
        "2e122a1a51c947aab4f06b174379f1f6": {
          "model_module": "@jupyter-widgets/controls",
          "model_name": "DescriptionStyleModel",
          "model_module_version": "1.5.0",
          "state": {
            "_model_module": "@jupyter-widgets/controls",
            "_model_module_version": "1.5.0",
            "_model_name": "DescriptionStyleModel",
            "_view_count": null,
            "_view_module": "@jupyter-widgets/base",
            "_view_module_version": "1.2.0",
            "_view_name": "StyleView",
            "description_width": ""
          }
        },
        "ed3f9b1e5a5146cbacb9f0a3de85401f": {
          "model_module": "@jupyter-widgets/controls",
          "model_name": "HBoxModel",
          "model_module_version": "1.5.0",
          "state": {
            "_dom_classes": [],
            "_model_module": "@jupyter-widgets/controls",
            "_model_module_version": "1.5.0",
            "_model_name": "HBoxModel",
            "_view_count": null,
            "_view_module": "@jupyter-widgets/controls",
            "_view_module_version": "1.5.0",
            "_view_name": "HBoxView",
            "box_style": "",
            "children": [
              "IPY_MODEL_4f28b2ac7b78455c87fe6135953b7cda",
              "IPY_MODEL_0ec11fcced704deaa8c853ad2d64a394",
              "IPY_MODEL_b54d7488fa0248208078b34221b1dad6"
            ],
            "layout": "IPY_MODEL_b725bf92c3b6496786ec77376bf57486"
          }
        },
        "4f28b2ac7b78455c87fe6135953b7cda": {
          "model_module": "@jupyter-widgets/controls",
          "model_name": "HTMLModel",
          "model_module_version": "1.5.0",
          "state": {
            "_dom_classes": [],
            "_model_module": "@jupyter-widgets/controls",
            "_model_module_version": "1.5.0",
            "_model_name": "HTMLModel",
            "_view_count": null,
            "_view_module": "@jupyter-widgets/controls",
            "_view_module_version": "1.5.0",
            "_view_name": "HTMLView",
            "description": "",
            "description_tooltip": null,
            "layout": "IPY_MODEL_7767a64a977b4834ac801c77ed6802d9",
            "placeholder": "​",
            "style": "IPY_MODEL_c8003ee4d4c54aa0a68767b3ad003f9f",
            "value": "Epoch 48, Loss : 1.48, Val : 0.21, Train : 0.34:  16%"
          }
        },
        "0ec11fcced704deaa8c853ad2d64a394": {
          "model_module": "@jupyter-widgets/controls",
          "model_name": "FloatProgressModel",
          "model_module_version": "1.5.0",
          "state": {
            "_dom_classes": [],
            "_model_module": "@jupyter-widgets/controls",
            "_model_module_version": "1.5.0",
            "_model_name": "FloatProgressModel",
            "_view_count": null,
            "_view_module": "@jupyter-widgets/controls",
            "_view_module_version": "1.5.0",
            "_view_name": "ProgressView",
            "bar_style": "danger",
            "description": "",
            "description_tooltip": null,
            "layout": "IPY_MODEL_ebef1d3ec5fd455e8db2f4d784af9ce2",
            "max": 300,
            "min": 0,
            "orientation": "horizontal",
            "style": "IPY_MODEL_99ce0e6f878c4292908198e96c3c073c",
            "value": 49
          }
        },
        "b54d7488fa0248208078b34221b1dad6": {
          "model_module": "@jupyter-widgets/controls",
          "model_name": "HTMLModel",
          "model_module_version": "1.5.0",
          "state": {
            "_dom_classes": [],
            "_model_module": "@jupyter-widgets/controls",
            "_model_module_version": "1.5.0",
            "_model_name": "HTMLModel",
            "_view_count": null,
            "_view_module": "@jupyter-widgets/controls",
            "_view_module_version": "1.5.0",
            "_view_name": "HTMLView",
            "description": "",
            "description_tooltip": null,
            "layout": "IPY_MODEL_1707335df48540c58bab88b201df338b",
            "placeholder": "​",
            "style": "IPY_MODEL_35e6ad6c2bbe4b26b47746c1e232ae0c",
            "value": " 49/300 [1:02:40&lt;5:18:47, 76.21s/it]"
          }
        },
        "b725bf92c3b6496786ec77376bf57486": {
          "model_module": "@jupyter-widgets/base",
          "model_name": "LayoutModel",
          "model_module_version": "1.2.0",
          "state": {
            "_model_module": "@jupyter-widgets/base",
            "_model_module_version": "1.2.0",
            "_model_name": "LayoutModel",
            "_view_count": null,
            "_view_module": "@jupyter-widgets/base",
            "_view_module_version": "1.2.0",
            "_view_name": "LayoutView",
            "align_content": null,
            "align_items": null,
            "align_self": null,
            "border": null,
            "bottom": null,
            "display": null,
            "flex": null,
            "flex_flow": null,
            "grid_area": null,
            "grid_auto_columns": null,
            "grid_auto_flow": null,
            "grid_auto_rows": null,
            "grid_column": null,
            "grid_gap": null,
            "grid_row": null,
            "grid_template_areas": null,
            "grid_template_columns": null,
            "grid_template_rows": null,
            "height": null,
            "justify_content": null,
            "justify_items": null,
            "left": null,
            "margin": null,
            "max_height": null,
            "max_width": null,
            "min_height": null,
            "min_width": null,
            "object_fit": null,
            "object_position": null,
            "order": null,
            "overflow": null,
            "overflow_x": null,
            "overflow_y": null,
            "padding": null,
            "right": null,
            "top": null,
            "visibility": null,
            "width": null
          }
        },
        "7767a64a977b4834ac801c77ed6802d9": {
          "model_module": "@jupyter-widgets/base",
          "model_name": "LayoutModel",
          "model_module_version": "1.2.0",
          "state": {
            "_model_module": "@jupyter-widgets/base",
            "_model_module_version": "1.2.0",
            "_model_name": "LayoutModel",
            "_view_count": null,
            "_view_module": "@jupyter-widgets/base",
            "_view_module_version": "1.2.0",
            "_view_name": "LayoutView",
            "align_content": null,
            "align_items": null,
            "align_self": null,
            "border": null,
            "bottom": null,
            "display": null,
            "flex": null,
            "flex_flow": null,
            "grid_area": null,
            "grid_auto_columns": null,
            "grid_auto_flow": null,
            "grid_auto_rows": null,
            "grid_column": null,
            "grid_gap": null,
            "grid_row": null,
            "grid_template_areas": null,
            "grid_template_columns": null,
            "grid_template_rows": null,
            "height": null,
            "justify_content": null,
            "justify_items": null,
            "left": null,
            "margin": null,
            "max_height": null,
            "max_width": null,
            "min_height": null,
            "min_width": null,
            "object_fit": null,
            "object_position": null,
            "order": null,
            "overflow": null,
            "overflow_x": null,
            "overflow_y": null,
            "padding": null,
            "right": null,
            "top": null,
            "visibility": null,
            "width": null
          }
        },
        "c8003ee4d4c54aa0a68767b3ad003f9f": {
          "model_module": "@jupyter-widgets/controls",
          "model_name": "DescriptionStyleModel",
          "model_module_version": "1.5.0",
          "state": {
            "_model_module": "@jupyter-widgets/controls",
            "_model_module_version": "1.5.0",
            "_model_name": "DescriptionStyleModel",
            "_view_count": null,
            "_view_module": "@jupyter-widgets/base",
            "_view_module_version": "1.2.0",
            "_view_name": "StyleView",
            "description_width": ""
          }
        },
        "ebef1d3ec5fd455e8db2f4d784af9ce2": {
          "model_module": "@jupyter-widgets/base",
          "model_name": "LayoutModel",
          "model_module_version": "1.2.0",
          "state": {
            "_model_module": "@jupyter-widgets/base",
            "_model_module_version": "1.2.0",
            "_model_name": "LayoutModel",
            "_view_count": null,
            "_view_module": "@jupyter-widgets/base",
            "_view_module_version": "1.2.0",
            "_view_name": "LayoutView",
            "align_content": null,
            "align_items": null,
            "align_self": null,
            "border": null,
            "bottom": null,
            "display": null,
            "flex": null,
            "flex_flow": null,
            "grid_area": null,
            "grid_auto_columns": null,
            "grid_auto_flow": null,
            "grid_auto_rows": null,
            "grid_column": null,
            "grid_gap": null,
            "grid_row": null,
            "grid_template_areas": null,
            "grid_template_columns": null,
            "grid_template_rows": null,
            "height": null,
            "justify_content": null,
            "justify_items": null,
            "left": null,
            "margin": null,
            "max_height": null,
            "max_width": null,
            "min_height": null,
            "min_width": null,
            "object_fit": null,
            "object_position": null,
            "order": null,
            "overflow": null,
            "overflow_x": null,
            "overflow_y": null,
            "padding": null,
            "right": null,
            "top": null,
            "visibility": null,
            "width": null
          }
        },
        "99ce0e6f878c4292908198e96c3c073c": {
          "model_module": "@jupyter-widgets/controls",
          "model_name": "ProgressStyleModel",
          "model_module_version": "1.5.0",
          "state": {
            "_model_module": "@jupyter-widgets/controls",
            "_model_module_version": "1.5.0",
            "_model_name": "ProgressStyleModel",
            "_view_count": null,
            "_view_module": "@jupyter-widgets/base",
            "_view_module_version": "1.2.0",
            "_view_name": "StyleView",
            "bar_color": null,
            "description_width": ""
          }
        },
        "1707335df48540c58bab88b201df338b": {
          "model_module": "@jupyter-widgets/base",
          "model_name": "LayoutModel",
          "model_module_version": "1.2.0",
          "state": {
            "_model_module": "@jupyter-widgets/base",
            "_model_module_version": "1.2.0",
            "_model_name": "LayoutModel",
            "_view_count": null,
            "_view_module": "@jupyter-widgets/base",
            "_view_module_version": "1.2.0",
            "_view_name": "LayoutView",
            "align_content": null,
            "align_items": null,
            "align_self": null,
            "border": null,
            "bottom": null,
            "display": null,
            "flex": null,
            "flex_flow": null,
            "grid_area": null,
            "grid_auto_columns": null,
            "grid_auto_flow": null,
            "grid_auto_rows": null,
            "grid_column": null,
            "grid_gap": null,
            "grid_row": null,
            "grid_template_areas": null,
            "grid_template_columns": null,
            "grid_template_rows": null,
            "height": null,
            "justify_content": null,
            "justify_items": null,
            "left": null,
            "margin": null,
            "max_height": null,
            "max_width": null,
            "min_height": null,
            "min_width": null,
            "object_fit": null,
            "object_position": null,
            "order": null,
            "overflow": null,
            "overflow_x": null,
            "overflow_y": null,
            "padding": null,
            "right": null,
            "top": null,
            "visibility": null,
            "width": null
          }
        },
        "35e6ad6c2bbe4b26b47746c1e232ae0c": {
          "model_module": "@jupyter-widgets/controls",
          "model_name": "DescriptionStyleModel",
          "model_module_version": "1.5.0",
          "state": {
            "_model_module": "@jupyter-widgets/controls",
            "_model_module_version": "1.5.0",
            "_model_name": "DescriptionStyleModel",
            "_view_count": null,
            "_view_module": "@jupyter-widgets/base",
            "_view_module_version": "1.2.0",
            "_view_name": "StyleView",
            "description_width": ""
          }
        }
      }
    }
  },
  "nbformat_minor": 0,
  "nbformat": 4,
  "cells": [
    {
      "cell_type": "markdown",
      "source": [
        "## Text classification using Neural Networks\n",
        "\n",
        "The goal of this notebook is to learn to use Neural Networks for text classification.\n",
        "\n",
        "In this notebook, we will:\n",
        "- Train a shallow model with learning embeddings\n",
        "- Download pre-trained embeddings from Glove\n",
        "- Use these pre-trained embeddings\n",
        "\n",
        "However keep in mind:\n",
        "- Deep Learning can be better on text classification that simpler ML techniques, but only on very large datasets and well designed/tuned models.\n",
        "- We won't be using the most efficient (in terms of computing) techniques, as Keras is good for prototyping but rather inefficient for training small embedding models on text.\n",
        "- The following projects can replicate similar word embedding models much more efficiently: [word2vec](https://github.com/dav/word2vec) and [gensim's word2vec](https://radimrehurek.com/gensim/models/word2vec.html)   (self-supervised learning only), [fastText](https://github.com/facebookresearch/fastText) (both supervised and self-supervised learning), [Vowpal Wabbit](https://github.com/JohnLangford/vowpal_wabbit/wiki) (supervised learning).\n",
        "- Plain shallow sparse TF-IDF bigrams features without any embedding and Logistic Regression or Multinomial Naive Bayes is often competitive in small to medium datasets.\n",
        "\n",
        "\n",
        "### 20 Newsgroups Dataset\n",
        "\n",
        "The 20 Newsgroups data set is a collection of approximately 20,000 newsgroup documents, partitioned (nearly) evenly across 20 different newsgroups http://qwone.com/~jason/20Newsgroups/"
      ],
      "metadata": {
        "deletable": true,
        "editable": true,
        "id": "q0Vzkkhj-580"
      }
    },
    {
      "cell_type": "code",
      "source": [
        "import numpy as np\n",
        "from sklearn.datasets import fetch_20newsgroups\n",
        "\n",
        "newsgroups_train = fetch_20newsgroups(subset='train')\n",
        "newsgroups_test = fetch_20newsgroups(subset='test')"
      ],
      "metadata": {
        "deletable": true,
        "editable": true,
        "jupyter": {
          "outputs_hidden": false
        },
        "trusted": true,
        "id": "ATCugKmH-581"
      },
      "execution_count": 1,
      "outputs": []
    },
    {
      "cell_type": "code",
      "source": [
        "sample_idx = 1000\n",
        "print(newsgroups_train[\"data\"][sample_idx])"
      ],
      "metadata": {
        "deletable": true,
        "editable": true,
        "jupyter": {
          "outputs_hidden": false
        },
        "trusted": true,
        "id": "FpaeV8HP-583",
        "outputId": "20e41524-44dc-49df-d89a-4021ec620c2b",
        "colab": {
          "base_uri": "https://localhost:8080/"
        }
      },
      "execution_count": 2,
      "outputs": [
        {
          "output_type": "stream",
          "name": "stdout",
          "text": [
            "From: dabl2@nlm.nih.gov (Don A.B. Lindbergh)\n",
            "Subject: Diamond SS24X, Win 3.1, Mouse cursor\n",
            "Organization: National Library of Medicine\n",
            "Lines: 10\n",
            "\n",
            "\n",
            "Anybody seen mouse cursor distortion running the Diamond 1024x768x256 driver?\n",
            "Sorry, don't know the version of the driver (no indication in the menus) but it's a recently\n",
            "delivered Gateway system.  Am going to try the latest drivers from Diamond BBS but wondered\n",
            "if anyone else had seen this.\n",
            "\n",
            "post or email\n",
            "\n",
            "--Don Lindbergh\n",
            "dabl2@lhc.nlm.nih.gov\n",
            "\n"
          ]
        }
      ]
    },
    {
      "cell_type": "code",
      "source": [
        "target_names = newsgroups_train[\"target_names\"]\n",
        "\n",
        "target_id = newsgroups_train[\"target\"][sample_idx]\n",
        "print(\"Class of previous message:\", target_names[target_id])"
      ],
      "metadata": {
        "deletable": true,
        "editable": true,
        "jupyter": {
          "outputs_hidden": false
        },
        "trusted": true,
        "id": "BpQr6dNR-583",
        "outputId": "2b6dea3a-3fac-4861-d1ae-37a3361af72d",
        "colab": {
          "base_uri": "https://localhost:8080/"
        }
      },
      "execution_count": 3,
      "outputs": [
        {
          "output_type": "stream",
          "name": "stdout",
          "text": [
            "Class of previous message: comp.os.ms-windows.misc\n"
          ]
        }
      ]
    },
    {
      "cell_type": "markdown",
      "source": [
        "Here are all the possible classes:"
      ],
      "metadata": {
        "deletable": true,
        "editable": true,
        "id": "CBwkdfWR-583"
      }
    },
    {
      "cell_type": "code",
      "source": [
        "target_names"
      ],
      "metadata": {
        "deletable": true,
        "editable": true,
        "jupyter": {
          "outputs_hidden": false
        },
        "trusted": true,
        "id": "oqkGH8kl-583",
        "outputId": "23003eb3-1795-4a77-be48-c8c3ea6bbed0",
        "colab": {
          "base_uri": "https://localhost:8080/"
        }
      },
      "execution_count": 4,
      "outputs": [
        {
          "output_type": "execute_result",
          "data": {
            "text/plain": [
              "['alt.atheism',\n",
              " 'comp.graphics',\n",
              " 'comp.os.ms-windows.misc',\n",
              " 'comp.sys.ibm.pc.hardware',\n",
              " 'comp.sys.mac.hardware',\n",
              " 'comp.windows.x',\n",
              " 'misc.forsale',\n",
              " 'rec.autos',\n",
              " 'rec.motorcycles',\n",
              " 'rec.sport.baseball',\n",
              " 'rec.sport.hockey',\n",
              " 'sci.crypt',\n",
              " 'sci.electronics',\n",
              " 'sci.med',\n",
              " 'sci.space',\n",
              " 'soc.religion.christian',\n",
              " 'talk.politics.guns',\n",
              " 'talk.politics.mideast',\n",
              " 'talk.politics.misc',\n",
              " 'talk.religion.misc']"
            ]
          },
          "metadata": {},
          "execution_count": 4
        }
      ]
    },
    {
      "cell_type": "code",
      "source": [
        "newsgroups_train[\"data\"][0]"
      ],
      "metadata": {
        "trusted": true,
        "id": "jazL1NHj-584",
        "outputId": "d3f110d8-64cc-4a3a-f41a-95ef819274f4",
        "colab": {
          "base_uri": "https://localhost:8080/",
          "height": 164
        }
      },
      "execution_count": 5,
      "outputs": [
        {
          "output_type": "execute_result",
          "data": {
            "text/plain": [
              "\"From: lerxst@wam.umd.edu (where's my thing)\\nSubject: WHAT car is this!?\\nNntp-Posting-Host: rac3.wam.umd.edu\\nOrganization: University of Maryland, College Park\\nLines: 15\\n\\n I was wondering if anyone out there could enlighten me on this car I saw\\nthe other day. It was a 2-door sports car, looked to be from the late 60s/\\nearly 70s. It was called a Bricklin. The doors were really small. In addition,\\nthe front bumper was separate from the rest of the body. This is \\nall I know. If anyone can tellme a model name, engine specs, years\\nof production, where this car is made, history, or whatever info you\\nhave on this funky looking car, please e-mail.\\n\\nThanks,\\n- IL\\n   ---- brought to you by your neighborhood Lerxst ----\\n\\n\\n\\n\\n\""
            ],
            "application/vnd.google.colaboratory.intrinsic+json": {
              "type": "string"
            }
          },
          "metadata": {},
          "execution_count": 5
        }
      ]
    },
    {
      "cell_type": "markdown",
      "source": [
        "### Preprocessing text for the (supervised) CBOW model\n",
        "\n",
        "We will implement a simple classification model with PyTorch. Raw text requires (sometimes a lot of) preprocessing.\n",
        "\n",
        "The following cells uses PyTorch to preprocess text:\n",
        "- using a tokenizer. You may use different tokenizers (from scikit-learn, NLTK, custom Python function etc.). This converts the texts into sequences of indices representing the `20000` most frequent words\n",
        "- sequences have different lengths, so we pad them (add 0s at the end until the sequence is of length `1000`)\n",
        "- we convert the output classes as 1-hot encodings"
      ],
      "metadata": {
        "deletable": true,
        "editable": true,
        "id": "fEo0IGmN-584"
      }
    },
    {
      "cell_type": "code",
      "source": [
        "from torchtext.data.utils import get_tokenizer\n",
        "from torchtext.vocab import build_vocab_from_iterator\n",
        "\n",
        "# Get the raw text data.\n",
        "texts_train = newsgroups_train[\"data\"]\n",
        "texts_test = newsgroups_test[\"data\"]\n",
        "\n",
        "tokenizer = get_tokenizer('basic_english')\n",
        "\n",
        "def yield_tokens(data_iter):\n",
        "    for text in data_iter:\n",
        "        yield tokenizer(text)\n",
        "\n",
        "vocab = build_vocab_from_iterator(yield_tokens(texts_train), specials=[\"<unk>\"], min_freq=5)\n",
        "vocab.set_default_index(vocab[\"<unk>\"])\n",
        "\n",
        "# See the impact of min_freq to reduce vocab size.\n",
        "len(vocab)"
      ],
      "metadata": {
        "trusted": true,
        "id": "vuUtFAYA-584",
        "outputId": "907743a0-c391-4721-c232-98a5e74bcd33",
        "colab": {
          "base_uri": "https://localhost:8080/"
        }
      },
      "execution_count": 6,
      "outputs": [
        {
          "output_type": "execute_result",
          "data": {
            "text/plain": [
              "32964"
            ]
          },
          "metadata": {},
          "execution_count": 6
        }
      ]
    },
    {
      "cell_type": "code",
      "source": [
        "tokenizer(newsgroups_train[\"data\"][0])"
      ],
      "metadata": {
        "scrolled": true,
        "trusted": true,
        "id": "242H_RBK-585",
        "outputId": "b7a9cf6b-5eb3-4be8-c897-627fd1ebf736",
        "colab": {
          "base_uri": "https://localhost:8080/"
        }
      },
      "execution_count": 7,
      "outputs": [
        {
          "output_type": "execute_result",
          "data": {
            "text/plain": [
              "['from',\n",
              " 'lerxst@wam',\n",
              " '.',\n",
              " 'umd',\n",
              " '.',\n",
              " 'edu',\n",
              " '(',\n",
              " 'where',\n",
              " \"'\",\n",
              " 's',\n",
              " 'my',\n",
              " 'thing',\n",
              " ')',\n",
              " 'subject',\n",
              " 'what',\n",
              " 'car',\n",
              " 'is',\n",
              " 'this',\n",
              " '!',\n",
              " '?',\n",
              " 'nntp-posting-host',\n",
              " 'rac3',\n",
              " '.',\n",
              " 'wam',\n",
              " '.',\n",
              " 'umd',\n",
              " '.',\n",
              " 'edu',\n",
              " 'organization',\n",
              " 'university',\n",
              " 'of',\n",
              " 'maryland',\n",
              " ',',\n",
              " 'college',\n",
              " 'park',\n",
              " 'lines',\n",
              " '15',\n",
              " 'i',\n",
              " 'was',\n",
              " 'wondering',\n",
              " 'if',\n",
              " 'anyone',\n",
              " 'out',\n",
              " 'there',\n",
              " 'could',\n",
              " 'enlighten',\n",
              " 'me',\n",
              " 'on',\n",
              " 'this',\n",
              " 'car',\n",
              " 'i',\n",
              " 'saw',\n",
              " 'the',\n",
              " 'other',\n",
              " 'day',\n",
              " '.',\n",
              " 'it',\n",
              " 'was',\n",
              " 'a',\n",
              " '2-door',\n",
              " 'sports',\n",
              " 'car',\n",
              " ',',\n",
              " 'looked',\n",
              " 'to',\n",
              " 'be',\n",
              " 'from',\n",
              " 'the',\n",
              " 'late',\n",
              " '60s/',\n",
              " 'early',\n",
              " '70s',\n",
              " '.',\n",
              " 'it',\n",
              " 'was',\n",
              " 'called',\n",
              " 'a',\n",
              " 'bricklin',\n",
              " '.',\n",
              " 'the',\n",
              " 'doors',\n",
              " 'were',\n",
              " 'really',\n",
              " 'small',\n",
              " '.',\n",
              " 'in',\n",
              " 'addition',\n",
              " ',',\n",
              " 'the',\n",
              " 'front',\n",
              " 'bumper',\n",
              " 'was',\n",
              " 'separate',\n",
              " 'from',\n",
              " 'the',\n",
              " 'rest',\n",
              " 'of',\n",
              " 'the',\n",
              " 'body',\n",
              " '.',\n",
              " 'this',\n",
              " 'is',\n",
              " 'all',\n",
              " 'i',\n",
              " 'know',\n",
              " '.',\n",
              " 'if',\n",
              " 'anyone',\n",
              " 'can',\n",
              " 'tellme',\n",
              " 'a',\n",
              " 'model',\n",
              " 'name',\n",
              " ',',\n",
              " 'engine',\n",
              " 'specs',\n",
              " ',',\n",
              " 'years',\n",
              " 'of',\n",
              " 'production',\n",
              " ',',\n",
              " 'where',\n",
              " 'this',\n",
              " 'car',\n",
              " 'is',\n",
              " 'made',\n",
              " ',',\n",
              " 'history',\n",
              " ',',\n",
              " 'or',\n",
              " 'whatever',\n",
              " 'info',\n",
              " 'you',\n",
              " 'have',\n",
              " 'on',\n",
              " 'this',\n",
              " 'funky',\n",
              " 'looking',\n",
              " 'car',\n",
              " ',',\n",
              " 'please',\n",
              " 'e-mail',\n",
              " '.',\n",
              " 'thanks',\n",
              " ',',\n",
              " '-',\n",
              " 'il',\n",
              " '----',\n",
              " 'brought',\n",
              " 'to',\n",
              " 'you',\n",
              " 'by',\n",
              " 'your',\n",
              " 'neighborhood',\n",
              " 'lerxst',\n",
              " '----']"
            ]
          },
          "metadata": {},
          "execution_count": 7
        }
      ]
    },
    {
      "cell_type": "code",
      "source": [
        "text_pipeline = lambda x: vocab(tokenizer(x))"
      ],
      "metadata": {
        "scrolled": true,
        "trusted": true,
        "id": "oUT19jmv-585"
      },
      "execution_count": 8,
      "outputs": []
    },
    {
      "cell_type": "code",
      "source": [
        "print(f\"Vocab size : {len(vocab)}.\")"
      ],
      "metadata": {
        "deletable": true,
        "editable": true,
        "jupyter": {
          "outputs_hidden": false
        },
        "trusted": true,
        "id": "r0T7sa-4-586",
        "outputId": "a18323aa-20cc-4f98-b5de-d8056320e1a6",
        "colab": {
          "base_uri": "https://localhost:8080/"
        }
      },
      "execution_count": 9,
      "outputs": [
        {
          "output_type": "stream",
          "name": "stdout",
          "text": [
            "Vocab size : 32964.\n"
          ]
        }
      ]
    },
    {
      "cell_type": "markdown",
      "source": [
        "Tokenized sequences are converted to list of token ids (with an integer code):"
      ],
      "metadata": {
        "deletable": true,
        "editable": true,
        "id": "InYTM3Sb-586"
      }
    },
    {
      "cell_type": "code",
      "source": [
        "text_pipeline(texts_train[0])"
      ],
      "metadata": {
        "deletable": true,
        "editable": true,
        "scrolled": true,
        "jupyter": {
          "outputs_hidden": false
        },
        "trusted": true,
        "id": "x55d0g2W-586",
        "outputId": "07435b36-29df-40ee-fc64-c5d684f92779",
        "colab": {
          "base_uri": "https://localhost:8080/"
        }
      },
      "execution_count": 10,
      "outputs": [
        {
          "output_type": "execute_result",
          "data": {
            "text/plain": [
              "[22,\n",
              " 0,\n",
              " 1,\n",
              " 1297,\n",
              " 1,\n",
              " 30,\n",
              " 7,\n",
              " 145,\n",
              " 4,\n",
              " 25,\n",
              " 52,\n",
              " 245,\n",
              " 6,\n",
              " 39,\n",
              " 50,\n",
              " 294,\n",
              " 14,\n",
              " 24,\n",
              " 21,\n",
              " 16,\n",
              " 96,\n",
              " 24751,\n",
              " 1,\n",
              " 7637,\n",
              " 1,\n",
              " 1297,\n",
              " 1,\n",
              " 30,\n",
              " 42,\n",
              " 85,\n",
              " 8,\n",
              " 2806,\n",
              " 2,\n",
              " 605,\n",
              " 1748,\n",
              " 40,\n",
              " 266,\n",
              " 12,\n",
              " 35,\n",
              " 1301,\n",
              " 36,\n",
              " 157,\n",
              " 76,\n",
              " 51,\n",
              " 118,\n",
              " 9414,\n",
              " 71,\n",
              " 23,\n",
              " 24,\n",
              " 294,\n",
              " 12,\n",
              " 689,\n",
              " 3,\n",
              " 90,\n",
              " 278,\n",
              " 1,\n",
              " 17,\n",
              " 35,\n",
              " 10,\n",
              " 28921,\n",
              " 2282,\n",
              " 294,\n",
              " 2,\n",
              " 1126,\n",
              " 5,\n",
              " 26,\n",
              " 22,\n",
              " 3,\n",
              " 1341,\n",
              " 0,\n",
              " 823,\n",
              " 9309,\n",
              " 1,\n",
              " 17,\n",
              " 35,\n",
              " 353,\n",
              " 10,\n",
              " 0,\n",
              " 1,\n",
              " 3,\n",
              " 3998,\n",
              " 89,\n",
              " 173,\n",
              " 501,\n",
              " 1,\n",
              " 13,\n",
              " 1322,\n",
              " 2,\n",
              " 3,\n",
              " 852,\n",
              " 7863,\n",
              " 35,\n",
              " 1760,\n",
              " 22,\n",
              " 3,\n",
              " 800,\n",
              " 8,\n",
              " 3,\n",
              " 756,\n",
              " 1,\n",
              " 24,\n",
              " 14,\n",
              " 56,\n",
              " 12,\n",
              " 91,\n",
              " 1,\n",
              " 36,\n",
              " 157,\n",
              " 43,\n",
              " 0,\n",
              " 10,\n",
              " 872,\n",
              " 303,\n",
              " 2,\n",
              " 1064,\n",
              " 2789,\n",
              " 2,\n",
              " 189,\n",
              " 8,\n",
              " 2870,\n",
              " 2,\n",
              " 145,\n",
              " 24,\n",
              " 294,\n",
              " 14,\n",
              " 235,\n",
              " 2,\n",
              " 617,\n",
              " 2,\n",
              " 34,\n",
              " 808,\n",
              " 411,\n",
              " 20,\n",
              " 29,\n",
              " 23,\n",
              " 24,\n",
              " 24023,\n",
              " 381,\n",
              " 294,\n",
              " 2,\n",
              " 171,\n",
              " 441,\n",
              " 1,\n",
              " 215,\n",
              " 2,\n",
              " 41,\n",
              " 1541,\n",
              " 975,\n",
              " 1298,\n",
              " 5,\n",
              " 20,\n",
              " 44,\n",
              " 64,\n",
              " 7751,\n",
              " 0,\n",
              " 975]"
            ]
          },
          "metadata": {},
          "execution_count": 10
        }
      ]
    },
    {
      "cell_type": "markdown",
      "source": [
        "The tokenizer object stores a mapping (vocabulary) from word strings to token ids that can be inverted to reconstruct the original message (without formatting):"
      ],
      "metadata": {
        "deletable": true,
        "editable": true,
        "id": "GN6KClp0-586"
      }
    },
    {
      "cell_type": "code",
      "source": [
        "\" \".join(vocab.lookup_tokens(text_pipeline(texts_train[0])))"
      ],
      "metadata": {
        "deletable": true,
        "editable": true,
        "jupyter": {
          "outputs_hidden": false
        },
        "scrolled": true,
        "trusted": true,
        "id": "STDuEc1w-586",
        "outputId": "be600ce8-79c5-4424-f44c-e0750e0e1263",
        "colab": {
          "base_uri": "https://localhost:8080/",
          "height": 164
        }
      },
      "execution_count": 11,
      "outputs": [
        {
          "output_type": "execute_result",
          "data": {
            "text/plain": [
              "\"from <unk> . umd . edu ( where ' s my thing ) subject what car is this ! ? nntp-posting-host rac3 . wam . umd . edu organization university of maryland , college park lines 15 i was wondering if anyone out there could enlighten me on this car i saw the other day . it was a 2-door sports car , looked to be from the late <unk> early 70s . it was called a <unk> . the doors were really small . in addition , the front bumper was separate from the rest of the body . this is all i know . if anyone can <unk> a model name , engine specs , years of production , where this car is made , history , or whatever info you have on this funky looking car , please e-mail . thanks , - il ---- brought to you by your neighborhood <unk> ----\""
            ],
            "application/vnd.google.colaboratory.intrinsic+json": {
              "type": "string"
            }
          },
          "metadata": {},
          "execution_count": 11
        }
      ]
    },
    {
      "cell_type": "code",
      "source": [
        "texts_train[0]"
      ],
      "metadata": {
        "trusted": true,
        "id": "UoWgqYFY-586",
        "outputId": "fd7f89e3-21bc-490f-fa46-d574146705c4",
        "colab": {
          "base_uri": "https://localhost:8080/",
          "height": 164
        }
      },
      "execution_count": 12,
      "outputs": [
        {
          "output_type": "execute_result",
          "data": {
            "text/plain": [
              "\"From: lerxst@wam.umd.edu (where's my thing)\\nSubject: WHAT car is this!?\\nNntp-Posting-Host: rac3.wam.umd.edu\\nOrganization: University of Maryland, College Park\\nLines: 15\\n\\n I was wondering if anyone out there could enlighten me on this car I saw\\nthe other day. It was a 2-door sports car, looked to be from the late 60s/\\nearly 70s. It was called a Bricklin. The doors were really small. In addition,\\nthe front bumper was separate from the rest of the body. This is \\nall I know. If anyone can tellme a model name, engine specs, years\\nof production, where this car is made, history, or whatever info you\\nhave on this funky looking car, please e-mail.\\n\\nThanks,\\n- IL\\n   ---- brought to you by your neighborhood Lerxst ----\\n\\n\\n\\n\\n\""
            ],
            "application/vnd.google.colaboratory.intrinsic+json": {
              "type": "string"
            }
          },
          "metadata": {},
          "execution_count": 12
        }
      ]
    },
    {
      "cell_type": "markdown",
      "source": [
        "Let's have a closer look at the tokenized sequences:"
      ],
      "metadata": {
        "deletable": true,
        "editable": true,
        "id": "NTBe0Rlv-587"
      }
    },
    {
      "cell_type": "code",
      "source": [
        "sequences = [text_pipeline(item) for item in texts_train]\n",
        "sequences_test = [text_pipeline(item) for item in texts_test]\n",
        "\n",
        "sequences[0][:10]"
      ],
      "metadata": {
        "deletable": true,
        "editable": true,
        "jupyter": {
          "outputs_hidden": false
        },
        "trusted": true,
        "id": "c7LYsfns-587",
        "outputId": "21b90dbf-a0b0-4173-d290-f0248ecc3663",
        "colab": {
          "base_uri": "https://localhost:8080/"
        }
      },
      "execution_count": 13,
      "outputs": [
        {
          "output_type": "execute_result",
          "data": {
            "text/plain": [
              "[22, 0, 1, 1297, 1, 30, 7, 145, 4, 25]"
            ]
          },
          "metadata": {},
          "execution_count": 13
        }
      ]
    },
    {
      "cell_type": "code",
      "source": [
        "seq_lens = [len(s) for s in sequences]\n",
        "print(\"average length: %0.1f\" % np.mean(seq_lens))\n",
        "print(\"max length: %d\" % max(seq_lens))"
      ],
      "metadata": {
        "colab": {
          "base_uri": "https://localhost:8080/"
        },
        "id": "MbzFInW07hFA",
        "outputId": "287ef636-35a3-488b-cc47-1787bb6e3633"
      },
      "execution_count": 14,
      "outputs": [
        {
          "output_type": "stream",
          "name": "stdout",
          "text": [
            "average length: 393.2\n",
            "max length: 26314\n"
          ]
        }
      ]
    },
    {
      "cell_type": "code",
      "source": [
        "%matplotlib inline\n",
        "import matplotlib.pyplot as plt\n",
        "\n",
        "plt.hist(seq_lens, bins=50);"
      ],
      "metadata": {
        "deletable": true,
        "editable": true,
        "jupyter": {
          "outputs_hidden": false
        },
        "trusted": true,
        "id": "wb6DYCgf-58-",
        "outputId": "3c2bf429-083c-403f-98f0-3435dffaa753",
        "colab": {
          "base_uri": "https://localhost:8080/",
          "height": 430
        }
      },
      "execution_count": 15,
      "outputs": [
        {
          "output_type": "display_data",
          "data": {
            "text/plain": [
              "<Figure size 640x480 with 1 Axes>"
            ],
            "image/png": "[encoded data removed]"
          },
          "metadata": {}
        }
      ]
    },
    {
      "cell_type": "markdown",
      "source": [
        "Let's zoom on the distribution of regular sized posts. The vast majority of the posts have less than 1000 symbols:"
      ],
      "metadata": {
        "deletable": true,
        "editable": true,
        "id": "QEqxgLqj-58-"
      }
    },
    {
      "cell_type": "code",
      "source": [
        "plt.hist([l for l in seq_lens if l < 3000], bins=50);"
      ],
      "metadata": {
        "deletable": true,
        "editable": true,
        "jupyter": {
          "outputs_hidden": false
        },
        "trusted": true,
        "id": "E_oLBdcy-58-",
        "outputId": "8a2c9509-fef7-425f-975b-dc2f880ab80e",
        "colab": {
          "base_uri": "https://localhost:8080/",
          "height": 430
        }
      },
      "execution_count": 16,
      "outputs": [
        {
          "output_type": "display_data",
          "data": {
            "text/plain": [
              "<Figure size 640x480 with 1 Axes>"
            ],
            "image/png": "[encoded data removed]"
          },
          "metadata": {}
        }
      ]
    },
    {
      "cell_type": "markdown",
      "source": [
        "Let's truncate and pad all the sequences to 1000 symbols to build the training set:"
      ],
      "metadata": {
        "deletable": true,
        "editable": true,
        "id": "NWMlNtuM-58-"
      }
    },
    {
      "cell_type": "code",
      "source": [
        "def pad_sequences(sequences, maxlen=1000):\n",
        "    padded = np.zeros(shape=(len(sequences), maxlen), dtype=np.int32)\n",
        "    for i, seq in enumerate(sequences):\n",
        "        seq = seq[:maxlen]\n",
        "        padded[i, 0:len(seq)] = seq\n",
        "    return padded\n",
        "\n",
        "\n",
        "# Pad sequences with 0s.\n",
        "x_train = pad_sequences(sequences)\n",
        "x_test = pad_sequences(sequences_test)\n",
        "\n",
        "print('Shape of data tensor:', x_train.shape)\n",
        "print('Shape of data test tensor:', x_test.shape)"
      ],
      "metadata": {
        "deletable": true,
        "editable": true,
        "jupyter": {
          "outputs_hidden": false
        },
        "trusted": true,
        "id": "I1-NdWCw-58-",
        "outputId": "fc40c2b4-2bf5-4271-ecff-b45a3c5a02b3",
        "colab": {
          "base_uri": "https://localhost:8080/"
        }
      },
      "execution_count": 17,
      "outputs": [
        {
          "output_type": "stream",
          "name": "stdout",
          "text": [
            "Shape of data tensor: (11314, 1000)\n",
            "Shape of data test tensor: (7532, 1000)\n"
          ]
        }
      ]
    },
    {
      "cell_type": "code",
      "source": [
        "y_train = newsgroups_train[\"target\"]\n",
        "y_test = newsgroups_test[\"target\"]"
      ],
      "metadata": {
        "deletable": true,
        "editable": true,
        "jupyter": {
          "outputs_hidden": false
        },
        "trusted": true,
        "id": "BXkN-Ir--58-"
      },
      "execution_count": 18,
      "outputs": []
    },
    {
      "cell_type": "markdown",
      "source": [
        "### A simple supervised CBOW model in PyTorch\n",
        "\n",
        "\n",
        "\n",
        "\n",
        "\n",
        "\n",
        "\n",
        "\n",
        "\n",
        "\n",
        "\n",
        "\n",
        "\n",
        "\n",
        "\n",
        "\n",
        "The following computes a very simple model, as described in [fastText](https://github.com/facebookresearch/fastText):\n",
        "\n",
        "<img src=\"https://raw.githubusercontent.com/m2dsupsdlclass/lectures-labs/6ccf141172e47a3d9e367620b4d70e1c9564e9d2/labs/06_deep_nlp/images/fasttext.svg\" style=\"width: 600px;\" />\n",
        "\n",
        "- Build an embedding layer mapping each word to a vector representation\n",
        "- Compute the vector representation of all words in each sequence and average them\n",
        "- Add a dense layer to output 20 classes (+ softmax)"
      ],
      "metadata": {
        "deletable": true,
        "editable": true,
        "id": "RoQzcsZa-58_"
      }
    },
    {
      "cell_type": "code",
      "source": [
        "%pip install -q torchmetrics"
      ],
      "metadata": {
        "id": "iWg1Q-ct_taQ"
      },
      "execution_count": 19,
      "outputs": []
    },
    {
      "cell_type": "code",
      "source": [
        "import torch\n",
        "import torch.nn as nn\n",
        "\n",
        "from tqdm.notebook import tqdm\n",
        "from torchmetrics import Accuracy\n",
        "from torch.utils.data import DataLoader\n",
        "\n",
        "DEVICE = torch.device(\"cuda\") if torch.cuda.is_available() else torch.device(\"cpu\")\n",
        "DEVICE"
      ],
      "metadata": {
        "trusted": true,
        "id": "fiuqdqU0-58_",
        "outputId": "841654f3-d119-49e5-d50d-5e2915b5ba30",
        "colab": {
          "base_uri": "https://localhost:8080/"
        }
      },
      "execution_count": 20,
      "outputs": [
        {
          "output_type": "execute_result",
          "data": {
            "text/plain": [
              "device(type='cpu')"
            ]
          },
          "metadata": {},
          "execution_count": 20
        }
      ]
    },
    {
      "cell_type": "code",
      "source": [
        "EMBEDDING_DIM = 50\n",
        "N_CLASSES = len(target_names)\n",
        "\n",
        "class TextClassificationModel(nn.Module):\n",
        "\n",
        "    def __init__(\n",
        "        self,\n",
        "        vocab_size,\n",
        "        embed_dim,\n",
        "        num_class,\n",
        "        embedding_bag=None\n",
        "    ):\n",
        "        super(TextClassificationModel, self).__init__()\n",
        "        if embedding_bag:\n",
        "            # If we use use pretrained.\n",
        "            self.embedding = embedding_bag\n",
        "            self.embedding.weight.requires_grad = False # Freeze embeddings.\n",
        "        else:\n",
        "            self.embedding = nn.EmbeddingBag(vocab_size, embed_dim, mode=\"mean\")\n",
        "        self.fc = nn.Linear(embed_dim, num_class)\n",
        "\n",
        "    def forward(self, text):\n",
        "        embedded = self.embedding(text)\n",
        "        out = self.fc(embedded)\n",
        "        return out\n",
        "\n",
        "model = TextClassificationModel(\n",
        "    vocab_size=len(vocab), embed_dim=EMBEDDING_DIM, num_class=N_CLASSES\n",
        ")"
      ],
      "metadata": {
        "trusted": true,
        "id": "T4RsJEFs-58_"
      },
      "execution_count": 21,
      "outputs": []
    },
    {
      "cell_type": "code",
      "source": [
        "train_data = []\n",
        "for i in range(len(x_train)):\n",
        "    train_data.append([x_train[i], y_train[i]])\n",
        "\n",
        "test_data = []\n",
        "for i in range(len(x_test)):\n",
        "    test_data.append([x_test[i], y_test[i]])\n",
        "\n",
        "\n",
        "train_dl = DataLoader(train_data, batch_size=256, shuffle=True)\n",
        "test_dl = DataLoader(test_data, batch_size=256, shuffle=True)"
      ],
      "metadata": {
        "trusted": true,
        "id": "Jxdk7TEo-58_"
      },
      "execution_count": 22,
      "outputs": []
    },
    {
      "cell_type": "code",
      "source": [
        "LEARNING_RATE = 1e-2\n",
        "WEIGHT_DECAY = 0\n",
        "\n",
        "optimizer = torch.optim.Adam(params=model.parameters(), lr=LEARNING_RATE, weight_decay=WEIGHT_DECAY)\n",
        "criterion = torch.nn.CrossEntropyLoss()\n",
        "\n",
        "N_EPOCHS = 100\n",
        "\n",
        "model.to(DEVICE)\n",
        "\n",
        "pbar = tqdm(range(N_EPOCHS))\n",
        "\n",
        "val_acc = Accuracy(\"multiclass\", num_classes=N_CLASSES).to(DEVICE)\n",
        "train_acc = Accuracy(\"multiclass\", num_classes=N_CLASSES).to(DEVICE)\n",
        "\n",
        "for epoch in pbar:\n",
        "    model.train()\n",
        "    for b in train_dl:\n",
        "        x, y = b\n",
        "        x = x.to(DEVICE)\n",
        "        y = y.to(DEVICE)\n",
        "\n",
        "        preds = model(x)\n",
        "\n",
        "        loss = criterion(preds, y)\n",
        "        train_acc.update(preds, y)\n",
        "\n",
        "\n",
        "        loss.backward()\n",
        "        optimizer.step()\n",
        "        optimizer.zero_grad()\n",
        "\n",
        "    epoch_train_acc = train_acc.compute()\n",
        "    train_acc.reset()\n",
        "\n",
        "\n",
        "    model.eval()\n",
        "    with torch.no_grad():\n",
        "        for b in test_dl:\n",
        "            x, y = b\n",
        "            x = x.to(DEVICE)\n",
        "            y = y.to(DEVICE)\n",
        "\n",
        "            val_acc.update(model(x), y)\n",
        "\n",
        "        epoch_val_acc = val_acc.compute()\n",
        "\n",
        "        val_acc.reset()\n",
        "\n",
        "    pbar.set_description(\n",
        "        f\"Epoch {epoch}, Loss : {loss.item():.2f}, \"\n",
        "        f\"Val : {epoch_val_acc.item():.2f}, \"\n",
        "        f\"Train : {epoch_train_acc.item():.2f}\"\n",
        "    )\n"
      ],
      "metadata": {
        "trusted": true,
        "id": "CweeklnV-58_",
        "outputId": "66b54d04-4ac9-49a3-938d-cbd3ad7bec52",
        "colab": {
          "base_uri": "https://localhost:8080/",
          "height": 49,
          "referenced_widgets": [
            "a30401232632417fa237a89405af3bab",
            "a2886ccd7861481ab492188d38db990b",
            "e28a3e72e06744e58c6f943f83f86b84",
            "39e2f76fbe6e4386b6d303621af838c9",
            "8edad1720f554c25827768afc649533c",
            "d25967f457734affa2f40b8235cb73a9",
            "31ca051c7cb64075aaf0ac34ad2965a0",
            "306e2cbd1b3346e8be4f54b42c5c15b3",
            "0391b5e75cff49e8b8c9f712124fe189",
            "74f1b23c489c4531852605cf0733f9d2",
            "2e122a1a51c947aab4f06b174379f1f6"
          ]
        }
      },
      "execution_count": 23,
      "outputs": [
        {
          "output_type": "display_data",
          "data": {
            "text/plain": [
              "  0%|          | 0/100 [00:00<?, ?it/s]"
            ],
            "application/vnd.jupyter.widget-view+json": {
              "version_major": 2,
              "version_minor": 0,
              "model_id": "a30401232632417fa237a89405af3bab"
            }
          },
          "metadata": {}
        }
      ]
    },
    {
      "cell_type": "markdown",
      "source": [
        "### Building more complex models\n",
        "\n",
        "**Exercise**\n",
        "- From the previous template, build more complex models using:\n",
        "  - 1d convolution and 1d maxpooling.\n",
        "  - Recurrent neural networks through LSTM (you will need to reduce sequence length before)\n",
        "  \n",
        "  \n",
        "<img src=\"https://raw.githubusercontent.com/m2dsupsdlclass/lectures-labs/6ccf141172e47a3d9e367620b4d70e1c9564e9d2/labs/06_deep_nlp/images/unrolled_rnn_one_output_2.svg\" style=\"width: 600px;\" />\n",
        "\n",
        "**Bonus**\n",
        "- You may try different architectures with:\n",
        "  - more intermediate layers, combination of dense, conv, recurrent\n",
        "  - different recurrent (GRU, RNN)\n",
        "  - bidirectional LSTMs\n",
        "\n",
        "Note: The goal is to build working models rather than getting better test accuracy. To achieve much better results, we'd need more computation time and data quantity. Build your model, and verify that they converge to OK results."
      ],
      "metadata": {
        "deletable": true,
        "editable": true,
        "id": "NXLAMazn-58_"
      }
    },
    {
      "cell_type": "markdown",
      "source": [
        "### LSTM model !"
      ],
      "metadata": {
        "id": "7WyNn1hz-59A"
      }
    },
    {
      "cell_type": "code",
      "source": [
        "EMBEDDING_DIM = 50\n",
        "N_CLASSES = len(target_names)\n",
        "\n",
        "class LstmTextClassificationModel(nn.Module):\n",
        "\n",
        "    def __init__(self, vocab_size, embed_dim, num_class, embedding=None):\n",
        "        super(LstmTextClassificationModel, self).__init__()\n",
        "\n",
        "        if embedding:\n",
        "            # If we use use pretrained.\n",
        "            self.embedding = embedding\n",
        "            self.embeddings.weight.requires_grad = False # Freeze embeddings.\n",
        "        else:\n",
        "            self.embedding = nn.Embedding(vocab_size, embed_dim)\n",
        "\n",
        "        self.conv1 = nn.Sequential(\n",
        "            nn.Conv1d(in_channels=50, out_channels=64, kernel_size=5),\n",
        "            nn.MaxPool1d(5),\n",
        "            nn.Dropout(p=0.5),\n",
        "            nn.ReLU()\n",
        "        )\n",
        "\n",
        "        self.conv2 = nn.Sequential(\n",
        "            nn.Conv1d(in_channels=64, out_channels=64, kernel_size=5),\n",
        "            nn.MaxPool1d(5),\n",
        "            nn.Dropout(p=0.5),\n",
        "            nn.ReLU()\n",
        "        )\n",
        "\n",
        "        self.lstm = nn.Sequential(\n",
        "            nn.LSTM(input_size=64, hidden_size=64, num_layers=1, batch_first=True),\n",
        "        )\n",
        "\n",
        "        self.fc = nn.Sequential(nn.ReLU(), nn.Dropout(p=0.5), nn.Linear(64, num_class))\n",
        "\n",
        "    def forward(self, text):\n",
        "        x = self.embedding(text)\n",
        "        x = x.transpose(1, 2) # To have the proper representation for 1d convs.\n",
        "        x = self.conv1(x)\n",
        "        x = self.conv2(x)\n",
        "        x = x.transpose(1, 2)\n",
        "        x, (ht, ct) = self.lstm(x)\n",
        "        out = self.fc(ht.reshape(x.shape[0], -1)) # Use the last hidden layer.\n",
        "        return out\n",
        "\n",
        "model = LstmTextClassificationModel(vocab_size=len(vocab), embed_dim=EMBEDDING_DIM, num_class=N_CLASSES)"
      ],
      "metadata": {
        "trusted": true,
        "id": "Rm5qQ7Cu-59A"
      },
      "execution_count": 24,
      "outputs": []
    },
    {
      "cell_type": "code",
      "source": [
        "LEARNING_RATE = 1e-3\n",
        "WEIGHT_DECAY = 1e-4\n",
        "\n",
        "optimizer = torch.optim.Adam(params=model.parameters(), lr=LEARNING_RATE, weight_decay=WEIGHT_DECAY)\n",
        "criterion = torch.nn.CrossEntropyLoss()\n",
        "\n",
        "N_EPOCHS = 300\n",
        "\n",
        "model.to(DEVICE)\n",
        "\n",
        "pbar = tqdm(range(N_EPOCHS))\n",
        "\n",
        "val_acc = Accuracy(\"multiclass\", num_classes=N_CLASSES).to(DEVICE)\n",
        "train_acc = Accuracy(\"multiclass\", num_classes=N_CLASSES).to(DEVICE)\n",
        "\n",
        "for epoch in pbar:\n",
        "    model.train()\n",
        "    for b in train_dl:\n",
        "        x, y = b\n",
        "        x = x.to(DEVICE)\n",
        "        y = y.to(DEVICE)\n",
        "\n",
        "        preds = model(x)\n",
        "\n",
        "        loss = criterion(preds, y)\n",
        "        train_acc.update(preds, y)\n",
        "\n",
        "\n",
        "        loss.backward()\n",
        "        optimizer.step()\n",
        "        optimizer.zero_grad()\n",
        "\n",
        "    epoch_train_acc = train_acc.compute()\n",
        "    train_acc.reset()\n",
        "\n",
        "\n",
        "    model.eval()\n",
        "    with torch.no_grad():\n",
        "        for b in test_dl:\n",
        "            x, y = b\n",
        "            x = x.to(DEVICE)\n",
        "            y = y.to(DEVICE)\n",
        "\n",
        "            val_acc.update(model(x), y)\n",
        "\n",
        "        epoch_val_acc = val_acc.compute()\n",
        "\n",
        "        val_acc.reset()\n",
        "\n",
        "    pbar.set_description(f\"Epoch {epoch}, Loss : {loss.item():.2f}, Val : {epoch_val_acc.item():.2f}, Train : {epoch_train_acc.item():.2f}\")"
      ],
      "metadata": {
        "trusted": true,
        "id": "a1z48_wz-59A",
        "colab": {
          "base_uri": "https://localhost:8080/",
          "height": 475,
          "referenced_widgets": [
            "ed3f9b1e5a5146cbacb9f0a3de85401f",
            "4f28b2ac7b78455c87fe6135953b7cda",
            "0ec11fcced704deaa8c853ad2d64a394",
            "b54d7488fa0248208078b34221b1dad6",
            "b725bf92c3b6496786ec77376bf57486",
            "7767a64a977b4834ac801c77ed6802d9",
            "c8003ee4d4c54aa0a68767b3ad003f9f",
            "ebef1d3ec5fd455e8db2f4d784af9ce2",
            "99ce0e6f878c4292908198e96c3c073c",
            "1707335df48540c58bab88b201df338b",
            "35e6ad6c2bbe4b26b47746c1e232ae0c"
          ]
        },
        "outputId": "1ee85259-8cce-43fc-bfd3-6c178341cb39"
      },
      "execution_count": 25,
      "outputs": [
        {
          "data": {
            "application/vnd.jupyter.widget-view+json": {
              "model_id": "ed3f9b1e5a5146cbacb9f0a3de85401f",
              "version_major": 2,
              "version_minor": 0
            },
            "text/plain": [
              "  0%|          | 0/300 [00:00<?, ?it/s]"
            ]
          },
          "metadata": {},
          "output_type": "display_data"
        },
        {
          "output_type": "error",
          "ename": "KeyboardInterrupt",
          "evalue": "ignored",
          "traceback": [
            "\u001b[0;31m---------------------------------------------------------------------------\u001b[0m",
            "\u001b[0;31mKeyboardInterrupt\u001b[0m                         Traceback (most recent call last)",
            "\u001b[0;32m<ipython-input-25-5ebcd4ba897f>\u001b[0m in \u001b[0;36m<cell line: 16>\u001b[0;34m()\u001b[0m\n\u001b[1;32m     27\u001b[0m \u001b[0;34m\u001b[0m\u001b[0m\n\u001b[1;32m     28\u001b[0m \u001b[0;34m\u001b[0m\u001b[0m\n\u001b[0;32m---> 29\u001b[0;31m         \u001b[0mloss\u001b[0m\u001b[0;34m.\u001b[0m\u001b[0mbackward\u001b[0m\u001b[0;34m(\u001b[0m\u001b[0;34m)\u001b[0m\u001b[0;34m\u001b[0m\u001b[0;34m\u001b[0m\u001b[0m\n\u001b[0m\u001b[1;32m     30\u001b[0m         \u001b[0moptimizer\u001b[0m\u001b[0;34m.\u001b[0m\u001b[0mstep\u001b[0m\u001b[0;34m(\u001b[0m\u001b[0;34m)\u001b[0m\u001b[0;34m\u001b[0m\u001b[0;34m\u001b[0m\u001b[0m\n\u001b[1;32m     31\u001b[0m         \u001b[0moptimizer\u001b[0m\u001b[0;34m.\u001b[0m\u001b[0mzero_grad\u001b[0m\u001b[0;34m(\u001b[0m\u001b[0;34m)\u001b[0m\u001b[0;34m\u001b[0m\u001b[0;34m\u001b[0m\u001b[0m\n",
            "\u001b[0;32m/usr/local/lib/python3.10/dist-packages/torch/_tensor.py\u001b[0m in \u001b[0;36mbackward\u001b[0;34m(self, gradient, retain_graph, create_graph, inputs)\u001b[0m\n\u001b[1;32m    490\u001b[0m                 \u001b[0minputs\u001b[0m\u001b[0;34m=\u001b[0m\u001b[0minputs\u001b[0m\u001b[0;34m,\u001b[0m\u001b[0;34m\u001b[0m\u001b[0;34m\u001b[0m\u001b[0m\n\u001b[1;32m    491\u001b[0m             )\n\u001b[0;32m--> 492\u001b[0;31m         torch.autograd.backward(\n\u001b[0m\u001b[1;32m    493\u001b[0m             \u001b[0mself\u001b[0m\u001b[0;34m,\u001b[0m \u001b[0mgradient\u001b[0m\u001b[0;34m,\u001b[0m \u001b[0mretain_graph\u001b[0m\u001b[0;34m,\u001b[0m \u001b[0mcreate_graph\u001b[0m\u001b[0;34m,\u001b[0m \u001b[0minputs\u001b[0m\u001b[0;34m=\u001b[0m\u001b[0minputs\u001b[0m\u001b[0;34m\u001b[0m\u001b[0;34m\u001b[0m\u001b[0m\n\u001b[1;32m    494\u001b[0m         )\n",
            "\u001b[0;32m/usr/local/lib/python3.10/dist-packages/torch/autograd/__init__.py\u001b[0m in \u001b[0;36mbackward\u001b[0;34m(tensors, grad_tensors, retain_graph, create_graph, grad_variables, inputs)\u001b[0m\n\u001b[1;32m    249\u001b[0m     \u001b[0;31m# some Python versions print out the first line of a multi-line function\u001b[0m\u001b[0;34m\u001b[0m\u001b[0;34m\u001b[0m\u001b[0m\n\u001b[1;32m    250\u001b[0m     \u001b[0;31m# calls in the traceback and some print out the last line\u001b[0m\u001b[0;34m\u001b[0m\u001b[0;34m\u001b[0m\u001b[0m\n\u001b[0;32m--> 251\u001b[0;31m     Variable._execution_engine.run_backward(  # Calls into the C++ engine to run the backward pass\n\u001b[0m\u001b[1;32m    252\u001b[0m         \u001b[0mtensors\u001b[0m\u001b[0;34m,\u001b[0m\u001b[0;34m\u001b[0m\u001b[0;34m\u001b[0m\u001b[0m\n\u001b[1;32m    253\u001b[0m         \u001b[0mgrad_tensors_\u001b[0m\u001b[0;34m,\u001b[0m\u001b[0;34m\u001b[0m\u001b[0;34m\u001b[0m\u001b[0m\n",
            "\u001b[0;31mKeyboardInterrupt\u001b[0m: "
          ]
        }
      ]
    },
    {
      "cell_type": "markdown",
      "source": [
        "## Conv model !"
      ],
      "metadata": {
        "id": "vM_8OfCY-59A"
      }
    },
    {
      "cell_type": "code",
      "source": [
        "EMBEDDING_DIM = 50\n",
        "N_CLASSES = len(target_names)\n",
        "\n",
        "class ConvTextClassificationModel(nn.Module):\n",
        "\n",
        "    def __init__(self, vocab_size, embed_dim, num_class, embedding=None):\n",
        "        super(ConvTextClassificationModel, self).__init__()\n",
        "\n",
        "        if embedding:\n",
        "            # If we use use pretrained.\n",
        "            self.embedding = embedding\n",
        "            self.embeddings.weight.requires_grad = False # Freeze embeddings.\n",
        "        else:\n",
        "            self.embedding = nn.Embedding(vocab_size, embed_dim)\n",
        "\n",
        "        self.conv1 = nn.Sequential(\n",
        "            nn.Conv1d(in_channels=50, out_channels=64, kernel_size=5),\n",
        "            nn.MaxPool1d(5),\n",
        "            nn.Dropout(p=0.2),\n",
        "            nn.ReLU()\n",
        "        )\n",
        "\n",
        "        self.conv2 = nn.Sequential(\n",
        "            nn.Conv1d(in_channels=64, out_channels=64, kernel_size=5),\n",
        "            nn.MaxPool1d(5),\n",
        "            nn.Dropout(p=0.2),\n",
        "            nn.ReLU()\n",
        "        )\n",
        "\n",
        "        self.fc = nn.Sequential(nn.Flatten(), nn.ReLU(), nn.Dropout(p=0.2), nn.Linear(64*39, num_class))\n",
        "\n",
        "    def forward(self, text):\n",
        "        x = self.embedding(text)\n",
        "        x = x.transpose(1, 2) # To have the proper representation for 1d convs.\n",
        "        x = self.conv1(x)\n",
        "        x = self.conv2(x)\n",
        "        out = self.fc(x)\n",
        "        return out\n",
        "\n",
        "model = ConvTextClassificationModel(vocab_size=len(vocab), embed_dim=EMBEDDING_DIM, num_class=N_CLASSES)"
      ],
      "metadata": {
        "trusted": true,
        "id": "P5aElFMg-59A"
      },
      "execution_count": null,
      "outputs": []
    },
    {
      "cell_type": "code",
      "source": [
        "LEARNING_RATE = 1e-3\n",
        "WEIGHT_DECAY = 1e-6\n",
        "\n",
        "optimizer = torch.optim.Adam(params=model.parameters(), lr=LEARNING_RATE, weight_decay=WEIGHT_DECAY)\n",
        "criterion = torch.nn.CrossEntropyLoss()\n",
        "\n",
        "N_EPOCHS = 300\n",
        "\n",
        "model.to(DEVICE)\n",
        "\n",
        "pbar = tqdm(range(N_EPOCHS))\n",
        "\n",
        "val_acc = Accuracy(\"multiclass\", num_classes=N_CLASSES).to(DEVICE)\n",
        "train_acc = Accuracy(\"multiclass\", num_classes=N_CLASSES).to(DEVICE)\n",
        "\n",
        "for epoch in pbar:\n",
        "    model.train()\n",
        "    for b in train_dl:\n",
        "        x, y = b\n",
        "        x = x.to(DEVICE)\n",
        "        y = y.to(DEVICE)\n",
        "\n",
        "        preds = model(x)\n",
        "\n",
        "        loss = criterion(preds, y)\n",
        "        train_acc.update(preds, y)\n",
        "\n",
        "\n",
        "        loss.backward()\n",
        "        optimizer.step()\n",
        "        optimizer.zero_grad()\n",
        "\n",
        "    epoch_train_acc = train_acc.compute()\n",
        "    train_acc.reset()\n",
        "\n",
        "\n",
        "    model.eval()\n",
        "    with torch.no_grad():\n",
        "        for b in test_dl:\n",
        "            x, y = b\n",
        "            x = x.to(DEVICE)\n",
        "            y = y.to(DEVICE)\n",
        "\n",
        "            val_acc.update(model(x), y)\n",
        "\n",
        "        epoch_val_acc = val_acc.compute()\n",
        "\n",
        "        val_acc.reset()\n",
        "\n",
        "    pbar.set_description(f\"Epoch {epoch}, Loss : {loss.item():.2f}, Val : {epoch_val_acc.item():.2f}, Train : {epoch_train_acc.item():.2f}\")"
      ],
      "metadata": {
        "trusted": true,
        "id": "d2Wk4ju_-59A"
      },
      "execution_count": null,
      "outputs": []
    },
    {
      "cell_type": "markdown",
      "source": [
        "### Loading pre-trained embeddings\n",
        "\n",
        "The file `glove100K.100d.txt` is an extract of [Glove](http://nlp.stanford.edu/projects/glove/) Vectors, that were trained on english Wikipedia 2014 + Gigaword 5 (6B tokens).\n",
        "\n",
        "We extracted the `100 000` most frequent words. They have a dimension of `100`"
      ],
      "metadata": {
        "deletable": true,
        "editable": true,
        "id": "4-G4Xx7B-59A"
      }
    },
    {
      "cell_type": "code",
      "source": [
        "import os\n",
        "\n",
        "import zipfile\n",
        "from urllib.request import urlretrieve"
      ],
      "metadata": {
        "trusted": true,
        "id": "ykhE2UUE-59A"
      },
      "execution_count": null,
      "outputs": []
    },
    {
      "cell_type": "markdown",
      "source": [
        "Downloading and extracting gloves embeddings :"
      ],
      "metadata": {
        "id": "gUP_YMPo-59B"
      }
    },
    {
      "cell_type": "code",
      "source": [
        "URL_REPRESENTATIONS = \"https://github.com/m2dsupsdlclass/lectures-labs/releases/download/0.3/glove100k.100d.zip\"\n",
        "ZIP_REPRESENTATIONS = \"glove100k.100d.zip\"\n",
        "FILE_REPRESENTATIONS = \"glove100K.100d.txt\"\n",
        "\n",
        "print('Downloading from %s to %s...' % (URL_REPRESENTATIONS, ZIP_REPRESENTATIONS))\n",
        "urlretrieve(URL_REPRESENTATIONS, './' + ZIP_REPRESENTATIONS)\n",
        "\n",
        "print(\"extracting %s...\" % ZIP_REPRESENTATIONS)\n",
        "myzip = zipfile.ZipFile(ZIP_REPRESENTATIONS)\n",
        "myzip.extractall()"
      ],
      "metadata": {
        "trusted": true,
        "id": "d0142m-g-59B"
      },
      "execution_count": null,
      "outputs": []
    },
    {
      "cell_type": "code",
      "source": [
        "embeddings_index = {}\n",
        "embeddings_vectors = []\n",
        "f = open('glove100K.100d.txt', 'rb')\n",
        "\n",
        "word_idx = 0\n",
        "for line in f:\n",
        "    values = line.decode('utf-8').split()\n",
        "    word = values[0]\n",
        "    vector = np.asarray(values[1:], dtype='float32')\n",
        "    embeddings_index[word] = word_idx\n",
        "    embeddings_vectors.append(vector)\n",
        "    word_idx = word_idx + 1\n",
        "f.close()\n",
        "\n",
        "inv_index = {v: k for k, v in embeddings_index.items()}\n",
        "print(\"found %d different words in the file\" % word_idx)"
      ],
      "metadata": {
        "deletable": true,
        "editable": true,
        "jupyter": {
          "outputs_hidden": false
        },
        "trusted": true,
        "id": "QYa-CKNb-59B"
      },
      "execution_count": null,
      "outputs": []
    },
    {
      "cell_type": "code",
      "source": [
        "# Stack all embeddings in a large numpy array\n",
        "glove_embeddings = np.vstack(embeddings_vectors)\n",
        "glove_norms = np.linalg.norm(glove_embeddings, axis=-1, keepdims=True)\n",
        "glove_embeddings_normed = glove_embeddings / glove_norms\n",
        "print(glove_embeddings.shape)"
      ],
      "metadata": {
        "deletable": true,
        "editable": true,
        "jupyter": {
          "outputs_hidden": false
        },
        "trusted": true,
        "id": "CbLruu4f-59B"
      },
      "execution_count": null,
      "outputs": []
    },
    {
      "cell_type": "code",
      "source": [
        "def get_emb(word):\n",
        "    idx = embeddings_index.get(word)\n",
        "    if idx is None:\n",
        "        return None\n",
        "    else:\n",
        "        return glove_embeddings[idx]\n",
        "\n",
        "\n",
        "def get_normed_emb(word):\n",
        "    idx = embeddings_index.get(word)\n",
        "    if idx is None:\n",
        "        return None\n",
        "    else:\n",
        "        return glove_embeddings_normed[idx]"
      ],
      "metadata": {
        "deletable": true,
        "editable": true,
        "jupyter": {
          "outputs_hidden": false
        },
        "trusted": true,
        "id": "SpsCFaB4-59B"
      },
      "execution_count": null,
      "outputs": []
    },
    {
      "cell_type": "code",
      "source": [
        "get_emb(\"computer\")"
      ],
      "metadata": {
        "deletable": true,
        "editable": true,
        "jupyter": {
          "outputs_hidden": false
        },
        "trusted": true,
        "id": "TwBdoh3a-59B"
      },
      "execution_count": null,
      "outputs": []
    },
    {
      "cell_type": "markdown",
      "source": [
        "### Finding most similar words\n",
        "\n",
        "**Exercice**\n",
        "\n",
        "Build a function to find most similar words, given a word as query:\n",
        "- lookup the vector for the query word in the Glove index;\n",
        "- compute the cosine similarity between a word embedding and all other words;\n",
        "- display the top 10 most similar words.\n",
        "\n",
        "**Bonus**\n",
        "\n",
        "Change your function so that it takes multiple words as input (by averaging them)"
      ],
      "metadata": {
        "deletable": true,
        "editable": true,
        "id": "HPK7jzY7-59B"
      }
    },
    {
      "cell_type": "code",
      "source": [
        "# %load solutions/most_similar.py\n",
        "def most_similar(words, topn=10):\n",
        "    query_emb = 0\n",
        "    # If we have a list of words instead of one word\n",
        "    # (bonus question)\n",
        "    if type(words) == list:\n",
        "        for word in words:\n",
        "            query_emb += get_emb(word)\n",
        "    else:\n",
        "        query_emb = get_emb(words)\n",
        "\n",
        "    query_emb = query_emb / np.linalg.norm(query_emb)\n",
        "\n",
        "    # Large numpy vector with all cosine similarities\n",
        "    # between emb and all other words\n",
        "    cosines = np.dot(glove_embeddings_normed, query_emb)\n",
        "\n",
        "    # topn most similar indexes corresponding to cosines\n",
        "    idxs = np.argsort(cosines)[::-1][:topn]\n",
        "\n",
        "    # pretty return with word and similarity\n",
        "    return [(inv_index[idx], cosines[idx]) for idx in idxs]\n"
      ],
      "metadata": {
        "deletable": true,
        "editable": true,
        "trusted": true,
        "id": "OghDqFlG-59B"
      },
      "execution_count": null,
      "outputs": []
    },
    {
      "cell_type": "code",
      "source": [
        "most_similar(\"cpu\")"
      ],
      "metadata": {
        "deletable": true,
        "editable": true,
        "jupyter": {
          "outputs_hidden": false
        },
        "trusted": true,
        "id": "-_56Kfui-59B"
      },
      "execution_count": null,
      "outputs": []
    },
    {
      "cell_type": "code",
      "source": [
        "most_similar(\"pitt\")"
      ],
      "metadata": {
        "deletable": true,
        "editable": true,
        "jupyter": {
          "outputs_hidden": false
        },
        "trusted": true,
        "id": "dAJy3VoR-59B"
      },
      "execution_count": null,
      "outputs": []
    },
    {
      "cell_type": "code",
      "source": [
        "most_similar(\"jolie\")"
      ],
      "metadata": {
        "deletable": true,
        "editable": true,
        "jupyter": {
          "outputs_hidden": false
        },
        "trusted": true,
        "id": "otVXaXqw-59C"
      },
      "execution_count": null,
      "outputs": []
    },
    {
      "cell_type": "markdown",
      "source": [
        "Predict the future better than tarot:"
      ],
      "metadata": {
        "deletable": true,
        "editable": true,
        "id": "JSkjqS3q-59C"
      }
    },
    {
      "cell_type": "code",
      "source": [
        "np.dot(get_normed_emb('aniston'), get_normed_emb('pitt'))"
      ],
      "metadata": {
        "deletable": true,
        "editable": true,
        "jupyter": {
          "outputs_hidden": false
        },
        "trusted": true,
        "id": "htsnS2mo-59C"
      },
      "execution_count": null,
      "outputs": []
    },
    {
      "cell_type": "code",
      "source": [
        "np.dot(get_normed_emb('jolie'), get_normed_emb('pitt'))"
      ],
      "metadata": {
        "deletable": true,
        "editable": true,
        "jupyter": {
          "outputs_hidden": false
        },
        "trusted": true,
        "id": "IkUsHWBx-59C"
      },
      "execution_count": null,
      "outputs": []
    },
    {
      "cell_type": "code",
      "source": [
        "most_similar(\"1\")"
      ],
      "metadata": {
        "deletable": true,
        "editable": true,
        "jupyter": {
          "outputs_hidden": false
        },
        "trusted": true,
        "id": "Jk2t25iS-59C"
      },
      "execution_count": null,
      "outputs": []
    },
    {
      "cell_type": "code",
      "source": [
        "# bonus: yangtze is a chinese river\n",
        "most_similar([\"river\", \"chinese\"])"
      ],
      "metadata": {
        "deletable": true,
        "editable": true,
        "jupyter": {
          "outputs_hidden": false
        },
        "trusted": true,
        "id": "kobLhJZf-59C"
      },
      "execution_count": null,
      "outputs": []
    },
    {
      "cell_type": "markdown",
      "source": [
        "### Displaying vectors with  t-SNE\n"
      ],
      "metadata": {
        "deletable": true,
        "editable": true,
        "id": "6KqjwkI7-59C"
      }
    },
    {
      "cell_type": "code",
      "source": [
        "from sklearn.manifold import TSNE\n",
        "\n",
        "word_emb_tsne = TSNE(perplexity=30).fit_transform(glove_embeddings_normed[:1000])"
      ],
      "metadata": {
        "deletable": true,
        "editable": true,
        "trusted": true,
        "id": "XVN-Fqwe-59C"
      },
      "execution_count": null,
      "outputs": []
    },
    {
      "cell_type": "code",
      "source": [
        "%matplotlib inline\n",
        "import matplotlib.pyplot as plt\n",
        "\n",
        "plt.figure(figsize=(40, 40))\n",
        "axis = plt.gca()\n",
        "np.set_printoptions(suppress=True)\n",
        "plt.scatter(word_emb_tsne[:, 0], word_emb_tsne[:, 1], marker=\".\", s=1)\n",
        "\n",
        "for idx in range(1000):\n",
        "    plt.annotate(inv_index[idx],\n",
        "                 xy=(word_emb_tsne[idx, 0], word_emb_tsne[idx, 1]),\n",
        "                 xytext=(0, 0), textcoords='offset points')\n",
        "plt.savefig(\"tsne.png\")\n",
        "plt.show()"
      ],
      "metadata": {
        "deletable": true,
        "editable": true,
        "jupyter": {
          "outputs_hidden": false
        },
        "trusted": true,
        "id": "zWt8y5Qg-59C"
      },
      "execution_count": null,
      "outputs": []
    },
    {
      "cell_type": "markdown",
      "source": [
        "### Using pre-trained embeddings in our model\n",
        "\n",
        "We want to use these pre-trained embeddings for transfer learning. This process is rather similar than transfer learning in image recognition: the features learnt on words might help us bootstrap the learning process, and increase performance if we don't have enough training data.\n",
        "- We initialize embedding matrix from the model with Glove embeddings:\n",
        " - take all words from our 20 Newgroup vocabulary, and look up their Glove embedding\n",
        " - place the Glove embedding at the corresponding index in the matrix\n",
        " - if the word is not in the Glove vocabulary, we only place zeros in the matrix\n",
        "- We may fix these embeddings or fine-tune them"
      ],
      "metadata": {
        "deletable": true,
        "editable": true,
        "id": "3D4LWJRR-59D"
      }
    },
    {
      "cell_type": "code",
      "source": [
        "EMBEDDING_DIM = 100\n",
        "\n",
        "embedding_bag = nn.EmbeddingBag(len(vocab), EMBEDDING_DIM)\n",
        "\n",
        "i = 0\n",
        "\n",
        "with torch.no_grad():\n",
        "    for token in list(embeddings_index.keys()):\n",
        "        if vocab[token] != 0:\n",
        "            embedding_bag.weight[vocab[token]] = torch.from_numpy(get_emb(token)).float()\n",
        "            i += 1\n",
        "\n",
        "# Not placing zeros in the matrix, you might wanna try ?\n",
        "\n",
        "\n",
        "print(f\"Added {i} vectors to the pretrained embeddings.\")"
      ],
      "metadata": {
        "trusted": true,
        "id": "G-I-I0rO-59D"
      },
      "execution_count": null,
      "outputs": []
    },
    {
      "cell_type": "markdown",
      "source": [
        "### A model with pre-trained Embeddings\n",
        "\n",
        "Average word embeddings pre-trained with Glove / Word2Vec usually works suprisingly well. However, when averaging more than `10-15` words, the resulting vector becomes too noisy and classification performance is degraded."
      ],
      "metadata": {
        "deletable": true,
        "editable": true,
        "id": "tcbDQiX8-59D"
      }
    },
    {
      "cell_type": "code",
      "source": [
        "model = TextClassificationModel(vocab_size=len(vocab), embed_dim=EMBEDDING_DIM, num_class=N_CLASSES, embedding_bag=embedding_bag)"
      ],
      "metadata": {
        "trusted": true,
        "id": "uqbpiqQ4-59D"
      },
      "execution_count": null,
      "outputs": []
    },
    {
      "cell_type": "code",
      "source": [
        "LEARNING_RATE = 1e-2\n",
        "WEIGHT_DECAY = 0\n",
        "\n",
        "optimizer = torch.optim.Adam(params=model.parameters(), lr=LEARNING_RATE, weight_decay=WEIGHT_DECAY)\n",
        "criterion = torch.nn.CrossEntropyLoss()\n",
        "\n",
        "N_EPOCHS = 300\n",
        "\n",
        "model.to(DEVICE)\n",
        "\n",
        "pbar = tqdm(range(N_EPOCHS))\n",
        "\n",
        "val_acc = Accuracy().to(DEVICE)\n",
        "train_acc = Accuracy().to(DEVICE)\n",
        "\n",
        "for epoch in pbar:\n",
        "    model.train()\n",
        "    for b in train_dl:\n",
        "        x, y = b\n",
        "        x = x.to(DEVICE)\n",
        "        y = y.to(DEVICE)\n",
        "\n",
        "        preds = model(x)\n",
        "\n",
        "        loss = criterion(preds, y)\n",
        "        train_acc.update(preds, torch.argmax(y.squeeze(), dim=1))\n",
        "\n",
        "\n",
        "        loss.backward()\n",
        "        optimizer.step()\n",
        "        optimizer.zero_grad()\n",
        "\n",
        "    epoch_train_acc = train_acc.compute()\n",
        "    train_acc.reset()\n",
        "\n",
        "\n",
        "    model.eval()\n",
        "    with torch.no_grad():\n",
        "        for b in test_dl:\n",
        "            x, y = b\n",
        "            x = x.to(DEVICE)\n",
        "            y = y.to(DEVICE)\n",
        "\n",
        "            val_acc.update(model(x), y)\n",
        "\n",
        "        epoch_val_acc = val_acc.compute()\n",
        "\n",
        "        val_acc.reset()\n",
        "\n",
        "    pbar.set_description(f\"Epoch {epoch}, Loss : {loss.item():.2f}, Val : {epoch_val_acc.item():.2f}, Train : {epoch_train_acc.item():.2f}\")"
      ],
      "metadata": {
        "trusted": true,
        "id": "pwqAlq5x-59D"
      },
      "execution_count": null,
      "outputs": []
    },
    {
      "cell_type": "markdown",
      "source": [
        "### Reality check\n",
        "\n",
        "On small/medium datasets, simpler classification methods usually perform better, and are much more efficient to compute. Here are two resources to go further:\n",
        "- Naive Bayes approach, using scikit-learn http://scikit-learn.org/stable/datasets/twenty_newsgroups.html\n",
        "- Alec Radford (OpenAI) gave a very interesting presentation, showing that you need a VERY large dataset to have real gains from GRU/LSTM in text classification https://www.slideshare.net/odsc/alec-radfordodsc-presentation\n",
        "\n",
        "However, when looking at features, one can see that classification using simple methods isn't very robust, and won't generalize well to slightly different domains (e.g. forum posts => emails)"
      ],
      "metadata": {
        "deletable": true,
        "editable": true,
        "id": "tpoRusad-59D"
      }
    },
    {
      "cell_type": "markdown",
      "source": [
        "## Going further\n",
        "\n",
        "- Compare pre-trained embeddings vs specifically trained embeddings\n",
        "- Train your own wordvectors in any language using [gensim's word2vec](https://radimrehurek.com/gensim/models/word2vec.html)\n",
        "- Install fastText (Linux or macOS only, use the Linux VM if under Windows) and give it a try on the classification example in its repository."
      ],
      "metadata": {
        "deletable": true,
        "editable": true,
        "id": "bdK2BAxB-59D"
      }
    },
    {
      "cell_type": "code",
      "source": [],
      "metadata": {
        "deletable": true,
        "editable": true,
        "id": "1DuxVW-u-59D"
      },
      "execution_count": null,
      "outputs": []
    }
  ]
}