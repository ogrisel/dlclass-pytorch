{
  "metadata": {
    "kernelspec": {
      "display_name": "Python 3",
      "name": "python3"
    },
    "language_info": {
      "name": "python",
      "version": "3.7.12",
      "mimetype": "text/x-python",
      "codemirror_mode": {
        "name": "ipython",
        "version": 3
      },
      "pygments_lexer": "ipython3",
      "nbconvert_exporter": "python",
      "file_extension": ".py"
    },
    "kaggle": {
      "accelerator": "gpu",
      "dataSources": [],
      "dockerImageVersionId": 30302,
      "isInternetEnabled": true,
      "language": "python",
      "sourceType": "notebook",
      "isGpuEnabled": true
    },
    "colab": {
      "provenance": [],
      "gpuType": "T4"
    },
    "accelerator": "GPU"
  },
  "nbformat_minor": 0,
  "nbformat": 4,
  "cells": [
    {
      "cell_type": "markdown",
      "source": [
        "# Translation of Numeric Phrases with Seq2Seq\n",
        "\n",
        "In the following we will try to build a **translation model from french phrases describing numbers** to the corresponding **numeric representation** (base 10).\n",
        "\n",
        "This is a toy machine translation task with a **restricted vocabulary** and a **single valid translation for each source phrase** which makes it more tractable to train on a laptop computer and easier to evaluate. Despite those limitations we expect that this task will highlight interesting properties of Seq2Seq models including:\n",
        "\n",
        "- the ability to **deal with different length** of the source and target sequences,\n",
        "- handling token with a **meaning that changes depending on the context** (e.g \"quatre\" in isolation vs \"quatre vingts\" in \"quatre cents\"),\n",
        "- basic counting and \"reasoning\" capabilities of LSTM and GRU models,\n",
        "- highlight similar capabilities of transformer-based architectures with positional embedding and causal attention.\n",
        "\n",
        "The parallel text data is generated from a \"ground-truth\" Python function named `to_french_phrase` that captures common rules. Hyphenation was intentionally omitted to make the phrases more ambiguous and therefore make the translation problem slightly harder to solve (and also because Olivier had no particular interest in properly implementing hyphenation rules :).\n",
        "\n",
        "### Objectives\n",
        "\n",
        "- Learn to build and evaluate **decoder-only sequence to sequence models**;\n",
        "- Understand auto-regressive training with **Teacher Forcing**;\n",
        "- Build and train a **transformer architecture from scratch**."
      ],
      "metadata": {
        "id": "R0G4M7xDHgA_"
      }
    },
    {
      "cell_type": "code",
      "source": [
        "%pip install -q torchinfo torchmetrics seaborn"
      ],
      "metadata": {
        "execution": {
          "iopub.status.busy": "2023-11-15T18:05:02.322775Z",
          "iopub.execute_input": "2023-11-15T18:05:02.323395Z",
          "iopub.status.idle": "2023-11-15T18:05:15.436090Z",
          "shell.execute_reply.started": "2023-11-15T18:05:02.323286Z",
          "shell.execute_reply": "2023-11-15T18:05:15.434898Z"
        },
        "trusted": true,
        "id": "-L6wtbiwHgBB"
      },
      "execution_count": 1,
      "outputs": []
    },
    {
      "cell_type": "code",
      "source": [
        "from urllib.request import urlretrieve\n",
        "from pathlib import Path\n",
        "\n",
        "\n",
        "FRENCH_NUMBERS_FILENAME = Path(\"french_numbers.py\")\n",
        "FRENCH_NUMBERS_URL = (\n",
        "    \"https://raw.githubusercontent.com/ogrisel/dlclass-pytorch/main/\"\n",
        "    f\"notebooks/{FRENCH_NUMBERS_FILENAME}\"\n",
        ")\n",
        "if not FRENCH_NUMBERS_FILENAME.exists():\n",
        "    urlretrieve(FRENCH_NUMBERS_URL, FRENCH_NUMBERS_FILENAME)"
      ],
      "metadata": {
        "execution": {
          "iopub.status.busy": "2023-11-15T18:14:21.689072Z",
          "iopub.execute_input": "2023-11-15T18:14:21.689976Z",
          "iopub.status.idle": "2023-11-15T18:14:21.883977Z",
          "shell.execute_reply.started": "2023-11-15T18:14:21.689937Z",
          "shell.execute_reply": "2023-11-15T18:14:21.882937Z"
        },
        "trusted": true,
        "id": "dmUbD4ywHgBB"
      },
      "execution_count": 2,
      "outputs": []
    },
    {
      "cell_type": "code",
      "source": [
        "from french_numbers import to_french_phrase\n",
        "\n",
        "for x in [21, 80, 81, 300, 213, 1100, 1201, 301000, 80080]:\n",
        "    print(str(x).rjust(6), to_french_phrase(x))"
      ],
      "metadata": {
        "execution": {
          "iopub.status.busy": "2023-11-15T18:05:15.653143Z",
          "iopub.execute_input": "2023-11-15T18:05:15.654010Z",
          "iopub.status.idle": "2023-11-15T18:05:16.239556Z",
          "shell.execute_reply.started": "2023-11-15T18:05:15.653959Z",
          "shell.execute_reply": "2023-11-15T18:05:16.238408Z"
        },
        "trusted": true,
        "id": "fP8z7nqfHgBB",
        "outputId": "0c2d2e5b-f74f-443d-87f2-6162ef2fff45",
        "colab": {
          "base_uri": "https://localhost:8080/"
        }
      },
      "execution_count": 3,
      "outputs": [
        {
          "output_type": "stream",
          "name": "stdout",
          "text": [
            "    21 vingt et un\n",
            "    80 quatre vingts\n",
            "    81 quatre vingt un\n",
            "   300 trois cents\n",
            "   213 deux cent treize\n",
            "  1100 mille cent\n",
            "  1201 mille deux cent un\n",
            "301000 trois cent un mille\n",
            " 80080 quatre vingt mille quatre vingts\n"
          ]
        }
      ]
    },
    {
      "cell_type": "markdown",
      "source": [
        "## Generating a Training Set\n",
        "\n",
        "The following will **generate phrases 20000 example phrases for numbers between 1 and 1,000,000** (excluded). We chose to over-represent small numbers by generating all the possible short sequences between `1` and `exhaustive=5000`.\n",
        "\n",
        "We then split the generated set into non-overlapping train, validation and test splits."
      ],
      "metadata": {
        "id": "MteyfU6zHgBE"
      }
    },
    {
      "cell_type": "code",
      "source": [
        "from french_numbers import generate_translations\n",
        "from sklearn.model_selection import train_test_split\n",
        "\n",
        "\n",
        "numbers, french_numbers = generate_translations(\n",
        "    low=1, high=int(1e6) - 1, exhaustive=5000, random_seed=0\n",
        ")\n",
        "num_train, num_dev, fr_train, fr_dev = train_test_split(\n",
        "    numbers, french_numbers, test_size=0.5, random_state=0\n",
        ")\n",
        "num_val, num_test, fr_val, fr_test = train_test_split(\n",
        "    num_dev, fr_dev, test_size=0.5, random_state=0\n",
        ")"
      ],
      "metadata": {
        "execution": {
          "iopub.status.busy": "2023-11-15T18:05:16.242381Z",
          "iopub.execute_input": "2023-11-15T18:05:16.242733Z",
          "iopub.status.idle": "2023-11-15T18:05:16.422984Z",
          "shell.execute_reply.started": "2023-11-15T18:05:16.242702Z",
          "shell.execute_reply": "2023-11-15T18:05:16.421923Z"
        },
        "trusted": true,
        "id": "F3yLYEuEHgBF"
      },
      "execution_count": 4,
      "outputs": []
    },
    {
      "cell_type": "code",
      "source": [
        "len(fr_train), len(fr_val), len(fr_test)"
      ],
      "metadata": {
        "execution": {
          "iopub.status.busy": "2023-11-15T18:05:16.424594Z",
          "iopub.execute_input": "2023-11-15T18:05:16.424881Z",
          "iopub.status.idle": "2023-11-15T18:05:16.433590Z",
          "shell.execute_reply.started": "2023-11-15T18:05:16.424856Z",
          "shell.execute_reply": "2023-11-15T18:05:16.432398Z"
        },
        "trusted": true,
        "id": "a7tVTskxHgBF",
        "outputId": "4d62ffc1-7c99-4c36-b7cb-7f74acf49aab",
        "colab": {
          "base_uri": "https://localhost:8080/"
        }
      },
      "execution_count": 5,
      "outputs": [
        {
          "output_type": "execute_result",
          "data": {
            "text/plain": [
              "(10000, 5000, 5000)"
            ]
          },
          "metadata": {},
          "execution_count": 5
        }
      ]
    },
    {
      "cell_type": "code",
      "source": [
        "for i, fr_phrase, num_phrase in zip(range(5), fr_train, num_train):\n",
        "    print(num_phrase.rjust(6), fr_phrase)"
      ],
      "metadata": {
        "execution": {
          "iopub.status.busy": "2023-11-15T18:05:16.434840Z",
          "iopub.execute_input": "2023-11-15T18:05:16.435210Z",
          "iopub.status.idle": "2023-11-15T18:05:16.442176Z",
          "shell.execute_reply.started": "2023-11-15T18:05:16.435171Z",
          "shell.execute_reply": "2023-11-15T18:05:16.441230Z"
        },
        "trusted": true,
        "id": "KWa2mM0vHgBF",
        "outputId": "cd3dd489-a56b-4f6e-aec0-297aeec255a7",
        "colab": {
          "base_uri": "https://localhost:8080/"
        }
      },
      "execution_count": 6,
      "outputs": [
        {
          "output_type": "stream",
          "name": "stdout",
          "text": [
            "  2882 deux mille huit cent quatre vingt deux\n",
            "372200 trois cent soixante douze mille deux cents\n",
            "  2193 deux mille cent quatre vingt treize\n",
            "996418 neuf cent quatre vingt seize mille quatre cent dix huit\n",
            "  9172 neuf mille cent soixante douze\n"
          ]
        }
      ]
    },
    {
      "cell_type": "code",
      "source": [
        "for i, fr_phrase, num_phrase in zip(range(5), fr_val, num_val):\n",
        "    print(num_phrase.rjust(6), fr_phrase)"
      ],
      "metadata": {
        "execution": {
          "iopub.status.busy": "2023-11-15T18:05:16.443580Z",
          "iopub.execute_input": "2023-11-15T18:05:16.444139Z",
          "iopub.status.idle": "2023-11-15T18:05:16.451700Z",
          "shell.execute_reply.started": "2023-11-15T18:05:16.444103Z",
          "shell.execute_reply": "2023-11-15T18:05:16.450745Z"
        },
        "trusted": true,
        "id": "rh23mJKpHgBG",
        "outputId": "8f021caa-6b20-4169-ad64-f8cb62f7b5b2",
        "colab": {
          "base_uri": "https://localhost:8080/"
        }
      },
      "execution_count": 7,
      "outputs": [
        {
          "output_type": "stream",
          "name": "stdout",
          "text": [
            "  2804 deux mille huit cent quatre\n",
            "  3898 trois mille huit cent quatre vingt dix huit\n",
            " 82996 quatre vingt deux mille neuf cent quatre vingt seize\n",
            "366346 trois cent soixante six mille trois cent quarante six\n",
            " 56006 cinquante six mille six\n"
          ]
        }
      ]
    },
    {
      "cell_type": "markdown",
      "source": [
        "## Vocabularies\n",
        "\n",
        "Build the vocabularies from the training set only to get a chance to have some out-of-vocabulary words in the validation and test sets.\n",
        "\n",
        "First we need to introduce specific symbols that will be used to:\n",
        "- pad sequences\n",
        "- represent out-of-vocabulary symbols (not seen in the training set)\n",
        "- mark the beginning of translation\n",
        "- mark the end of translation."
      ],
      "metadata": {
        "id": "f49PqmwIHgBH"
      }
    },
    {
      "cell_type": "code",
      "source": [
        "PAD = \"<PAD>\"\n",
        "UNK = \"<UNK>\"\n",
        "GO = \"<GO>\"\n",
        "EOS = \"<EOS>\"\n",
        "START_VOCAB = [PAD, UNK, GO, EOS]"
      ],
      "metadata": {
        "execution": {
          "iopub.status.busy": "2023-11-15T18:05:16.453048Z",
          "iopub.execute_input": "2023-11-15T18:05:16.453846Z",
          "iopub.status.idle": "2023-11-15T18:05:16.461446Z",
          "shell.execute_reply.started": "2023-11-15T18:05:16.453808Z",
          "shell.execute_reply": "2023-11-15T18:05:16.460558Z"
        },
        "trusted": true,
        "id": "7L8WZwKZHgBH"
      },
      "execution_count": 8,
      "outputs": []
    },
    {
      "cell_type": "markdown",
      "source": [
        "To build the vocabulary we need to tokenize the sequences of symbols. For the digital number representation we use character level tokenization while whitespace-based word level tokenization will do for the French phrases.\n",
        "\n",
        "To implement such a tokenizer we use the following regular expression:"
      ],
      "metadata": {
        "id": "TVaOqYEvHgBH"
      }
    },
    {
      "cell_type": "code",
      "source": [
        "import re\n",
        "\n",
        "\n",
        "TOKEN_PATTERN = re.compile(r\"(\\d|<?[a-zA-ZÀ-ÿ_]+>?)\")\n",
        "\n",
        "\n",
        "def tokenize(sentence):\n",
        "    \"\"\"Tokenize any whitespace separated word or any individual digit\"\"\"\n",
        "    return TOKEN_PATTERN.findall(sentence)\n"
      ],
      "metadata": {
        "execution": {
          "iopub.status.busy": "2023-11-15T18:05:16.462741Z",
          "iopub.execute_input": "2023-11-15T18:05:16.463304Z",
          "iopub.status.idle": "2023-11-15T18:05:16.471159Z",
          "shell.execute_reply.started": "2023-11-15T18:05:16.463268Z",
          "shell.execute_reply": "2023-11-15T18:05:16.470185Z"
        },
        "trusted": true,
        "id": "sV1oGxL-HgBH"
      },
      "execution_count": 9,
      "outputs": []
    },
    {
      "cell_type": "code",
      "source": [
        "tokenize('1234')"
      ],
      "metadata": {
        "execution": {
          "iopub.status.busy": "2023-11-15T18:05:16.475818Z",
          "iopub.execute_input": "2023-11-15T18:05:16.476589Z",
          "iopub.status.idle": "2023-11-15T18:05:16.483613Z",
          "shell.execute_reply.started": "2023-11-15T18:05:16.476553Z",
          "shell.execute_reply": "2023-11-15T18:05:16.482625Z"
        },
        "trusted": true,
        "id": "C5M9X2i8HgBI",
        "outputId": "db44ff01-0725-491b-d254-22507a5468a9",
        "colab": {
          "base_uri": "https://localhost:8080/"
        }
      },
      "execution_count": 10,
      "outputs": [
        {
          "output_type": "execute_result",
          "data": {
            "text/plain": [
              "['1', '2', '3', '4']"
            ]
          },
          "metadata": {},
          "execution_count": 10
        }
      ]
    },
    {
      "cell_type": "code",
      "source": [
        "tokenize('mille deux cent trente quatre')"
      ],
      "metadata": {
        "execution": {
          "iopub.status.busy": "2023-11-15T18:05:16.484808Z",
          "iopub.execute_input": "2023-11-15T18:05:16.485683Z",
          "iopub.status.idle": "2023-11-15T18:05:16.493319Z",
          "shell.execute_reply.started": "2023-11-15T18:05:16.485655Z",
          "shell.execute_reply": "2023-11-15T18:05:16.492305Z"
        },
        "trusted": true,
        "id": "chTEFl1fHgBI",
        "outputId": "926b6734-2dcc-4cd0-c223-2a59caeb635d",
        "colab": {
          "base_uri": "https://localhost:8080/"
        }
      },
      "execution_count": 11,
      "outputs": [
        {
          "output_type": "execute_result",
          "data": {
            "text/plain": [
              "['mille', 'deux', 'cent', 'trente', 'quatre']"
            ]
          },
          "metadata": {},
          "execution_count": 11
        }
      ]
    },
    {
      "cell_type": "markdown",
      "source": [
        "Let's also check the behavior of our tokenizer with some edge cases:"
      ],
      "metadata": {
        "id": "43ITWrbbHgBI"
      }
    },
    {
      "cell_type": "code",
      "source": [
        "tokenize(\"<UNK>123 45, un 6de_ux<GO>trois!<EOS>\")"
      ],
      "metadata": {
        "execution": {
          "iopub.status.busy": "2023-11-15T18:05:16.494720Z",
          "iopub.execute_input": "2023-11-15T18:05:16.494998Z",
          "iopub.status.idle": "2023-11-15T18:05:16.504405Z",
          "shell.execute_reply.started": "2023-11-15T18:05:16.494973Z",
          "shell.execute_reply": "2023-11-15T18:05:16.503472Z"
        },
        "trusted": true,
        "id": "ysUsa_Q2HgBI",
        "outputId": "313326e0-f1b0-47d6-b9e0-ea88c2bdfe91",
        "colab": {
          "base_uri": "https://localhost:8080/"
        }
      },
      "execution_count": 12,
      "outputs": [
        {
          "output_type": "execute_result",
          "data": {
            "text/plain": [
              "['<UNK>',\n",
              " '1',\n",
              " '2',\n",
              " '3',\n",
              " '4',\n",
              " '5',\n",
              " 'un',\n",
              " '6',\n",
              " 'de_ux',\n",
              " '<GO>',\n",
              " 'trois',\n",
              " '<EOS>']"
            ]
          },
          "metadata": {},
          "execution_count": 12
        }
      ]
    },
    {
      "cell_type": "markdown",
      "source": [
        "Let's now use this tokenization strategy to assign a unique integer token id to each possible token string found the traing set in each language ('French' and 'numeric'):"
      ],
      "metadata": {
        "id": "I8Bfww4CHgBJ"
      }
    },
    {
      "cell_type": "code",
      "source": [
        "def build_vocabulary(tokenized_sequences):\n",
        "    rev_vocabulary = START_VOCAB[:]\n",
        "    unique_tokens = set()\n",
        "    for tokens in tokenized_sequences:\n",
        "        unique_tokens.update(tokens)\n",
        "    rev_vocabulary += sorted(unique_tokens)\n",
        "    vocabulary = {}\n",
        "    for i, token in enumerate(rev_vocabulary):\n",
        "        vocabulary[token] = i\n",
        "    return vocabulary, rev_vocabulary\n"
      ],
      "metadata": {
        "execution": {
          "iopub.status.busy": "2023-11-15T18:05:16.505426Z",
          "iopub.execute_input": "2023-11-15T18:05:16.505686Z",
          "iopub.status.idle": "2023-11-15T18:05:16.514489Z",
          "shell.execute_reply.started": "2023-11-15T18:05:16.505662Z",
          "shell.execute_reply": "2023-11-15T18:05:16.513549Z"
        },
        "trusted": true,
        "id": "e7Nx4bEVHgBJ"
      },
      "execution_count": 13,
      "outputs": []
    },
    {
      "cell_type": "code",
      "source": [
        "tokenized_fr_train = [tokenize(s) for s in fr_train]\n",
        "tokenized_num_train = [tokenize(s) for s in num_train]\n",
        "\n",
        "vocab, rev_vocab = build_vocabulary(tokenized_fr_train + tokenized_num_train)"
      ],
      "metadata": {
        "execution": {
          "iopub.status.busy": "2023-11-15T18:05:16.515693Z",
          "iopub.execute_input": "2023-11-15T18:05:16.516000Z",
          "iopub.status.idle": "2023-11-15T18:05:16.601789Z",
          "shell.execute_reply.started": "2023-11-15T18:05:16.515974Z",
          "shell.execute_reply": "2023-11-15T18:05:16.600969Z"
        },
        "trusted": true,
        "id": "yKdcjrkZHgBJ"
      },
      "execution_count": 14,
      "outputs": []
    },
    {
      "cell_type": "markdown",
      "source": [
        "The two languages do not have the same vocabulary sizes:"
      ],
      "metadata": {
        "id": "SdWH1AMDHgBJ"
      }
    },
    {
      "cell_type": "code",
      "source": [
        "len(vocab)"
      ],
      "metadata": {
        "execution": {
          "iopub.status.busy": "2023-11-15T18:05:16.603049Z",
          "iopub.execute_input": "2023-11-15T18:05:16.603522Z",
          "iopub.status.idle": "2023-11-15T18:05:16.610503Z",
          "shell.execute_reply.started": "2023-11-15T18:05:16.603482Z",
          "shell.execute_reply": "2023-11-15T18:05:16.609561Z"
        },
        "trusted": true,
        "id": "kr6MvjZGHgBJ",
        "outputId": "1a9cd75e-2134-4e0b-88bf-79addcdd9df4",
        "colab": {
          "base_uri": "https://localhost:8080/"
        }
      },
      "execution_count": 15,
      "outputs": [
        {
          "output_type": "execute_result",
          "data": {
            "text/plain": [
              "40"
            ]
          },
          "metadata": {},
          "execution_count": 15
        }
      ]
    },
    {
      "cell_type": "code",
      "source": [
        "vocab"
      ],
      "metadata": {
        "execution": {
          "iopub.status.busy": "2023-11-15T18:05:16.611889Z",
          "iopub.execute_input": "2023-11-15T18:05:16.612178Z",
          "iopub.status.idle": "2023-11-15T18:05:16.622386Z",
          "shell.execute_reply.started": "2023-11-15T18:05:16.612151Z",
          "shell.execute_reply": "2023-11-15T18:05:16.621506Z"
        },
        "trusted": true,
        "id": "OzwFBmdcHgBJ",
        "outputId": "b08e4427-1a36-404a-c6a3-019c9b2070d7",
        "colab": {
          "base_uri": "https://localhost:8080/"
        }
      },
      "execution_count": 16,
      "outputs": [
        {
          "output_type": "execute_result",
          "data": {
            "text/plain": [
              "{'<PAD>': 0,\n",
              " '<UNK>': 1,\n",
              " '<GO>': 2,\n",
              " '<EOS>': 3,\n",
              " '0': 4,\n",
              " '1': 5,\n",
              " '2': 6,\n",
              " '3': 7,\n",
              " '4': 8,\n",
              " '5': 9,\n",
              " '6': 10,\n",
              " '7': 11,\n",
              " '8': 12,\n",
              " '9': 13,\n",
              " 'cent': 14,\n",
              " 'cents': 15,\n",
              " 'cinq': 16,\n",
              " 'cinquante': 17,\n",
              " 'deux': 18,\n",
              " 'dix': 19,\n",
              " 'douze': 20,\n",
              " 'et': 21,\n",
              " 'huit': 22,\n",
              " 'mille': 23,\n",
              " 'neuf': 24,\n",
              " 'onze': 25,\n",
              " 'quarante': 26,\n",
              " 'quatorze': 27,\n",
              " 'quatre': 28,\n",
              " 'quinze': 29,\n",
              " 'seize': 30,\n",
              " 'sept': 31,\n",
              " 'six': 32,\n",
              " 'soixante': 33,\n",
              " 'treize': 34,\n",
              " 'trente': 35,\n",
              " 'trois': 36,\n",
              " 'un': 37,\n",
              " 'vingt': 38,\n",
              " 'vingts': 39}"
            ]
          },
          "metadata": {},
          "execution_count": 16
        }
      ]
    },
    {
      "cell_type": "markdown",
      "source": [
        "We also built the reverse mappings from token ids to token string representations:"
      ],
      "metadata": {
        "id": "_j1sAypyHgBJ"
      }
    },
    {
      "cell_type": "code",
      "source": [
        "rev_vocab"
      ],
      "metadata": {
        "scrolled": true,
        "execution": {
          "iopub.status.busy": "2023-11-15T18:05:16.623566Z",
          "iopub.execute_input": "2023-11-15T18:05:16.623867Z",
          "iopub.status.idle": "2023-11-15T18:05:16.633801Z",
          "shell.execute_reply.started": "2023-11-15T18:05:16.623840Z",
          "shell.execute_reply": "2023-11-15T18:05:16.632833Z"
        },
        "trusted": true,
        "id": "QNfTDY6vHgBK",
        "outputId": "0346850d-f787-4cab-aae8-2f8f4d15251f",
        "colab": {
          "base_uri": "https://localhost:8080/"
        }
      },
      "execution_count": 17,
      "outputs": [
        {
          "output_type": "execute_result",
          "data": {
            "text/plain": [
              "['<PAD>',\n",
              " '<UNK>',\n",
              " '<GO>',\n",
              " '<EOS>',\n",
              " '0',\n",
              " '1',\n",
              " '2',\n",
              " '3',\n",
              " '4',\n",
              " '5',\n",
              " '6',\n",
              " '7',\n",
              " '8',\n",
              " '9',\n",
              " 'cent',\n",
              " 'cents',\n",
              " 'cinq',\n",
              " 'cinquante',\n",
              " 'deux',\n",
              " 'dix',\n",
              " 'douze',\n",
              " 'et',\n",
              " 'huit',\n",
              " 'mille',\n",
              " 'neuf',\n",
              " 'onze',\n",
              " 'quarante',\n",
              " 'quatorze',\n",
              " 'quatre',\n",
              " 'quinze',\n",
              " 'seize',\n",
              " 'sept',\n",
              " 'six',\n",
              " 'soixante',\n",
              " 'treize',\n",
              " 'trente',\n",
              " 'trois',\n",
              " 'un',\n",
              " 'vingt',\n",
              " 'vingts']"
            ]
          },
          "metadata": {},
          "execution_count": 17
        }
      ]
    },
    {
      "cell_type": "markdown",
      "source": [
        "## Seq2Seq with a single GRU architecture\n",
        "\n",
        "<img src=\"https://raw.githubusercontent.com/m2dsupsdlclass/lectures-labs/6ccf141172e47a3d9e367620b4d70e1c9564e9d2/labs/07_seq2seq/images/basic_seq2seq.png\" width=\"80%\" />\n",
        "\n",
        "From: [Sutskever, Ilya, Oriol Vinyals, and Quoc V. Le. \"Sequence to sequence learning with neural networks.\" NIPS 2014](https://arxiv.org/abs/1409.3215)\n",
        "\n",
        "\n",
        "\n",
        "For a given source sequence - target sequence pair, we will:\n",
        "- tokenize the source and target sequences;\n",
        "- reverse the order of the source sequence;\n",
        "- build the input sequence by concatenating the reversed source sequence and the target sequence in original order using the `<GO>` token as a delimiter,\n",
        "- build the output sequence by appending the `<EOS>` token to the source sequence.\n",
        "\n",
        "\n",
        "Let's do this as a function using the original string representations for the tokens so as to make it easier to debug:"
      ],
      "metadata": {
        "id": "NogxK_qPHgBK"
      }
    },
    {
      "cell_type": "markdown",
      "source": [
        "### Exercise\n",
        "- Write a function that turns a pair of tokenized sequences (`source`, `target`) into a pair of (`input`, `output`) sequences to be used to train the neural network as represented in the [diagram](https://raw.githubusercontent.com/m2dsupsdlclass/lectures-labs/6ccf141172e47a3d9e367620b4d70e1c9564e9d2/labs/07_seq2seq/images/basic_seq2seq.png) above.\n",
        "- Expect `source` and `target` to be provided as Python list of string objects and you should also return `input` and `output` as Python list of strings.\n",
        "- The function should have a `reverse_source=True` as an option to reverse the order of the `source` tokens.\n",
        "\n",
        "Notes:\n",
        "- The function should output two sequences of string tokens: one to be fed as the input and the other as expected output for the seq2seq network.\n",
        "- Do not pad the end of the sequences: we will handle the padding later.\n",
        "- Don't forget to insert the `<GO>` and `<EOS>` special symbols at the right locations.\n",
        "- Use `list()` + `reversed()` to reverse the order of the elements of a Python list:\n",
        "    - `list(reversed(['a', 'b', 'c'])) == ['c', 'b', 'a']`\n",
        "- To concatenated two Python list, you can use the `+` operator:\n",
        "    - `['a'] + ['b', 'c'] == ['a', 'b', 'c']`.\n",
        "- To replicate a symbol n times, it's possible to use the `*` operator:\n",
        "    - `['a'] * 3 == ['a', 'a', 'a']`"
      ],
      "metadata": {
        "id": "BkKGIXnRHgBK"
      }
    },
    {
      "cell_type": "code",
      "source": [
        "def make_input_output(source_tokens, target_tokens, reverse_source=True):\n",
        "    # TODO\n",
        "    input_tokens = []\n",
        "    output_tokens = []\n",
        "\n",
        "    # Check that both the generated input and output have the same length\n",
        "    assert len(input_tokens) == len(output_tokens)\n",
        "\n",
        "    return input_tokens, output_tokens"
      ],
      "metadata": {
        "execution": {
          "iopub.status.busy": "2023-11-15T18:05:16.635123Z",
          "iopub.execute_input": "2023-11-15T18:05:16.635527Z",
          "iopub.status.idle": "2023-11-15T18:05:16.643012Z",
          "shell.execute_reply.started": "2023-11-15T18:05:16.635490Z",
          "shell.execute_reply": "2023-11-15T18:05:16.642059Z"
        },
        "trusted": true,
        "id": "GN1ftZAEHgBK"
      },
      "execution_count": 18,
      "outputs": []
    },
    {
      "cell_type": "code",
      "source": [
        "input_tokens, output_tokens = make_input_output(\n",
        "    ['cent', 'vingt', 'et', 'un'],\n",
        "    ['1', '2', '1'],\n",
        "    reverse_source=True,\n",
        ")\n",
        "# Expected pair of returned sequences:\n",
        "# input =  ['un',    'et',    'vingt', 'cent',  '<GO>',  '1',    '2',    '1']\n",
        "# output = ['<PAD>', '<PAD>', '<PAD>', '<PAD>', '1',     '2',    '1',    '<EOS>']"
      ],
      "metadata": {
        "execution": {
          "iopub.status.busy": "2023-11-15T18:05:16.644443Z",
          "iopub.execute_input": "2023-11-15T18:05:16.644773Z",
          "iopub.status.idle": "2023-11-15T18:05:16.652733Z",
          "shell.execute_reply.started": "2023-11-15T18:05:16.644742Z",
          "shell.execute_reply": "2023-11-15T18:05:16.651827Z"
        },
        "trusted": true,
        "id": "lHHKh1yOHgBK"
      },
      "execution_count": 19,
      "outputs": []
    },
    {
      "cell_type": "markdown",
      "source": [
        "### Solution"
      ],
      "metadata": {
        "id": "L1RMoKo7HgBK"
      }
    },
    {
      "cell_type": "code",
      "source": [
        "def make_input_output(source_tokens, target_tokens, reverse_source=True):\n",
        "    if reverse_source:\n",
        "        source_tokens = list(reversed(source_tokens))\n",
        "\n",
        "    input_tokens = source_tokens + [GO] + target_tokens\n",
        "    output_tokens = ([PAD] * len(source_tokens)) + target_tokens + [EOS]\n",
        "\n",
        "    # Check that both the generated input and output have the same length\n",
        "    assert len(input_tokens) == len(output_tokens)\n",
        "\n",
        "    return input_tokens, output_tokens"
      ],
      "metadata": {
        "execution": {
          "iopub.status.busy": "2023-11-15T18:05:16.654116Z",
          "iopub.execute_input": "2023-11-15T18:05:16.654446Z",
          "iopub.status.idle": "2023-11-15T18:05:16.662985Z",
          "shell.execute_reply.started": "2023-11-15T18:05:16.654417Z",
          "shell.execute_reply": "2023-11-15T18:05:16.661939Z"
        },
        "trusted": true,
        "id": "Zy4badpEHgBK"
      },
      "execution_count": 20,
      "outputs": []
    },
    {
      "cell_type": "code",
      "source": [
        "input_tokens, output_tokens = make_input_output(\n",
        "    ['cent', 'vingt', 'et', 'un'],\n",
        "    ['1', '2', '1'],\n",
        ")"
      ],
      "metadata": {
        "execution": {
          "iopub.status.busy": "2023-11-15T18:05:16.664269Z",
          "iopub.execute_input": "2023-11-15T18:05:16.664635Z",
          "iopub.status.idle": "2023-11-15T18:05:16.672410Z",
          "shell.execute_reply.started": "2023-11-15T18:05:16.664606Z",
          "shell.execute_reply": "2023-11-15T18:05:16.671414Z"
        },
        "trusted": true,
        "id": "Y0dfd98SHgBK"
      },
      "execution_count": 21,
      "outputs": []
    },
    {
      "cell_type": "code",
      "source": [
        "input_tokens"
      ],
      "metadata": {
        "execution": {
          "iopub.status.busy": "2023-11-15T18:05:16.673674Z",
          "iopub.execute_input": "2023-11-15T18:05:16.673963Z",
          "iopub.status.idle": "2023-11-15T18:05:16.684270Z",
          "shell.execute_reply.started": "2023-11-15T18:05:16.673936Z",
          "shell.execute_reply": "2023-11-15T18:05:16.683199Z"
        },
        "trusted": true,
        "id": "c_FRk0izHgBK",
        "outputId": "e7b6df9d-6c79-4baa-96a3-c37cf6cf7bf7",
        "colab": {
          "base_uri": "https://localhost:8080/"
        }
      },
      "execution_count": 22,
      "outputs": [
        {
          "output_type": "execute_result",
          "data": {
            "text/plain": [
              "['un', 'et', 'vingt', 'cent', '<GO>', '1', '2', '1']"
            ]
          },
          "metadata": {},
          "execution_count": 22
        }
      ]
    },
    {
      "cell_type": "code",
      "source": [
        "output_tokens"
      ],
      "metadata": {
        "execution": {
          "iopub.status.busy": "2023-11-15T18:05:16.685675Z",
          "iopub.execute_input": "2023-11-15T18:05:16.686177Z",
          "iopub.status.idle": "2023-11-15T18:05:16.695957Z",
          "shell.execute_reply.started": "2023-11-15T18:05:16.686138Z",
          "shell.execute_reply": "2023-11-15T18:05:16.694844Z"
        },
        "trusted": true,
        "id": "PC7g-MhWHgBK",
        "outputId": "c23a39ca-8522-4610-fcc1-ef752713281c",
        "colab": {
          "base_uri": "https://localhost:8080/"
        }
      },
      "execution_count": 23,
      "outputs": [
        {
          "output_type": "execute_result",
          "data": {
            "text/plain": [
              "['<PAD>', '<PAD>', '<PAD>', '<PAD>', '1', '2', '1', '<EOS>']"
            ]
          },
          "metadata": {},
          "execution_count": 23
        }
      ]
    },
    {
      "cell_type": "markdown",
      "source": [
        "### Vectorization of the parallel corpus\n",
        "\n",
        "Let's apply the previous transformation to each pair of (source, target) sequence to store the results in numpy arrays of integer token ids, with padding on the left so that all input / output sequences have the same length:"
      ],
      "metadata": {
        "id": "ec95IK81HgBL"
      }
    },
    {
      "cell_type": "code",
      "source": [
        "max(len(s) for s in tokenized_fr_train)"
      ],
      "metadata": {
        "execution": {
          "iopub.status.busy": "2023-11-15T18:05:16.697305Z",
          "iopub.execute_input": "2023-11-15T18:05:16.697700Z",
          "iopub.status.idle": "2023-11-15T18:05:16.708458Z",
          "shell.execute_reply.started": "2023-11-15T18:05:16.697663Z",
          "shell.execute_reply": "2023-11-15T18:05:16.707580Z"
        },
        "trusted": true,
        "id": "Swb2gmeGHgBL",
        "outputId": "42429191-8766-43fd-8c08-b034eae90180",
        "colab": {
          "base_uri": "https://localhost:8080/"
        }
      },
      "execution_count": 24,
      "outputs": [
        {
          "output_type": "execute_result",
          "data": {
            "text/plain": [
              "13"
            ]
          },
          "metadata": {},
          "execution_count": 24
        }
      ]
    },
    {
      "cell_type": "code",
      "source": [
        "max(len(s) for s in tokenized_num_train)"
      ],
      "metadata": {
        "execution": {
          "iopub.status.busy": "2023-11-15T18:05:16.709551Z",
          "iopub.execute_input": "2023-11-15T18:05:16.709814Z",
          "iopub.status.idle": "2023-11-15T18:05:16.719604Z",
          "shell.execute_reply.started": "2023-11-15T18:05:16.709788Z",
          "shell.execute_reply": "2023-11-15T18:05:16.718629Z"
        },
        "trusted": true,
        "id": "zwLft6hbHgBL",
        "outputId": "54acbb87-4ca7-4e79-f2e3-e9efd5993ed4",
        "colab": {
          "base_uri": "https://localhost:8080/"
        }
      },
      "execution_count": 25,
      "outputs": [
        {
          "output_type": "execute_result",
          "data": {
            "text/plain": [
              "6"
            ]
          },
          "metadata": {},
          "execution_count": 25
        }
      ]
    },
    {
      "cell_type": "code",
      "source": [
        "import numpy as np\n",
        "\n",
        "\n",
        "def vectorize_corpus(\n",
        "    source_sequences,\n",
        "    target_sequences,\n",
        "    shared_vocab,\n",
        "    max_length=20,  # found by introspection of our training set\n",
        "    reverse_source=True,\n",
        "):\n",
        "    assert len(source_sequences) == len(target_sequences)\n",
        "    n_sequences = len(source_sequences)\n",
        "    source_ids = np.full(\n",
        "        fill_value=shared_vocab[PAD],\n",
        "        shape=(n_sequences, max_length),\n",
        "        dtype=np.int64,\n",
        "    )\n",
        "    target_ids = source_ids.copy()\n",
        "    numbered_pairs = zip(range(n_sequences), source_sequences, target_sequences)\n",
        "    for i, source_seq, target_seq in numbered_pairs:\n",
        "        source_tokens = tokenize(source_seq)\n",
        "        target_tokens = tokenize(target_seq)\n",
        "\n",
        "        in_tokens, out_tokens = make_input_output(\n",
        "            source_tokens, target_tokens, reverse_source=reverse_source\n",
        "        )\n",
        "\n",
        "        in_token_ids = [shared_vocab.get(t, shared_vocab[UNK]) for t in in_tokens]\n",
        "        source_ids[i, : len(in_tokens)] = in_token_ids\n",
        "\n",
        "        out_token_ids = [shared_vocab.get(t, shared_vocab[UNK]) for t in out_tokens]\n",
        "        target_ids[i, : len(out_tokens)] = out_token_ids\n",
        "\n",
        "    return source_ids, target_ids\n"
      ],
      "metadata": {
        "execution": {
          "iopub.status.busy": "2023-11-15T18:05:16.720952Z",
          "iopub.execute_input": "2023-11-15T18:05:16.721332Z",
          "iopub.status.idle": "2023-11-15T18:05:16.733200Z",
          "shell.execute_reply.started": "2023-11-15T18:05:16.721274Z",
          "shell.execute_reply": "2023-11-15T18:05:16.732274Z"
        },
        "trusted": true,
        "id": "cw-lx4zeHgBL"
      },
      "execution_count": 26,
      "outputs": []
    },
    {
      "cell_type": "code",
      "source": [
        "X_train, Y_train = vectorize_corpus(fr_train, num_train, vocab)"
      ],
      "metadata": {
        "execution": {
          "iopub.status.busy": "2023-11-15T18:05:16.734527Z",
          "iopub.execute_input": "2023-11-15T18:05:16.734864Z",
          "iopub.status.idle": "2023-11-15T18:05:16.937621Z",
          "shell.execute_reply.started": "2023-11-15T18:05:16.734836Z",
          "shell.execute_reply": "2023-11-15T18:05:16.936780Z"
        },
        "trusted": true,
        "id": "2clVMbOXHgBL"
      },
      "execution_count": 27,
      "outputs": []
    },
    {
      "cell_type": "code",
      "source": [
        "X_train.shape"
      ],
      "metadata": {
        "execution": {
          "iopub.status.busy": "2023-11-15T18:05:16.945784Z",
          "iopub.execute_input": "2023-11-15T18:05:16.946189Z",
          "iopub.status.idle": "2023-11-15T18:05:16.952398Z",
          "shell.execute_reply.started": "2023-11-15T18:05:16.946150Z",
          "shell.execute_reply": "2023-11-15T18:05:16.951380Z"
        },
        "trusted": true,
        "id": "RybIBsH-HgBM",
        "outputId": "1e983aee-1b0e-4336-f93a-09e191c2128e",
        "colab": {
          "base_uri": "https://localhost:8080/"
        }
      },
      "execution_count": 28,
      "outputs": [
        {
          "output_type": "execute_result",
          "data": {
            "text/plain": [
              "(10000, 20)"
            ]
          },
          "metadata": {},
          "execution_count": 28
        }
      ]
    },
    {
      "cell_type": "code",
      "source": [
        "X_train[0]"
      ],
      "metadata": {
        "execution": {
          "iopub.status.busy": "2023-11-15T18:05:16.953681Z",
          "iopub.execute_input": "2023-11-15T18:05:16.954032Z",
          "iopub.status.idle": "2023-11-15T18:05:16.962918Z",
          "shell.execute_reply.started": "2023-11-15T18:05:16.953995Z",
          "shell.execute_reply": "2023-11-15T18:05:16.961765Z"
        },
        "trusted": true,
        "id": "oTmqW5owHgBM",
        "outputId": "3aa35194-11b3-413f-ba81-17cc2b03c5ef",
        "colab": {
          "base_uri": "https://localhost:8080/"
        }
      },
      "execution_count": 29,
      "outputs": [
        {
          "output_type": "execute_result",
          "data": {
            "text/plain": [
              "array([18, 38, 28, 14, 22, 23, 18,  2,  6, 12, 12,  6,  0,  0,  0,  0,  0,\n",
              "        0,  0,  0])"
            ]
          },
          "metadata": {},
          "execution_count": 29
        }
      ]
    },
    {
      "cell_type": "code",
      "source": [
        "Y_train[0]"
      ],
      "metadata": {
        "execution": {
          "iopub.status.busy": "2023-11-15T18:05:16.964002Z",
          "iopub.execute_input": "2023-11-15T18:05:16.964276Z",
          "iopub.status.idle": "2023-11-15T18:05:16.972878Z",
          "shell.execute_reply.started": "2023-11-15T18:05:16.964250Z",
          "shell.execute_reply": "2023-11-15T18:05:16.971780Z"
        },
        "trusted": true,
        "id": "RTQ1yjSJHgBM",
        "outputId": "6da91c34-02a2-4d69-fdfd-5ae5a9bc9bd7",
        "colab": {
          "base_uri": "https://localhost:8080/"
        }
      },
      "execution_count": 30,
      "outputs": [
        {
          "output_type": "execute_result",
          "data": {
            "text/plain": [
              "array([ 0,  0,  0,  0,  0,  0,  0,  6, 12, 12,  6,  3,  0,  0,  0,  0,  0,\n",
              "        0,  0,  0])"
            ]
          },
          "metadata": {},
          "execution_count": 30
        }
      ]
    },
    {
      "cell_type": "code",
      "source": [
        "fr_train[0]"
      ],
      "metadata": {
        "execution": {
          "iopub.status.busy": "2023-11-15T18:05:16.974147Z",
          "iopub.execute_input": "2023-11-15T18:05:16.974760Z",
          "iopub.status.idle": "2023-11-15T18:05:16.982673Z",
          "shell.execute_reply.started": "2023-11-15T18:05:16.974724Z",
          "shell.execute_reply": "2023-11-15T18:05:16.981827Z"
        },
        "trusted": true,
        "id": "KOFrIkMQHgBM",
        "outputId": "866ad34f-ddaa-4403-aee9-2616fc63692f",
        "colab": {
          "base_uri": "https://localhost:8080/",
          "height": 36
        }
      },
      "execution_count": 31,
      "outputs": [
        {
          "output_type": "execute_result",
          "data": {
            "text/plain": [
              "'deux mille huit cent quatre vingt deux'"
            ],
            "application/vnd.google.colaboratory.intrinsic+json": {
              "type": "string"
            }
          },
          "metadata": {},
          "execution_count": 31
        }
      ]
    },
    {
      "cell_type": "code",
      "source": [
        "num_train[0]"
      ],
      "metadata": {
        "execution": {
          "iopub.status.busy": "2023-11-15T18:05:16.983842Z",
          "iopub.execute_input": "2023-11-15T18:05:16.984193Z",
          "iopub.status.idle": "2023-11-15T18:05:16.993182Z",
          "shell.execute_reply.started": "2023-11-15T18:05:16.984158Z",
          "shell.execute_reply": "2023-11-15T18:05:16.992290Z"
        },
        "trusted": true,
        "id": "i2NUBXxhHgBM",
        "outputId": "e0b35507-de11-4546-dcef-6ce3eb80dbdf",
        "colab": {
          "base_uri": "https://localhost:8080/",
          "height": 36
        }
      },
      "execution_count": 32,
      "outputs": [
        {
          "output_type": "execute_result",
          "data": {
            "text/plain": [
              "'2882'"
            ],
            "application/vnd.google.colaboratory.intrinsic+json": {
              "type": "string"
            }
          },
          "metadata": {},
          "execution_count": 32
        }
      ]
    },
    {
      "cell_type": "code",
      "source": [
        "X_train[0]"
      ],
      "metadata": {
        "execution": {
          "iopub.status.busy": "2023-11-15T18:05:16.994192Z",
          "iopub.execute_input": "2023-11-15T18:05:16.994514Z",
          "iopub.status.idle": "2023-11-15T18:05:17.003728Z",
          "shell.execute_reply.started": "2023-11-15T18:05:16.994486Z",
          "shell.execute_reply": "2023-11-15T18:05:17.002831Z"
        },
        "trusted": true,
        "id": "Y9JL4URYHgBM",
        "outputId": "556f6ca3-7a36-46f8-9d0a-277e8c2ce23c",
        "colab": {
          "base_uri": "https://localhost:8080/"
        }
      },
      "execution_count": 33,
      "outputs": [
        {
          "output_type": "execute_result",
          "data": {
            "text/plain": [
              "array([18, 38, 28, 14, 22, 23, 18,  2,  6, 12, 12,  6,  0,  0,  0,  0,  0,\n",
              "        0,  0,  0])"
            ]
          },
          "metadata": {},
          "execution_count": 33
        }
      ]
    },
    {
      "cell_type": "code",
      "source": [
        "Y_train[0]"
      ],
      "metadata": {
        "execution": {
          "iopub.status.busy": "2023-11-15T18:05:17.004917Z",
          "iopub.execute_input": "2023-11-15T18:05:17.005236Z",
          "iopub.status.idle": "2023-11-15T18:05:17.019877Z",
          "shell.execute_reply.started": "2023-11-15T18:05:17.005207Z",
          "shell.execute_reply": "2023-11-15T18:05:17.018939Z"
        },
        "trusted": true,
        "id": "E51OJYCIHgBN",
        "outputId": "2c9f1acf-4fa6-475f-9bba-80641065a6d5",
        "colab": {
          "base_uri": "https://localhost:8080/"
        }
      },
      "execution_count": 34,
      "outputs": [
        {
          "output_type": "execute_result",
          "data": {
            "text/plain": [
              "array([ 0,  0,  0,  0,  0,  0,  0,  6, 12, 12,  6,  3,  0,  0,  0,  0,  0,\n",
              "        0,  0,  0])"
            ]
          },
          "metadata": {},
          "execution_count": 34
        }
      ]
    },
    {
      "cell_type": "markdown",
      "source": [
        "This looks good. In particular we can note:\n",
        "\n",
        "- the `<PAD> = 0` symbol at the end of the two sequences,\n",
        "- the input sequence has the `<GO> = 2` symbol to separate the source from the target,\n",
        "- the output sequence is a shifted version of the target and ends with `<EOS> = 3`.\n",
        "\n",
        "Let's vectorize the validation and test set to be able to evaluate our models:"
      ],
      "metadata": {
        "id": "YPgbJIz7HgBN"
      }
    },
    {
      "cell_type": "code",
      "source": [
        "X_val, Y_val = vectorize_corpus(fr_val, num_val, vocab)\n",
        "X_test, Y_test = vectorize_corpus(fr_test, num_test, vocab)"
      ],
      "metadata": {
        "execution": {
          "iopub.status.busy": "2023-11-15T18:05:17.020873Z",
          "iopub.execute_input": "2023-11-15T18:05:17.021139Z",
          "iopub.status.idle": "2023-11-15T18:05:17.217870Z",
          "shell.execute_reply.started": "2023-11-15T18:05:17.021103Z",
          "shell.execute_reply": "2023-11-15T18:05:17.217034Z"
        },
        "trusted": true,
        "id": "Anqo2q8xHgBN"
      },
      "execution_count": 35,
      "outputs": []
    },
    {
      "cell_type": "code",
      "source": [
        "X_val.shape, Y_val.shape"
      ],
      "metadata": {
        "execution": {
          "iopub.status.busy": "2023-11-15T18:05:17.218953Z",
          "iopub.execute_input": "2023-11-15T18:05:17.219235Z",
          "iopub.status.idle": "2023-11-15T18:05:17.225720Z",
          "shell.execute_reply.started": "2023-11-15T18:05:17.219209Z",
          "shell.execute_reply": "2023-11-15T18:05:17.224688Z"
        },
        "trusted": true,
        "id": "uul3RzatHgBN",
        "outputId": "67612869-f334-4dd7-8106-cb4520a1e074",
        "colab": {
          "base_uri": "https://localhost:8080/"
        }
      },
      "execution_count": 36,
      "outputs": [
        {
          "output_type": "execute_result",
          "data": {
            "text/plain": [
              "((5000, 20), (5000, 20))"
            ]
          },
          "metadata": {},
          "execution_count": 36
        }
      ]
    },
    {
      "cell_type": "code",
      "source": [
        "X_test.shape, Y_test.shape"
      ],
      "metadata": {
        "execution": {
          "iopub.status.busy": "2023-11-15T18:05:17.227051Z",
          "iopub.execute_input": "2023-11-15T18:05:17.228017Z",
          "iopub.status.idle": "2023-11-15T18:05:17.236020Z",
          "shell.execute_reply.started": "2023-11-15T18:05:17.227959Z",
          "shell.execute_reply": "2023-11-15T18:05:17.234976Z"
        },
        "trusted": true,
        "id": "ybEI3hHlHgBO",
        "outputId": "e6457c0c-a008-40b7-f2e9-7cc360542521",
        "colab": {
          "base_uri": "https://localhost:8080/"
        }
      },
      "execution_count": 37,
      "outputs": [
        {
          "output_type": "execute_result",
          "data": {
            "text/plain": [
              "((5000, 20), (5000, 20))"
            ]
          },
          "metadata": {},
          "execution_count": 37
        }
      ]
    },
    {
      "cell_type": "code",
      "source": [
        "import torch\n",
        "from torch.utils.data import DataLoader, TensorDataset\n",
        "\n",
        "\n",
        "DEVICE = torch.device(\"cuda\") if torch.cuda.is_available() else torch.device(\"cpu\")\n",
        "DEVICE"
      ],
      "metadata": {
        "execution": {
          "iopub.status.busy": "2023-11-15T18:05:17.237253Z",
          "iopub.execute_input": "2023-11-15T18:05:17.237862Z",
          "iopub.status.idle": "2023-11-15T18:05:19.113544Z",
          "shell.execute_reply.started": "2023-11-15T18:05:17.237834Z",
          "shell.execute_reply": "2023-11-15T18:05:19.112467Z"
        },
        "trusted": true,
        "id": "3eBHxa1UHgBO",
        "outputId": "2852777b-7561-4fab-8871-a92afc229009",
        "colab": {
          "base_uri": "https://localhost:8080/"
        }
      },
      "execution_count": 38,
      "outputs": [
        {
          "output_type": "execute_result",
          "data": {
            "text/plain": [
              "device(type='cuda')"
            ]
          },
          "metadata": {},
          "execution_count": 38
        }
      ]
    },
    {
      "cell_type": "code",
      "source": [
        "train_dl = DataLoader(\n",
        "    TensorDataset(\n",
        "        torch.from_numpy(X_train).to(DEVICE),\n",
        "        torch.from_numpy(Y_train).to(DEVICE),\n",
        "    ),\n",
        "    batch_size=64,\n",
        "    shuffle=True,\n",
        ")\n",
        "\n",
        "validation_dl = DataLoader(\n",
        "    TensorDataset(\n",
        "        torch.from_numpy(X_val).to(DEVICE),\n",
        "        torch.from_numpy(Y_val).to(DEVICE),\n",
        "    ),\n",
        "    batch_size=512,\n",
        ")\n",
        "\n",
        "test_dl = DataLoader(\n",
        "    TensorDataset(\n",
        "        torch.from_numpy(X_test).to(DEVICE),\n",
        "        torch.from_numpy(Y_test).to(DEVICE),\n",
        "    ),\n",
        "    batch_size=512,\n",
        ")"
      ],
      "metadata": {
        "execution": {
          "iopub.status.busy": "2023-11-15T18:05:19.114614Z",
          "iopub.execute_input": "2023-11-15T18:05:19.115116Z",
          "iopub.status.idle": "2023-11-15T18:05:21.927290Z",
          "shell.execute_reply.started": "2023-11-15T18:05:19.115087Z",
          "shell.execute_reply": "2023-11-15T18:05:21.926454Z"
        },
        "trusted": true,
        "id": "TNDgl9KDHgBO"
      },
      "execution_count": 39,
      "outputs": []
    },
    {
      "cell_type": "code",
      "source": [
        "first_input_batch, first_output_batch = next(iter(train_dl))\n",
        "first_input_batch.shape, first_input_batch.dtype"
      ],
      "metadata": {
        "execution": {
          "iopub.status.busy": "2023-11-15T18:05:21.928310Z",
          "iopub.execute_input": "2023-11-15T18:05:21.928625Z",
          "iopub.status.idle": "2023-11-15T18:05:21.945129Z",
          "shell.execute_reply.started": "2023-11-15T18:05:21.928597Z",
          "shell.execute_reply": "2023-11-15T18:05:21.944215Z"
        },
        "trusted": true,
        "id": "3ShlE9J6HgBO",
        "outputId": "3ba7aa36-c676-4866-b4d9-05715f3c7fa6",
        "colab": {
          "base_uri": "https://localhost:8080/"
        }
      },
      "execution_count": 40,
      "outputs": [
        {
          "output_type": "execute_result",
          "data": {
            "text/plain": [
              "(torch.Size([64, 20]), torch.int64)"
            ]
          },
          "metadata": {},
          "execution_count": 40
        }
      ]
    },
    {
      "cell_type": "code",
      "source": [
        "first_input_batch[0]"
      ],
      "metadata": {
        "execution": {
          "iopub.status.busy": "2023-11-15T18:05:21.946253Z",
          "iopub.execute_input": "2023-11-15T18:05:21.946556Z",
          "iopub.status.idle": "2023-11-15T18:05:21.953989Z",
          "shell.execute_reply.started": "2023-11-15T18:05:21.946529Z",
          "shell.execute_reply": "2023-11-15T18:05:21.953118Z"
        },
        "trusted": true,
        "id": "XEfQYQuWHgBO",
        "outputId": "5b8c6762-a033-4a34-d6e0-1b698440c992",
        "colab": {
          "base_uri": "https://localhost:8080/"
        }
      },
      "execution_count": 41,
      "outputs": [
        {
          "output_type": "execute_result",
          "data": {
            "text/plain": [
              "tensor([31, 35, 14, 31, 23, 28,  2,  8, 11,  7, 11,  0,  0,  0,  0,  0,  0,  0,\n",
              "         0,  0], device='cuda:0')"
            ]
          },
          "metadata": {},
          "execution_count": 41
        }
      ]
    },
    {
      "cell_type": "code",
      "source": [
        "first_output_batch.shape, first_output_batch.dtype"
      ],
      "metadata": {
        "execution": {
          "iopub.status.busy": "2023-11-15T18:05:21.955218Z",
          "iopub.execute_input": "2023-11-15T18:05:21.955539Z",
          "iopub.status.idle": "2023-11-15T18:05:21.962024Z",
          "shell.execute_reply.started": "2023-11-15T18:05:21.955482Z",
          "shell.execute_reply": "2023-11-15T18:05:21.961099Z"
        },
        "trusted": true,
        "id": "NR4a9DH0HgBO",
        "outputId": "651a5408-ad9b-4c5f-e8cf-1f5325bba327",
        "colab": {
          "base_uri": "https://localhost:8080/"
        }
      },
      "execution_count": 42,
      "outputs": [
        {
          "output_type": "execute_result",
          "data": {
            "text/plain": [
              "(torch.Size([64, 20]), torch.int64)"
            ]
          },
          "metadata": {},
          "execution_count": 42
        }
      ]
    },
    {
      "cell_type": "code",
      "source": [
        "first_output_batch[0]"
      ],
      "metadata": {
        "execution": {
          "iopub.status.busy": "2023-11-15T18:05:21.963207Z",
          "iopub.execute_input": "2023-11-15T18:05:21.963831Z",
          "iopub.status.idle": "2023-11-15T18:05:21.972982Z",
          "shell.execute_reply.started": "2023-11-15T18:05:21.963802Z",
          "shell.execute_reply": "2023-11-15T18:05:21.972091Z"
        },
        "trusted": true,
        "id": "wgtlAf-VHgBP",
        "outputId": "f7407221-e9b2-48d1-bcf6-3fa417710205",
        "colab": {
          "base_uri": "https://localhost:8080/"
        }
      },
      "execution_count": 43,
      "outputs": [
        {
          "output_type": "execute_result",
          "data": {
            "text/plain": [
              "tensor([ 0,  0,  0,  0,  0,  0,  8, 11,  7, 11,  3,  0,  0,  0,  0,  0,  0,  0,\n",
              "         0,  0], device='cuda:0')"
            ]
          },
          "metadata": {},
          "execution_count": 43
        }
      ]
    },
    {
      "cell_type": "markdown",
      "source": [
        "### A simple homogeneous Seq2Seq architecture\n",
        "\n",
        "To keep the architecture simple we will use a **decoder-only** architecture that will use a single RNN model fed with both the source tokens (before the `<GO>` token) and the target tokens (after the `<GO>` token) and we will use teacher-forcing to train this end-to-end.\n",
        "\n",
        "We may GRU recurrent cell instead of LSTM because it is slightly faster to compute and should give comparable results.\n",
        "\n",
        "before building the model, we will simulate a forward pass step by step to introduce the different layers and shape of their outputs.\n",
        "\n",
        "Let's start with the embedding layer:"
      ],
      "metadata": {
        "id": "J3CDAfmCHgBP"
      }
    },
    {
      "cell_type": "code",
      "source": [
        "embedding_dim = 64\n",
        "\n",
        "embedding_layer = torch.nn.Embedding(\n",
        "    num_embeddings=len(vocab),\n",
        "    embedding_dim=embedding_dim,\n",
        ").to(DEVICE)\n",
        "embedded_batch = embedding_layer(first_input_batch)\n",
        "embedded_batch.shape\n",
        "# (batch_size, sequence_length, embedding_dim)"
      ],
      "metadata": {
        "execution": {
          "iopub.status.busy": "2023-11-15T18:05:21.974097Z",
          "iopub.execute_input": "2023-11-15T18:05:21.974396Z",
          "iopub.status.idle": "2023-11-15T18:05:21.991717Z",
          "shell.execute_reply.started": "2023-11-15T18:05:21.974344Z",
          "shell.execute_reply": "2023-11-15T18:05:21.990823Z"
        },
        "trusted": true,
        "id": "8Rmc9i8kHgBP",
        "outputId": "fc6ee6ff-3b78-4c2b-d2c7-447212229bc4",
        "colab": {
          "base_uri": "https://localhost:8080/"
        }
      },
      "execution_count": 44,
      "outputs": [
        {
          "output_type": "execute_result",
          "data": {
            "text/plain": [
              "torch.Size([64, 20, 64])"
            ]
          },
          "metadata": {},
          "execution_count": 44
        }
      ]
    },
    {
      "cell_type": "code",
      "source": [
        "embedded_batch.dtype"
      ],
      "metadata": {
        "execution": {
          "iopub.status.busy": "2023-11-15T18:05:21.992990Z",
          "iopub.execute_input": "2023-11-15T18:05:21.993745Z",
          "iopub.status.idle": "2023-11-15T18:05:21.999653Z",
          "shell.execute_reply.started": "2023-11-15T18:05:21.993707Z",
          "shell.execute_reply": "2023-11-15T18:05:21.998692Z"
        },
        "trusted": true,
        "id": "OsyoxwOVHgBP",
        "outputId": "f0f47d64-835b-4190-add8-73e948974b7e",
        "colab": {
          "base_uri": "https://localhost:8080/"
        }
      },
      "execution_count": 45,
      "outputs": [
        {
          "output_type": "execute_result",
          "data": {
            "text/plain": [
              "torch.float32"
            ]
          },
          "metadata": {},
          "execution_count": 45
        }
      ]
    },
    {
      "cell_type": "markdown",
      "source": [
        "Then we feed the sequence of embedded token vectors to a recurrent layer. This layer return both per-time step hidden states and the hidden state of the final step:"
      ],
      "metadata": {
        "id": "AGJRGNnBHgBP"
      }
    },
    {
      "cell_type": "code",
      "source": [
        "gru_hidden_dim = 256\n",
        "\n",
        "gru_layer = torch.nn.GRU(\n",
        "    input_size=embedding_dim,\n",
        "    hidden_size=gru_hidden_dim,\n",
        "    num_layers=2,\n",
        "    batch_first=True\n",
        ").to(DEVICE)\n",
        "gru_last_layer_per_step_output, gru_per_layer_final_step_output = gru_layer(embedded_batch)"
      ],
      "metadata": {
        "execution": {
          "iopub.status.busy": "2023-11-15T18:05:22.000842Z",
          "iopub.execute_input": "2023-11-15T18:05:22.001120Z",
          "iopub.status.idle": "2023-11-15T18:05:22.986881Z",
          "shell.execute_reply.started": "2023-11-15T18:05:22.001094Z",
          "shell.execute_reply": "2023-11-15T18:05:22.985767Z"
        },
        "trusted": true,
        "id": "wPL4RhMaHgBP"
      },
      "execution_count": 46,
      "outputs": []
    },
    {
      "cell_type": "code",
      "source": [
        "gru_last_layer_per_step_output.shape\n",
        "# (batch_size, sequence_length, gru_hidden_dim)"
      ],
      "metadata": {
        "execution": {
          "iopub.status.busy": "2023-11-15T18:05:22.988207Z",
          "iopub.execute_input": "2023-11-15T18:05:22.988604Z",
          "iopub.status.idle": "2023-11-15T18:05:22.995742Z",
          "shell.execute_reply.started": "2023-11-15T18:05:22.988567Z",
          "shell.execute_reply": "2023-11-15T18:05:22.994792Z"
        },
        "trusted": true,
        "id": "Qg3o3wYhHgBP",
        "outputId": "d5bba2dc-e9c0-430b-b3f8-43e750f2cde5",
        "colab": {
          "base_uri": "https://localhost:8080/"
        }
      },
      "execution_count": 47,
      "outputs": [
        {
          "output_type": "execute_result",
          "data": {
            "text/plain": [
              "torch.Size([64, 20, 256])"
            ]
          },
          "metadata": {},
          "execution_count": 47
        }
      ]
    },
    {
      "cell_type": "code",
      "source": [
        "gru_per_layer_final_step_output.shape\n",
        "# (num_gru_layers, batch_size, gru_hidden_dim)"
      ],
      "metadata": {
        "execution": {
          "iopub.status.busy": "2023-11-15T18:05:22.996945Z",
          "iopub.execute_input": "2023-11-15T18:05:22.997988Z",
          "iopub.status.idle": "2023-11-15T18:05:23.006090Z",
          "shell.execute_reply.started": "2023-11-15T18:05:22.997941Z",
          "shell.execute_reply": "2023-11-15T18:05:23.004973Z"
        },
        "trusted": true,
        "id": "DWLpIjY-HgBP",
        "outputId": "dc6216f1-42c2-4585-d68c-18f18c1d3bf4",
        "colab": {
          "base_uri": "https://localhost:8080/"
        }
      },
      "execution_count": 48,
      "outputs": [
        {
          "output_type": "execute_result",
          "data": {
            "text/plain": [
              "torch.Size([2, 64, 256])"
            ]
          },
          "metadata": {},
          "execution_count": 48
        }
      ]
    },
    {
      "cell_type": "markdown",
      "source": [
        "We do not need `gru_per_layer_final_step_output` for our use case. Instead we want to map the ouput of the last layer to a class logit (unormalized probability) at each step in the sequence.\n",
        "\n",
        "To do this we can either use a `torch.nn.Linear()` layer that maps from the `gru_hidden_dim` space to the `len(vocab)` logit space. If the `gru_hidden_dim` axis is presented in the last postition to the `Linear` layer, the linear operation will automatically be applied independently at each step in the sequence:"
      ],
      "metadata": {
        "id": "TowG7WNeHgBQ"
      }
    },
    {
      "cell_type": "code",
      "source": [
        "gru_last_layer_per_step_output.shape"
      ],
      "metadata": {
        "execution": {
          "iopub.status.busy": "2023-11-15T18:05:23.007437Z",
          "iopub.execute_input": "2023-11-15T18:05:23.007781Z",
          "iopub.status.idle": "2023-11-15T18:05:23.016815Z",
          "shell.execute_reply.started": "2023-11-15T18:05:23.007739Z",
          "shell.execute_reply": "2023-11-15T18:05:23.015840Z"
        },
        "trusted": true,
        "id": "Fbvkk6E6HgBQ",
        "outputId": "674570bb-247a-4ada-a32e-190efaea26f7",
        "colab": {
          "base_uri": "https://localhost:8080/"
        }
      },
      "execution_count": 49,
      "outputs": [
        {
          "output_type": "execute_result",
          "data": {
            "text/plain": [
              "torch.Size([64, 20, 256])"
            ]
          },
          "metadata": {},
          "execution_count": 49
        }
      ]
    },
    {
      "cell_type": "code",
      "source": [
        "linear_classifier_layer = torch.nn.Linear(\n",
        "    in_features=gru_hidden_dim,\n",
        "    out_features=len(vocab),\n",
        ").to(DEVICE)\n",
        "linear_classifier_output = linear_classifier_layer(gru_last_layer_per_step_output)\n",
        "linear_classifier_output.shape\n",
        "# (batch_size, sequence_length, len(vocab))"
      ],
      "metadata": {
        "execution": {
          "iopub.status.busy": "2023-11-15T18:05:23.018073Z",
          "iopub.execute_input": "2023-11-15T18:05:23.018776Z",
          "iopub.status.idle": "2023-11-15T18:05:23.894625Z",
          "shell.execute_reply.started": "2023-11-15T18:05:23.018738Z",
          "shell.execute_reply": "2023-11-15T18:05:23.893629Z"
        },
        "trusted": true,
        "id": "AymzTajdHgBQ",
        "outputId": "b9760177-99c4-4e49-e1b6-9bfed45d191a",
        "colab": {
          "base_uri": "https://localhost:8080/"
        }
      },
      "execution_count": 50,
      "outputs": [
        {
          "output_type": "execute_result",
          "data": {
            "text/plain": [
              "torch.Size([64, 20, 40])"
            ]
          },
          "metadata": {},
          "execution_count": 50
        }
      ]
    },
    {
      "cell_type": "markdown",
      "source": [
        "Alternatively, it would have been possible to use a `torch.nn.Conv1d` operation to obtain a similar result. However it needs being fed it's input swapped `gru_hidden_dim` and `sequence_length` axis:"
      ],
      "metadata": {
        "id": "yyATNB89HgBQ"
      }
    },
    {
      "cell_type": "code",
      "source": [
        "gru_last_layer_per_step_output.shape\n",
        "# (batch_size, sequence_length, gru_hidden_dim)"
      ],
      "metadata": {
        "execution": {
          "iopub.status.busy": "2023-11-15T18:05:23.895944Z",
          "iopub.execute_input": "2023-11-15T18:05:23.896327Z",
          "iopub.status.idle": "2023-11-15T18:05:23.902828Z",
          "shell.execute_reply.started": "2023-11-15T18:05:23.896289Z",
          "shell.execute_reply": "2023-11-15T18:05:23.901818Z"
        },
        "trusted": true,
        "id": "v2iQ4v_FHgBQ",
        "outputId": "05f76ae4-f60e-4f4c-9749-36aedc13f43b",
        "colab": {
          "base_uri": "https://localhost:8080/"
        }
      },
      "execution_count": 51,
      "outputs": [
        {
          "output_type": "execute_result",
          "data": {
            "text/plain": [
              "torch.Size([64, 20, 256])"
            ]
          },
          "metadata": {},
          "execution_count": 51
        }
      ]
    },
    {
      "cell_type": "code",
      "source": [
        "gru_last_layer_per_step_output.transpose(1, 2).shape\n",
        "# (batch_size, gru_hidden_dim, sequence_length)"
      ],
      "metadata": {
        "execution": {
          "iopub.status.busy": "2023-11-15T18:05:23.904163Z",
          "iopub.execute_input": "2023-11-15T18:05:23.904536Z",
          "iopub.status.idle": "2023-11-15T18:05:23.913531Z",
          "shell.execute_reply.started": "2023-11-15T18:05:23.904498Z",
          "shell.execute_reply": "2023-11-15T18:05:23.912578Z"
        },
        "trusted": true,
        "id": "0EqzYjcRHgBQ",
        "outputId": "849eef19-8243-48d7-dc9e-2b8394626086",
        "colab": {
          "base_uri": "https://localhost:8080/"
        }
      },
      "execution_count": 52,
      "outputs": [
        {
          "output_type": "execute_result",
          "data": {
            "text/plain": [
              "torch.Size([64, 256, 20])"
            ]
          },
          "metadata": {},
          "execution_count": 52
        }
      ]
    },
    {
      "cell_type": "code",
      "source": [
        "conv1d_classifier_layer = torch.nn.Conv1d(\n",
        "    in_channels=gru_hidden_dim,\n",
        "    out_channels=len(vocab),\n",
        "    kernel_size=1,\n",
        ").to(DEVICE)\n",
        "conv1d_classifier_output = conv1d_classifier_layer(gru_last_layer_per_step_output.transpose(1, 2))\n",
        "conv1d_classifier_output.shape\n",
        "# (batch_size, len(vocab), sequence_length)"
      ],
      "metadata": {
        "execution": {
          "iopub.status.busy": "2023-11-15T18:05:23.914886Z",
          "iopub.execute_input": "2023-11-15T18:05:23.915245Z",
          "iopub.status.idle": "2023-11-15T18:05:28.213829Z",
          "shell.execute_reply.started": "2023-11-15T18:05:23.915210Z",
          "shell.execute_reply": "2023-11-15T18:05:28.212894Z"
        },
        "trusted": true,
        "id": "zAONOmABHgBQ",
        "outputId": "1394d041-2196-43f3-9e7b-fa428cee085e",
        "colab": {
          "base_uri": "https://localhost:8080/"
        }
      },
      "execution_count": 53,
      "outputs": [
        {
          "output_type": "execute_result",
          "data": {
            "text/plain": [
              "torch.Size([64, 40, 20])"
            ]
          },
          "metadata": {},
          "execution_count": 53
        }
      ]
    },
    {
      "cell_type": "markdown",
      "source": [
        "Depending on how we will use the final output of the classifier, we might want to decide to swap the ` len(vocab)` and `sequence_length` axis again with another call to `.transpose(1, 2)` if needed.\n",
        "\n",
        "Since we will use the `torch.nn.CrossEntropyLoss` criterion to optimize the full architecture end-to-end, we, need to ensure that per-token predictions are shaped `(batch, vocab_size, sequence_length)`:"
      ],
      "metadata": {
        "id": "6mVq57wRHgBR"
      }
    },
    {
      "cell_type": "code",
      "source": [
        "linear_classifier_output.transpose(1, 2).shape"
      ],
      "metadata": {
        "execution": {
          "iopub.status.busy": "2023-11-15T18:05:28.215159Z",
          "iopub.execute_input": "2023-11-15T18:05:28.215554Z",
          "iopub.status.idle": "2023-11-15T18:05:28.222526Z",
          "shell.execute_reply.started": "2023-11-15T18:05:28.215514Z",
          "shell.execute_reply": "2023-11-15T18:05:28.221544Z"
        },
        "trusted": true,
        "id": "b0zUgOzyHgBR",
        "outputId": "42dcf10e-74de-4776-fcde-1c8aa72d5585",
        "colab": {
          "base_uri": "https://localhost:8080/"
        }
      },
      "execution_count": 54,
      "outputs": [
        {
          "output_type": "execute_result",
          "data": {
            "text/plain": [
              "torch.Size([64, 40, 20])"
            ]
          },
          "metadata": {},
          "execution_count": 54
        }
      ]
    },
    {
      "cell_type": "code",
      "source": [
        "first_output_batch.shape"
      ],
      "metadata": {
        "execution": {
          "iopub.status.busy": "2023-11-15T18:05:28.223830Z",
          "iopub.execute_input": "2023-11-15T18:05:28.224465Z",
          "iopub.status.idle": "2023-11-15T18:05:28.234187Z",
          "shell.execute_reply.started": "2023-11-15T18:05:28.224427Z",
          "shell.execute_reply": "2023-11-15T18:05:28.233398Z"
        },
        "trusted": true,
        "id": "U9Up3lFNHgBR",
        "outputId": "33741e5a-1a74-49dc-ec8a-d06ab28b38a8",
        "colab": {
          "base_uri": "https://localhost:8080/"
        }
      },
      "execution_count": 55,
      "outputs": [
        {
          "output_type": "execute_result",
          "data": {
            "text/plain": [
              "torch.Size([64, 20])"
            ]
          },
          "metadata": {},
          "execution_count": 55
        }
      ]
    },
    {
      "cell_type": "code",
      "source": [
        "xe_loss = torch.nn.CrossEntropyLoss()\n",
        "\n",
        "xe_loss(\n",
        "    linear_classifier_output.transpose(1, 2),\n",
        "    first_output_batch,\n",
        ")"
      ],
      "metadata": {
        "execution": {
          "iopub.status.busy": "2023-11-15T18:05:28.237306Z",
          "iopub.execute_input": "2023-11-15T18:05:28.237637Z",
          "iopub.status.idle": "2023-11-15T18:05:28.276665Z",
          "shell.execute_reply.started": "2023-11-15T18:05:28.237597Z",
          "shell.execute_reply": "2023-11-15T18:05:28.275799Z"
        },
        "trusted": true,
        "id": "bwlQPylqHgBR",
        "outputId": "e0af0900-5c7c-41ba-c42c-657789d35a7c",
        "colab": {
          "base_uri": "https://localhost:8080/"
        }
      },
      "execution_count": 56,
      "outputs": [
        {
          "output_type": "execute_result",
          "data": {
            "text/plain": [
              "tensor(3.7337, device='cuda:0', grad_fn=<NllLoss2DBackward0>)"
            ]
          },
          "metadata": {},
          "execution_count": 56
        }
      ]
    },
    {
      "cell_type": "code",
      "source": [
        "conv1d_classifier_output.shape"
      ],
      "metadata": {
        "execution": {
          "iopub.status.busy": "2023-11-15T18:05:28.277979Z",
          "iopub.execute_input": "2023-11-15T18:05:28.278717Z",
          "iopub.status.idle": "2023-11-15T18:05:28.284826Z",
          "shell.execute_reply.started": "2023-11-15T18:05:28.278674Z",
          "shell.execute_reply": "2023-11-15T18:05:28.283976Z"
        },
        "trusted": true,
        "id": "5ZN8oJcXHgBR",
        "outputId": "211d7fd5-79c8-4b0b-8556-d9f15198f874",
        "colab": {
          "base_uri": "https://localhost:8080/"
        }
      },
      "execution_count": 57,
      "outputs": [
        {
          "output_type": "execute_result",
          "data": {
            "text/plain": [
              "torch.Size([64, 40, 20])"
            ]
          },
          "metadata": {},
          "execution_count": 57
        }
      ]
    },
    {
      "cell_type": "code",
      "source": [
        "xe_loss(conv1d_classifier_output, first_output_batch)"
      ],
      "metadata": {
        "execution": {
          "iopub.status.busy": "2023-11-15T18:05:28.286020Z",
          "iopub.execute_input": "2023-11-15T18:05:28.286311Z",
          "iopub.status.idle": "2023-11-15T18:05:28.295487Z",
          "shell.execute_reply.started": "2023-11-15T18:05:28.286285Z",
          "shell.execute_reply": "2023-11-15T18:05:28.294447Z"
        },
        "trusted": true,
        "id": "1p_XZCa4HgBR",
        "outputId": "d672900b-7af6-4f3a-ef71-25426d8b0fa0",
        "colab": {
          "base_uri": "https://localhost:8080/"
        }
      },
      "execution_count": 58,
      "outputs": [
        {
          "output_type": "execute_result",
          "data": {
            "text/plain": [
              "tensor(3.6930, device='cuda:0', grad_fn=<NllLoss2DBackward0>)"
            ]
          },
          "metadata": {},
          "execution_count": 58
        }
      ]
    },
    {
      "cell_type": "markdown",
      "source": [
        "\n",
        "\n",
        "#### Exercise\n",
        "\n",
        "- Build a Seq2Seq module by wrapping all the previous steps into a Pytorch class:\n",
        "  - Start with an `nn.Embedding` layer;\n",
        "  - Add a single-layer `nn.GRU` module: the GRU layer should yield a sequence of output vectors, one at each timestep;\n",
        "  - Add a per-token linear classifier, either using a `nn.Conv1d` layer with a kernel size of `1` or a `nn.Linear` layer as explained previously;\n",
        "  - Your model should output a shape `(batch, vocab_size, sequence_length)`. This will be needed later so that the cross-entropy loss of pytorch can work on a sequencial classification problem where the global, sequence-level loss is computed as the sum of the token-level classification loss.\n",
        "\n",
        "Note:\n",
        "- The output dimension of the `nn.Embedding` layer should be smaller than usual be cause we have small vocabulary size;\n",
        "- The dimension of the GRU representation is typically chosen to be larger than the dimension of its input tokens to give the Seq2Seq model enough \"working memory\" to memorize the full source sequence before decoding the first token of target sequence (when processing the `<GO>` token);\n",
        "- You may want to insert `assert x.shape == (batch_size, expected_dim_1, expected_dim_2)` at each step of the forward pass to make it easier to debug what's going on when designing your model."
      ],
      "metadata": {
        "id": "a4sSJ9_dHgBR"
      }
    },
    {
      "cell_type": "code",
      "source": [
        "import torch.nn as nn\n",
        "\n",
        "\n",
        "class RecurrentSeq2Seq(nn.Module):\n",
        "\n",
        "    def __init__(self, vocab_size: int, embedding_dim: int, hidden_dim: int) -> None:\n",
        "        super(RecurrentSeq2Seq, self).__init__()\n",
        "        self.vocab_size = vocab_size\n",
        "        self.embedding_dim = embedding_dim\n",
        "        self.hidden_dim = hidden_dim\n",
        "\n",
        "        # TODO: define layers for embedding the sequence tokens (using nn.Embedding),\n",
        "        # predict the next token hidden state from the previous tokens using a recurrent\n",
        "        # layer such as nn.GRU or nn.LSTM, and finally mapping those hidden states\n",
        "        # to valid classifications amonve vocab_size possible classes (for instance using\n",
        "        # a nn.Conv1d or nn.Linear layer).\n",
        "\n",
        "    def forward(self, input: torch.Tensor) -> torch.Tensor:\n",
        "        batch_size, seq_len = input.shape\n",
        "\n",
        "        # TODO: write me instead of returning the input!\n",
        "        return input\n",
        "\n",
        "\n",
        "recurrent_seq2seq = RecurrentSeq2Seq(vocab_size=len(vocab), embedding_dim=64, hidden_dim=256).to(DEVICE)\n",
        "\n",
        "with torch.no_grad():\n",
        "    y_pred = recurrent_seq2seq(first_input_batch)\n",
        "\n",
        "y_pred.shape"
      ],
      "metadata": {
        "execution": {
          "iopub.status.busy": "2023-11-15T18:05:28.296706Z",
          "iopub.execute_input": "2023-11-15T18:05:28.297002Z",
          "iopub.status.idle": "2023-11-15T18:05:28.309824Z",
          "shell.execute_reply.started": "2023-11-15T18:05:28.296972Z",
          "shell.execute_reply": "2023-11-15T18:05:28.308937Z"
        },
        "trusted": true,
        "id": "yeMh6EEWHgBR",
        "outputId": "af70e1c9-7028-4ad7-c09e-356738d2ce0e",
        "colab": {
          "base_uri": "https://localhost:8080/"
        }
      },
      "execution_count": 59,
      "outputs": [
        {
          "output_type": "execute_result",
          "data": {
            "text/plain": [
              "torch.Size([64, 20])"
            ]
          },
          "metadata": {},
          "execution_count": 59
        }
      ]
    },
    {
      "cell_type": "markdown",
      "source": [
        "#### Question\n",
        "\n",
        "- Which layers in your models hold trainable parameters?\n",
        "\n",
        "- Which layer have the largest number of parameters? It's ok if you don't know how to compute the number of parameters of the GRU layer(s), feel free to use PyTorch instead.\n",
        "\n",
        "\n",
        "#### Solution"
      ],
      "metadata": {
        "id": "HLKUFHTrHgBR"
      }
    },
    {
      "cell_type": "code",
      "source": [
        "import torch.nn as nn\n",
        "\n",
        "\n",
        "class RecurrentSeq2Seq(nn.Module):\n",
        "    def __init__(self, vocab_size, embedding_dim, hidden_dim, num_layers=1, dropout=0.1):\n",
        "        super(RecurrentSeq2Seq, self).__init__()\n",
        "        self.vocab_size = vocab_size\n",
        "        self.embedding_dim = embedding_dim\n",
        "        self.hidden_dim = hidden_dim\n",
        "\n",
        "        self.embedding = nn.Embedding(vocab_size, embedding_dim)\n",
        "        self.dropout = nn.Dropout(dropout)\n",
        "        self.gru = nn.GRU(\n",
        "            input_size=embedding_dim,\n",
        "            hidden_size=hidden_dim,\n",
        "            num_layers=num_layers,  # num_layers=2 makes the model work better but slower\n",
        "            dropout=0 if num_layers == 1 else dropout,  # only used when num_layers >= 2\n",
        "            batch_first=True,  # to follow the usual shape convention\n",
        "        )\n",
        "\n",
        "        # Vocab size as output dim for we want to predict the next token. Note\n",
        "        # that we could also\n",
        "        self.token_classifier = nn.Conv1d(\n",
        "            in_channels=hidden_dim,\n",
        "            out_channels=vocab_size,\n",
        "            kernel_size=1,\n",
        "        )\n",
        "\n",
        "    def forward(self, input):\n",
        "        batch_size, seq_len = input.shape\n",
        "        embedded_seq = self.embedding(input)\n",
        "        assert embedded_seq.shape == (batch_size, seq_len, self.embedding_dim)\n",
        "\n",
        "        embedded_seq = self.dropout(embedded_seq)\n",
        "\n",
        "        gru_seq, _ = self.gru(embedded_seq)\n",
        "        assert gru_seq.shape == (batch_size, seq_len, self.hidden_dim)\n",
        "\n",
        "        # We need to transpose the sequence to be able to use the Conv1d layer.\n",
        "        gru_seq = gru_seq.transpose(1, 2)\n",
        "        assert gru_seq.shape == (batch_size, self.hidden_dim, seq_len)\n",
        "\n",
        "        logits_seq = self.token_classifier(gru_seq)\n",
        "        assert logits_seq.shape == (batch_size, self.vocab_size, seq_len)\n",
        "\n",
        "        return logits_seq\n",
        "\n",
        "\n",
        "recurrent_seq2seq = RecurrentSeq2Seq(\n",
        "    vocab_size=len(vocab), embedding_dim=64, hidden_dim=256\n",
        ").to(DEVICE)\n",
        "\n",
        "with torch.no_grad():\n",
        "    y_pred = recurrent_seq2seq(first_input_batch)\n",
        "\n",
        "y_pred.shape\n"
      ],
      "metadata": {
        "execution": {
          "iopub.status.busy": "2023-11-15T18:05:28.311139Z",
          "iopub.execute_input": "2023-11-15T18:05:28.311461Z",
          "iopub.status.idle": "2023-11-15T18:05:28.338357Z",
          "shell.execute_reply.started": "2023-11-15T18:05:28.311434Z",
          "shell.execute_reply": "2023-11-15T18:05:28.337511Z"
        },
        "trusted": true,
        "id": "-9B0uZctHgBR",
        "outputId": "7dfa7580-fb23-4f6e-a180-f402a861efdb",
        "colab": {
          "base_uri": "https://localhost:8080/"
        }
      },
      "execution_count": 60,
      "outputs": [
        {
          "output_type": "execute_result",
          "data": {
            "text/plain": [
              "torch.Size([64, 40, 20])"
            ]
          },
          "metadata": {},
          "execution_count": 60
        }
      ]
    },
    {
      "cell_type": "code",
      "source": [
        "first_output_batch.shape"
      ],
      "metadata": {
        "execution": {
          "iopub.status.busy": "2023-11-15T18:05:28.339569Z",
          "iopub.execute_input": "2023-11-15T18:05:28.339871Z",
          "iopub.status.idle": "2023-11-15T18:05:28.345583Z",
          "shell.execute_reply.started": "2023-11-15T18:05:28.339845Z",
          "shell.execute_reply": "2023-11-15T18:05:28.344582Z"
        },
        "trusted": true,
        "id": "1xjBJJZnHgBR",
        "outputId": "20fafa5a-07b3-472c-ecfb-006f46872637",
        "colab": {
          "base_uri": "https://localhost:8080/"
        }
      },
      "execution_count": 61,
      "outputs": [
        {
          "output_type": "execute_result",
          "data": {
            "text/plain": [
              "torch.Size([64, 20])"
            ]
          },
          "metadata": {},
          "execution_count": 61
        }
      ]
    },
    {
      "cell_type": "code",
      "source": [
        "torch.nn.functional.cross_entropy(y_pred, first_output_batch)"
      ],
      "metadata": {
        "execution": {
          "iopub.status.busy": "2023-11-15T18:05:28.346891Z",
          "iopub.execute_input": "2023-11-15T18:05:28.347491Z",
          "iopub.status.idle": "2023-11-15T18:05:28.356226Z",
          "shell.execute_reply.started": "2023-11-15T18:05:28.347454Z",
          "shell.execute_reply": "2023-11-15T18:05:28.355261Z"
        },
        "trusted": true,
        "id": "OPFk3vbJHgBR",
        "outputId": "c544dfcf-b607-4403-8d0d-82f1478b9ea6",
        "colab": {
          "base_uri": "https://localhost:8080/"
        }
      },
      "execution_count": 62,
      "outputs": [
        {
          "output_type": "execute_result",
          "data": {
            "text/plain": [
              "tensor(3.5860, device='cuda:0')"
            ]
          },
          "metadata": {},
          "execution_count": 62
        }
      ]
    },
    {
      "cell_type": "markdown",
      "source": [
        "Let's have a look a the trainable parameters:"
      ],
      "metadata": {
        "id": "J0M7d8bKHgBR"
      }
    },
    {
      "cell_type": "code",
      "source": [
        "from torchinfo import summary\n",
        "\n",
        "summary(recurrent_seq2seq, input_data=first_input_batch)"
      ],
      "metadata": {
        "execution": {
          "iopub.status.busy": "2023-11-15T18:05:28.357414Z",
          "iopub.execute_input": "2023-11-15T18:05:28.357734Z",
          "iopub.status.idle": "2023-11-15T18:05:28.375176Z",
          "shell.execute_reply.started": "2023-11-15T18:05:28.357708Z",
          "shell.execute_reply": "2023-11-15T18:05:28.374182Z"
        },
        "trusted": true,
        "id": "41tAREg3HgBR",
        "outputId": "b43b58f6-9870-4824-bb93-732defb0aaa3",
        "colab": {
          "base_uri": "https://localhost:8080/"
        }
      },
      "execution_count": 63,
      "outputs": [
        {
          "output_type": "execute_result",
          "data": {
            "text/plain": [
              "==========================================================================================\n",
              "Layer (type:depth-idx)                   Output Shape              Param #\n",
              "==========================================================================================\n",
              "RecurrentSeq2Seq                         [64, 40, 20]              --\n",
              "├─Embedding: 1-1                         [64, 20, 64]              2,560\n",
              "├─Dropout: 1-2                           [64, 20, 64]              --\n",
              "├─GRU: 1-3                               [64, 20, 256]             247,296\n",
              "├─Conv1d: 1-4                            [64, 40, 20]              10,280\n",
              "==========================================================================================\n",
              "Total params: 260,136\n",
              "Trainable params: 260,136\n",
              "Non-trainable params: 0\n",
              "Total mult-adds (M): 329.86\n",
              "==========================================================================================\n",
              "Input size (MB): 0.01\n",
              "Forward/backward pass size (MB): 3.69\n",
              "Params size (MB): 1.04\n",
              "Estimated Total Size (MB): 4.74\n",
              "=========================================================================================="
            ]
          },
          "metadata": {},
          "execution_count": 63
        }
      ]
    },
    {
      "cell_type": "markdown",
      "source": [
        "Size of the embedding matrix:"
      ],
      "metadata": {
        "id": "K_bc9n9ZHgBS"
      }
    },
    {
      "cell_type": "code",
      "source": [
        "len(vocab) * embedding_dim"
      ],
      "metadata": {
        "execution": {
          "iopub.status.busy": "2023-11-15T18:05:28.376454Z",
          "iopub.execute_input": "2023-11-15T18:05:28.376768Z",
          "iopub.status.idle": "2023-11-15T18:05:28.383687Z",
          "shell.execute_reply.started": "2023-11-15T18:05:28.376740Z",
          "shell.execute_reply": "2023-11-15T18:05:28.382722Z"
        },
        "trusted": true,
        "id": "T8m_dSR4HgBS",
        "outputId": "85ea8259-d8d1-45f1-dea1-9788928dabd7",
        "colab": {
          "base_uri": "https://localhost:8080/"
        }
      },
      "execution_count": 64,
      "outputs": [
        {
          "output_type": "execute_result",
          "data": {
            "text/plain": [
              "2560"
            ]
          },
          "metadata": {},
          "execution_count": 64
        }
      ]
    },
    {
      "cell_type": "markdown",
      "source": [
        "The GRU cell is reachly parametrized with parameters packed into 2 matrices and 2 vectors of biases. Please refer to the Pytorch source code for more details."
      ],
      "metadata": {
        "id": "sX497Tx0HgBS"
      }
    },
    {
      "cell_type": "code",
      "source": [
        "for p in recurrent_seq2seq.gru.parameters():\n",
        "    print(p.shape)"
      ],
      "metadata": {
        "execution": {
          "iopub.status.busy": "2023-11-15T18:05:28.384802Z",
          "iopub.execute_input": "2023-11-15T18:05:28.385119Z",
          "iopub.status.idle": "2023-11-15T18:05:28.393858Z",
          "shell.execute_reply.started": "2023-11-15T18:05:28.385090Z",
          "shell.execute_reply": "2023-11-15T18:05:28.392893Z"
        },
        "trusted": true,
        "id": "vJNPsXZcHgBT",
        "outputId": "ce646341-b385-4aad-f7ff-2e0e1a8bc065",
        "colab": {
          "base_uri": "https://localhost:8080/"
        }
      },
      "execution_count": 65,
      "outputs": [
        {
          "output_type": "stream",
          "name": "stdout",
          "text": [
            "torch.Size([768, 64])\n",
            "torch.Size([768, 256])\n",
            "torch.Size([768])\n",
            "torch.Size([768])\n"
          ]
        }
      ]
    },
    {
      "cell_type": "markdown",
      "source": [
        "The output classification layer is bigger than the embedding layer because of the larger `gru_hidden_dim`:"
      ],
      "metadata": {
        "id": "YgF95iiBHgBT"
      }
    },
    {
      "cell_type": "code",
      "source": [
        "gru_hidden_dim * len(vocab) + len(vocab)"
      ],
      "metadata": {
        "execution": {
          "iopub.status.busy": "2023-11-15T18:05:28.395161Z",
          "iopub.execute_input": "2023-11-15T18:05:28.395504Z",
          "iopub.status.idle": "2023-11-15T18:05:28.404154Z",
          "shell.execute_reply.started": "2023-11-15T18:05:28.395470Z",
          "shell.execute_reply": "2023-11-15T18:05:28.403280Z"
        },
        "trusted": true,
        "id": "oQvvlVUDHgBT",
        "outputId": "69a422a3-1a96-4535-ee04-b995339ef251",
        "colab": {
          "base_uri": "https://localhost:8080/"
        }
      },
      "execution_count": 66,
      "outputs": [
        {
          "output_type": "execute_result",
          "data": {
            "text/plain": [
              "10280"
            ]
          },
          "metadata": {},
          "execution_count": 66
        }
      ]
    },
    {
      "cell_type": "markdown",
      "source": [
        "\n",
        "#### Exercise\n",
        "\n",
        "- Write a function that implements a training loop:\n",
        "  - use the cross-entropy as the classification loss;\n",
        "  - use Adam as the optimizer (with the provided parameters below);\n",
        "  - report the training loss at the end of each epoch;\n",
        "  - compute the token level accuracy on a validation set a each iteration (you can use the torchmetrics helpers if you like);\n",
        "  - consume the training data by iterating over the prepared data loader objects: `train_dl` and `validation_dl`.\n",
        "\n",
        "- Test your code by running it for 10 epochs."
      ],
      "metadata": {
        "id": "l_o5fuHc9GGQ"
      }
    },
    {
      "cell_type": "code",
      "source": [],
      "metadata": {
        "id": "3f5i3vWC9F37"
      },
      "execution_count": 66,
      "outputs": []
    },
    {
      "cell_type": "code",
      "source": [
        "from torchmetrics import Accuracy\n",
        "\n",
        "\n",
        "optimizer = torch.optim.Adam(\n",
        "    params=recurrent_seq2seq.parameters(), lr=5e-3, weight_decay=1e-6\n",
        ")\n",
        "criterion = torch.nn.CrossEntropyLoss()\n",
        "\n",
        "\n",
        "def train_model(\n",
        "    model,\n",
        "    optimizer,\n",
        "    criterion,\n",
        "    train_dl,\n",
        "    validation_dl,\n",
        "    num_epochs=10,\n",
        "    num_classes=len(vocab),\n",
        "):\n",
        "    pass  # TODO: implement me!"
      ],
      "metadata": {
        "id": "1Yr_zbyz86wa"
      },
      "execution_count": 67,
      "outputs": []
    },
    {
      "cell_type": "code",
      "source": [],
      "metadata": {
        "id": "xaibQtbB9C9K"
      },
      "execution_count": 67,
      "outputs": []
    },
    {
      "cell_type": "code",
      "source": [],
      "metadata": {
        "id": "tQHN9mCB95qr"
      },
      "execution_count": 67,
      "outputs": []
    },
    {
      "cell_type": "code",
      "source": [],
      "metadata": {
        "id": "mspfXkjm95eQ"
      },
      "execution_count": 67,
      "outputs": []
    },
    {
      "cell_type": "code",
      "source": [],
      "metadata": {
        "id": "f6pnKuyx95SN"
      },
      "execution_count": 67,
      "outputs": []
    },
    {
      "cell_type": "code",
      "source": [],
      "metadata": {
        "id": "AFm3YS3995D_"
      },
      "execution_count": 67,
      "outputs": []
    },
    {
      "cell_type": "markdown",
      "source": [
        "## Solution:"
      ],
      "metadata": {
        "id": "aM_B5aB39uaZ"
      }
    },
    {
      "cell_type": "code",
      "source": [
        "def train_model(\n",
        "    model,\n",
        "    optimizer,\n",
        "    criterion,\n",
        "    train_dl,\n",
        "    validation_dl,\n",
        "    num_epochs=10,\n",
        "    num_classes=len(vocab),\n",
        "):\n",
        "    val_acc = Accuracy(task=\"multiclass\", top_k=1, num_classes=num_classes).to(DEVICE)\n",
        "    train_acc = Accuracy(task=\"multiclass\", top_k=1, num_classes=num_classes).to(DEVICE)\n",
        "\n",
        "    for epoch in range(num_epochs):\n",
        "        train_losses = []\n",
        "        model.train()\n",
        "        for input_ids_batch, label_ids_batch in train_dl:\n",
        "\n",
        "            preds = model(input_ids_batch)\n",
        "\n",
        "            loss = criterion(preds, label_ids_batch)\n",
        "            train_losses.append(loss.item())\n",
        "            train_acc.update(preds, label_ids_batch)\n",
        "\n",
        "            loss.backward()\n",
        "            optimizer.step()\n",
        "            optimizer.zero_grad()\n",
        "\n",
        "        epoch_train_acc = train_acc.compute()\n",
        "        train_acc.reset()\n",
        "\n",
        "        val_losses = []\n",
        "        model.eval()\n",
        "        with torch.no_grad():\n",
        "            for input_ids_batch, label_ids_batch in validation_dl:\n",
        "                preds = model(input_ids_batch)\n",
        "                val_acc.update(preds, label_ids_batch)\n",
        "                val_losses.append(criterion(preds, label_ids_batch).item())\n",
        "\n",
        "            epoch_val_acc = val_acc.compute()\n",
        "            val_acc.reset()\n",
        "\n",
        "        print(\n",
        "            f\"Epoch {epoch}, \"\n",
        "            f\"Train loss: {np.mean(train_losses):.4f}, \"\n",
        "            f\"Val loss: {np.mean(val_losses):.4f}, \"\n",
        "            f\"Val acc: {epoch_val_acc.item():.2f}, \"\n",
        "            f\"Train acc: {epoch_train_acc.item():.2f}\"\n",
        "        )\n",
        "\n",
        "\n",
        "train_model(recurrent_seq2seq, optimizer, criterion, train_dl, validation_dl)"
      ],
      "metadata": {
        "execution": {
          "iopub.status.busy": "2023-11-15T18:05:28.405686Z",
          "iopub.execute_input": "2023-11-15T18:05:28.406484Z",
          "iopub.status.idle": "2023-11-15T18:05:37.717077Z",
          "shell.execute_reply.started": "2023-11-15T18:05:28.406453Z",
          "shell.execute_reply": "2023-11-15T18:05:37.715938Z"
        },
        "trusted": true,
        "id": "OEakl1mPHgBT",
        "outputId": "991f3218-a835-4d69-a2c9-3bdc87b6b537",
        "colab": {
          "base_uri": "https://localhost:8080/"
        }
      },
      "execution_count": 68,
      "outputs": [
        {
          "output_type": "stream",
          "name": "stdout",
          "text": [
            "Epoch 0, Train loss: 0.4397, Val loss: 0.1392, Val acc: 0.95, Train acc: 0.87\n",
            "Epoch 1, Train loss: 0.0772, Val loss: 0.0277, Val acc: 0.99, Train acc: 0.98\n",
            "Epoch 2, Train loss: 0.0218, Val loss: 0.0084, Val acc: 1.00, Train acc: 0.99\n",
            "Epoch 3, Train loss: 0.0089, Val loss: 0.0042, Val acc: 1.00, Train acc: 1.00\n",
            "Epoch 4, Train loss: 0.0040, Val loss: 0.0027, Val acc: 1.00, Train acc: 1.00\n",
            "Epoch 5, Train loss: 0.0024, Val loss: 0.0018, Val acc: 1.00, Train acc: 1.00\n",
            "Epoch 6, Train loss: 0.0014, Val loss: 0.0010, Val acc: 1.00, Train acc: 1.00\n",
            "Epoch 7, Train loss: 0.0009, Val loss: 0.0010, Val acc: 1.00, Train acc: 1.00\n",
            "Epoch 8, Train loss: 0.0061, Val loss: 0.0355, Val acc: 0.99, Train acc: 1.00\n",
            "Epoch 9, Train loss: 0.0112, Val loss: 0.0018, Val acc: 1.00, Train acc: 1.00\n"
          ]
        }
      ]
    },
    {
      "cell_type": "markdown",
      "source": [
        "Let's have a look at a raw prediction on the first sample of the test set:"
      ],
      "metadata": {
        "id": "hvRm4FwhHgBT"
      }
    },
    {
      "cell_type": "code",
      "source": [
        "fr_test[0]"
      ],
      "metadata": {
        "execution": {
          "iopub.status.busy": "2023-11-15T18:05:37.718335Z",
          "iopub.execute_input": "2023-11-15T18:05:37.718729Z",
          "iopub.status.idle": "2023-11-15T18:05:37.725105Z",
          "shell.execute_reply.started": "2023-11-15T18:05:37.718695Z",
          "shell.execute_reply": "2023-11-15T18:05:37.724231Z"
        },
        "trusted": true,
        "id": "00-fBZHVHgBT",
        "outputId": "6683e5e9-2e32-40e0-8434-47651f2427d8",
        "colab": {
          "base_uri": "https://localhost:8080/",
          "height": 36
        }
      },
      "execution_count": 69,
      "outputs": [
        {
          "output_type": "execute_result",
          "data": {
            "text/plain": [
              "'quatre vingt seize mille deux cent trente sept'"
            ],
            "application/vnd.google.colaboratory.intrinsic+json": {
              "type": "string"
            }
          },
          "metadata": {},
          "execution_count": 69
        }
      ]
    },
    {
      "cell_type": "markdown",
      "source": [
        "In numeric array this is provided (along with the expected target sequence) as the following padded input sequence:"
      ],
      "metadata": {
        "id": "gHKD__5PHgBT"
      }
    },
    {
      "cell_type": "code",
      "source": [
        "first_test_sequence = torch.from_numpy(X_test[0]).to(DEVICE)\n",
        "first_test_sequence"
      ],
      "metadata": {
        "execution": {
          "iopub.status.busy": "2023-11-15T18:05:37.726275Z",
          "iopub.execute_input": "2023-11-15T18:05:37.726579Z",
          "iopub.status.idle": "2023-11-15T18:05:37.740245Z",
          "shell.execute_reply.started": "2023-11-15T18:05:37.726551Z",
          "shell.execute_reply": "2023-11-15T18:05:37.739187Z"
        },
        "trusted": true,
        "id": "CttID0swHgBT",
        "outputId": "c2827dc1-0146-4dbf-b6e0-9e1d661c1262",
        "colab": {
          "base_uri": "https://localhost:8080/"
        }
      },
      "execution_count": 70,
      "outputs": [
        {
          "output_type": "execute_result",
          "data": {
            "text/plain": [
              "tensor([31, 35, 14, 18, 23, 30, 38, 28,  2, 13, 10,  6,  7, 11,  0,  0,  0,  0,\n",
              "         0,  0], device='cuda:0')"
            ]
          },
          "metadata": {},
          "execution_count": 70
        }
      ]
    },
    {
      "cell_type": "markdown",
      "source": [
        "Remember that the `<GO>` (symbol indexed at `2`) separates the reversed source from the expected target sequence:  "
      ],
      "metadata": {
        "id": "R70BF5n6HgBT"
      }
    },
    {
      "cell_type": "code",
      "source": [
        "rev_vocab[2]"
      ],
      "metadata": {
        "execution": {
          "iopub.status.busy": "2023-11-15T18:05:37.741524Z",
          "iopub.execute_input": "2023-11-15T18:05:37.742396Z",
          "iopub.status.idle": "2023-11-15T18:05:37.749196Z",
          "shell.execute_reply.started": "2023-11-15T18:05:37.742342Z",
          "shell.execute_reply": "2023-11-15T18:05:37.748216Z"
        },
        "trusted": true,
        "id": "GWFDCWhyHgBU",
        "outputId": "5935e72c-5980-41e2-d3ea-049a5b9f4c95",
        "colab": {
          "base_uri": "https://localhost:8080/",
          "height": 36
        }
      },
      "execution_count": 71,
      "outputs": [
        {
          "output_type": "execute_result",
          "data": {
            "text/plain": [
              "'<GO>'"
            ],
            "application/vnd.google.colaboratory.intrinsic+json": {
              "type": "string"
            }
          },
          "metadata": {},
          "execution_count": 71
        }
      ]
    },
    {
      "cell_type": "markdown",
      "source": [
        "### Interpreting the model prediction\n",
        "\n",
        "**Exercise**:\n",
        "- Feed this test sequence into the model. What is the shape of the output?\n",
        "- Get the argmax of each output prediction to get the most likely symbols\n",
        "- Dismiss the padding / end of sentence\n",
        "- Convert to readable vocabulary using `rev_vocab`\n",
        "\n",
        "*Interpretation*\n",
        "- Compare the output with the first example in numerical format `num_test[0]`\n",
        "- What do you think of this way of decoding? Is it correct to use it at inference time?"
      ],
      "metadata": {
        "id": "hD-VtC_aHgBU"
      }
    },
    {
      "cell_type": "code",
      "source": [
        "# TODO: write your code here"
      ],
      "metadata": {
        "execution": {
          "iopub.status.busy": "2023-11-15T18:05:37.750296Z",
          "iopub.execute_input": "2023-11-15T18:05:37.750612Z",
          "iopub.status.idle": "2023-11-15T18:05:37.759512Z",
          "shell.execute_reply.started": "2023-11-15T18:05:37.750584Z",
          "shell.execute_reply": "2023-11-15T18:05:37.758397Z"
        },
        "trusted": true,
        "id": "EFVPqMSPHgBV"
      },
      "execution_count": 72,
      "outputs": []
    },
    {
      "cell_type": "code",
      "source": [],
      "metadata": {
        "id": "o3cgJIz7HgBV"
      },
      "execution_count": 72,
      "outputs": []
    },
    {
      "cell_type": "code",
      "source": [],
      "metadata": {
        "id": "kkW7ucGnHgBV"
      },
      "execution_count": 72,
      "outputs": []
    },
    {
      "cell_type": "code",
      "source": [],
      "metadata": {
        "id": "irrD8wCBHgBV"
      },
      "execution_count": 72,
      "outputs": []
    },
    {
      "cell_type": "markdown",
      "source": [
        "#### Solution"
      ],
      "metadata": {
        "id": "3NuzkrPyHgBV"
      }
    },
    {
      "cell_type": "code",
      "source": [
        "with torch.no_grad():\n",
        "    fist_test_preds = recurrent_seq2seq(first_test_sequence.unsqueeze(0)).squeeze()\n",
        "fist_test_preds.shape"
      ],
      "metadata": {
        "execution": {
          "iopub.status.busy": "2023-11-15T18:05:37.760720Z",
          "iopub.execute_input": "2023-11-15T18:05:37.760997Z",
          "iopub.status.idle": "2023-11-15T18:05:37.777127Z",
          "shell.execute_reply.started": "2023-11-15T18:05:37.760970Z",
          "shell.execute_reply": "2023-11-15T18:05:37.776239Z"
        },
        "trusted": true,
        "id": "yA6gkqfiHgBV",
        "outputId": "b54d7c47-7f6d-46be-c692-0221d9643307",
        "colab": {
          "base_uri": "https://localhost:8080/"
        }
      },
      "execution_count": 73,
      "outputs": [
        {
          "output_type": "execute_result",
          "data": {
            "text/plain": [
              "torch.Size([40, 20])"
            ]
          },
          "metadata": {},
          "execution_count": 73
        }
      ]
    },
    {
      "cell_type": "code",
      "source": [
        "most_likely_class_indices = fist_test_preds.argmax(dim=0)\n",
        "most_likely_class_indices"
      ],
      "metadata": {
        "execution": {
          "iopub.status.busy": "2023-11-15T18:05:37.778279Z",
          "iopub.execute_input": "2023-11-15T18:05:37.778932Z",
          "iopub.status.idle": "2023-11-15T18:05:37.785766Z",
          "shell.execute_reply.started": "2023-11-15T18:05:37.778887Z",
          "shell.execute_reply": "2023-11-15T18:05:37.784731Z"
        },
        "trusted": true,
        "id": "NEhIse6LHgBV",
        "outputId": "6717f5d8-2c22-4ae4-865f-76c225d9e4ff",
        "colab": {
          "base_uri": "https://localhost:8080/"
        }
      },
      "execution_count": 74,
      "outputs": [
        {
          "output_type": "execute_result",
          "data": {
            "text/plain": [
              "tensor([ 0,  0,  0,  0,  0,  0,  0,  0, 13, 10,  6,  7, 11,  3,  0,  0,  0,  0,\n",
              "         0,  0], device='cuda:0')"
            ]
          },
          "metadata": {},
          "execution_count": 74
        }
      ]
    },
    {
      "cell_type": "code",
      "source": [
        "for i in most_likely_class_indices.cpu().numpy():\n",
        "    if i in (vocab[PAD],vocab[EOS]):\n",
        "        continue\n",
        "    print(rev_vocab[i], end=\"\")"
      ],
      "metadata": {
        "execution": {
          "iopub.status.busy": "2023-11-15T18:05:37.786962Z",
          "iopub.execute_input": "2023-11-15T18:05:37.787243Z",
          "iopub.status.idle": "2023-11-15T18:05:37.798787Z",
          "shell.execute_reply.started": "2023-11-15T18:05:37.787211Z",
          "shell.execute_reply": "2023-11-15T18:05:37.797798Z"
        },
        "trusted": true,
        "id": "vLv24rbTHgBW",
        "outputId": "15e4cd6e-e73d-4ce5-c035-c8ad2bd13471",
        "colab": {
          "base_uri": "https://localhost:8080/"
        }
      },
      "execution_count": 75,
      "outputs": [
        {
          "output_type": "stream",
          "name": "stdout",
          "text": [
            "96237"
          ]
        }
      ]
    },
    {
      "cell_type": "code",
      "source": [
        "fr_test[0]"
      ],
      "metadata": {
        "execution": {
          "iopub.status.busy": "2023-11-15T18:05:37.800063Z",
          "iopub.execute_input": "2023-11-15T18:05:37.800321Z",
          "iopub.status.idle": "2023-11-15T18:05:37.808276Z",
          "shell.execute_reply.started": "2023-11-15T18:05:37.800296Z",
          "shell.execute_reply": "2023-11-15T18:05:37.807387Z"
        },
        "trusted": true,
        "id": "fj3ScfnMHgBW",
        "outputId": "a0736d8d-8bc4-462c-a148-8cebf345fd82",
        "colab": {
          "base_uri": "https://localhost:8080/",
          "height": 36
        }
      },
      "execution_count": 76,
      "outputs": [
        {
          "output_type": "execute_result",
          "data": {
            "text/plain": [
              "'quatre vingt seize mille deux cent trente sept'"
            ],
            "application/vnd.google.colaboratory.intrinsic+json": {
              "type": "string"
            }
          },
          "metadata": {},
          "execution_count": 76
        }
      ]
    },
    {
      "cell_type": "markdown",
      "source": [
        "In the previous exercise we cheated because we gave the complete sequence along with the solution in the input sequence instead of the previously predicted tokens of the same sequence.\n",
        "\n",
        "To be more realistic we need to use the model in a setting where we do not provide any token of expected translation as part of the input sequence: the model shall predict one token at a time starting only from the source sequence along with the `<GO>` special symbol. At each step, we append the new predicted output token in the input sequence to predict the next token:"
      ],
      "metadata": {
        "id": "YZ8maIf9HgBW"
      }
    },
    {
      "cell_type": "code",
      "source": [
        "def greedy_translate(\n",
        "    model,\n",
        "    source_sequence,\n",
        "    vocab,\n",
        "    rev_vocab,\n",
        "    max_length=20,\n",
        "    target_separator=\"\",\n",
        "):\n",
        "    \"\"\"Greedy decoder recursively predicting one token at a time\"\"\"\n",
        "    # Initialize the list of input token ids with the source sequence\n",
        "    source_tokens = tokenize(source_sequence)\n",
        "    input_ids = [vocab.get(t, vocab[UNK]) for t in reversed(source_tokens)]\n",
        "    input_ids += [vocab[GO]]\n",
        "\n",
        "    # Prepare a fixed size numpy array that matches the expected input\n",
        "    # shape for the model\n",
        "    input_array = np.empty(shape=(1, max_length), dtype=np.int64)\n",
        "    decoded_tokens = []\n",
        "    while len(input_ids) <= max_length:\n",
        "        # Vectorize a the list of input tokens as\n",
        "        # and use zeros padding.\n",
        "        input_array.fill(vocab[PAD])\n",
        "        input_array[0, :len(input_ids)] = input_ids\n",
        "\n",
        "        # Predict the next output: greedy decoding with argmax\n",
        "        with torch.no_grad():\n",
        "            logits = model(torch.from_numpy(input_array).to(DEVICE)).cpu().numpy()\n",
        "            next_token_idx = len(input_ids) - 1\n",
        "            next_token_id = logits[0, :, next_token_idx].argmax()\n",
        "\n",
        "        # Stop decoding if the network predicts end of sentence:\n",
        "        if next_token_id == vocab[EOS]:\n",
        "            break\n",
        "\n",
        "        # Otherwise use the reverse vocabulary to map the prediction\n",
        "        # back to the string space\n",
        "        decoded_tokens.append(rev_vocab[next_token_id])\n",
        "\n",
        "        # Append prediction to input sequence to predict the next\n",
        "        input_ids.append(next_token_id)\n",
        "\n",
        "    return target_separator.join(decoded_tokens)\n"
      ],
      "metadata": {
        "execution": {
          "iopub.status.busy": "2023-11-15T18:05:37.809338Z",
          "iopub.execute_input": "2023-11-15T18:05:37.809629Z",
          "iopub.status.idle": "2023-11-15T18:05:37.820364Z",
          "shell.execute_reply.started": "2023-11-15T18:05:37.809604Z",
          "shell.execute_reply": "2023-11-15T18:05:37.819554Z"
        },
        "trusted": true,
        "id": "bwfGZMDiHgBW"
      },
      "execution_count": 77,
      "outputs": []
    },
    {
      "cell_type": "code",
      "source": [
        "phrases = [\n",
        "    \"un\",\n",
        "    \"deux\",\n",
        "    \"trois\",\n",
        "    \"onze\",\n",
        "    \"quinze\",\n",
        "    \"cent trente deux\",\n",
        "    \"deux cent mille douze\",\n",
        "    \"sept mille huit cent cinquante neuf\",\n",
        "    \"vingt et un\",\n",
        "    \"vingt quatre\",\n",
        "    \"quatre vingts\",\n",
        "    \"quatre vingt onze mille\",\n",
        "    \"quatre vingt onze mille deux cent deux\",\n",
        "]\n",
        "for phrase in phrases:\n",
        "    translation = greedy_translate(recurrent_seq2seq, phrase, vocab, rev_vocab)\n",
        "    print(phrase.ljust(40), translation)\n"
      ],
      "metadata": {
        "execution": {
          "iopub.status.busy": "2023-11-15T18:05:37.821584Z",
          "iopub.execute_input": "2023-11-15T18:05:37.821878Z",
          "iopub.status.idle": "2023-11-15T18:05:37.866319Z",
          "shell.execute_reply.started": "2023-11-15T18:05:37.821851Z",
          "shell.execute_reply": "2023-11-15T18:05:37.865392Z"
        },
        "trusted": true,
        "id": "TBFAvUDJHgBW",
        "outputId": "ea05d92b-46df-44da-890a-b717f6b0db24",
        "colab": {
          "base_uri": "https://localhost:8080/"
        }
      },
      "execution_count": 78,
      "outputs": [
        {
          "output_type": "stream",
          "name": "stdout",
          "text": [
            "un                                       1\n",
            "deux                                     2\n",
            "trois                                    30\n",
            "onze                                     11\n",
            "quinze                                   15\n",
            "cent trente deux                         132\n",
            "deux cent mille douze                    200012\n",
            "sept mille huit cent cinquante neuf      7859\n",
            "vingt et un                              21\n",
            "vingt quatre                             24\n",
            "quatre vingts                            480\n",
            "quatre vingt onze mille                  91000\n",
            "quatre vingt onze mille deux cent deux   91202\n"
          ]
        }
      ]
    },
    {
      "cell_type": "markdown",
      "source": [
        "Let's have a look at generalization out of correct French and see if the network would generalize like a French speaker would do:"
      ],
      "metadata": {
        "id": "Unz9lcHUHgBW"
      }
    },
    {
      "cell_type": "code",
      "source": [
        "phrases = [\n",
        "    \"quatre vingt et un\",\n",
        "    \"quarante douze\",\n",
        "    \"soixante vingt sept\",\n",
        "    \"cent soixante vingt quatorze\",\n",
        "    \"123\",\n",
        "]\n",
        "for phrase in phrases:\n",
        "    translation = greedy_translate(recurrent_seq2seq, phrase, vocab, rev_vocab)\n",
        "    print(phrase.ljust(40), translation)\n"
      ],
      "metadata": {
        "execution": {
          "iopub.status.busy": "2023-11-15T18:05:37.867505Z",
          "iopub.execute_input": "2023-11-15T18:05:37.867885Z",
          "iopub.status.idle": "2023-11-15T18:05:37.886035Z",
          "shell.execute_reply.started": "2023-11-15T18:05:37.867847Z",
          "shell.execute_reply": "2023-11-15T18:05:37.885081Z"
        },
        "trusted": true,
        "id": "TJvm87QkHgBW",
        "outputId": "7e509d91-185a-4602-b86c-f3f236679525",
        "colab": {
          "base_uri": "https://localhost:8080/"
        }
      },
      "execution_count": 79,
      "outputs": [
        {
          "output_type": "stream",
          "name": "stdout",
          "text": [
            "quatre vingt et un                       81\n",
            "quarante douze                           42\n",
            "soixante vingt sept                      787\n",
            "cent soixante vingt quatorze             174\n",
            "123                                      \n"
          ]
        }
      ]
    },
    {
      "cell_type": "markdown",
      "source": [
        "## Model evaluation\n",
        "\n",
        "Because **we expect only one correct translation** for a given source sequence, we can use **phrase-level accuracy** as a metric to quantify our model quality.\n",
        "\n",
        "Note that **this is not the case for real translation models** (e.g. from French to English on arbitrary sentences). Evaluation of a machine translation model is tricky in general. Automated evaluation can somehow be done at the corpus level with the [BLEU score](https://en.wikipedia.org/wiki/BLEU) (bilingual evaluation understudy) given a large enough sample of correct translations provided by certified translators but its only a noisy proxy.\n",
        "\n",
        "The only good evaluation is to give a large enough sample of the model predictions on some test sentences to certified translators and ask them to give an evaluation (e.g. a score between 0 and 6, 0 for non-sensical and 6 for the hypothetical perfect translation). However in practice this is very costly to do.\n",
        "\n",
        "Fortunately we can just use phrase-level accuracy on a our very domain specific toy problem:"
      ],
      "metadata": {
        "id": "nG1U8fGzHgBW"
      }
    },
    {
      "cell_type": "code",
      "source": [
        "def phrase_accuracy(\n",
        "    model,\n",
        "    num_sequences,\n",
        "    fr_sequences,\n",
        "    n_samples=300,\n",
        "    decoder_func=greedy_translate,\n",
        "    verbose_pass=False,\n",
        "    verbose_fail=True,\n",
        "):\n",
        "    correct = []\n",
        "    n_samples = len(num_sequences) if n_samples is None else n_samples\n",
        "    for _, num_seq, fr_seq in zip(range(n_samples), num_sequences, fr_sequences):\n",
        "        predicted_seq = decoder_func(model, fr_seq, vocab, rev_vocab)\n",
        "        correct.append(num_seq == predicted_seq)\n",
        "        if verbose_pass and num_seq == predicted_seq:\n",
        "            print(f\"✅ PASS: {fr_seq} => {predicted_seq}\")\n",
        "        if verbose_fail and num_seq != predicted_seq:\n",
        "            print(f\"❌ FAIL: {fr_seq} => {predicted_seq}\")\n",
        "    return np.mean(correct)\n"
      ],
      "metadata": {
        "execution": {
          "iopub.status.busy": "2023-11-15T18:05:37.887143Z",
          "iopub.execute_input": "2023-11-15T18:05:37.887447Z",
          "iopub.status.idle": "2023-11-15T18:05:37.893531Z",
          "shell.execute_reply.started": "2023-11-15T18:05:37.887420Z",
          "shell.execute_reply": "2023-11-15T18:05:37.892627Z"
        },
        "trusted": true,
        "id": "rFTwaJqxHgBW"
      },
      "execution_count": 80,
      "outputs": []
    },
    {
      "cell_type": "code",
      "source": [
        "train_acc = phrase_accuracy(recurrent_seq2seq, num_train, fr_train)\n",
        "print(f\"Phrase-level train accuracy: {train_acc:.03f}\")"
      ],
      "metadata": {
        "execution": {
          "iopub.status.busy": "2023-11-15T18:05:37.894918Z",
          "iopub.execute_input": "2023-11-15T18:05:37.895298Z",
          "iopub.status.idle": "2023-11-15T18:05:38.986858Z",
          "shell.execute_reply.started": "2023-11-15T18:05:37.895262Z",
          "shell.execute_reply": "2023-11-15T18:05:38.985749Z"
        },
        "trusted": true,
        "id": "vwIVgTlqHgBW",
        "outputId": "9f2d8a78-3d89-459e-f113-2916c9aca030",
        "colab": {
          "base_uri": "https://localhost:8080/"
        }
      },
      "execution_count": 81,
      "outputs": [
        {
          "output_type": "stream",
          "name": "stdout",
          "text": [
            "❌ FAIL: deux cent seize mille six cent soixante dix sept => 116677\n",
            "Phrase-level train accuracy: 0.997\n"
          ]
        }
      ]
    },
    {
      "cell_type": "code",
      "source": [
        "test_acc = phrase_accuracy(recurrent_seq2seq, num_test, fr_test)\n",
        "print(f\"Phrase-level test accuracy: {test_acc:.03f}\")"
      ],
      "metadata": {
        "execution": {
          "iopub.status.busy": "2023-11-15T18:05:38.988078Z",
          "iopub.execute_input": "2023-11-15T18:05:38.988419Z",
          "iopub.status.idle": "2023-11-15T18:05:40.070900Z",
          "shell.execute_reply.started": "2023-11-15T18:05:38.988371Z",
          "shell.execute_reply": "2023-11-15T18:05:40.069886Z"
        },
        "trusted": true,
        "id": "tgDWS7JFHgBW",
        "outputId": "01a4f89f-1c81-48d8-bc6f-06b286c17e6b",
        "colab": {
          "base_uri": "https://localhost:8080/"
        }
      },
      "execution_count": 82,
      "outputs": [
        {
          "output_type": "stream",
          "name": "stdout",
          "text": [
            "❌ FAIL: cent trente trois mille six cent soixante neuf => 133699\n",
            "❌ FAIL: trois => 30\n",
            "Phrase-level test accuracy: 0.993\n"
          ]
        }
      ]
    },
    {
      "cell_type": "markdown",
      "source": [
        "### GPT-style transformers from scratch\n",
        "\n",
        "Nowadays, transformer-based architectures have been very successful at auto-regressive sequential tasks, notably for natural language processing tasks where they often out-perform recurrent networks.\n",
        "\n",
        "In the following we will implement a [GPT](https://www.semanticscholar.org/paper/Improving-Language-Understanding-by-Generative-Radford-Narasimhan/cd18800a0fe0b668a1cc19f2ec95b5003d0a5035) style network from scratch by progressively assembling building blocks adapted from [minGPT](https://github.com/karpathy/minGPT) (more precisely the `gpt-micro` variant).\n",
        "\n",
        "Here are the main architecutural considerations to keep in mind:\n",
        "\n",
        "- The GPT architecture is a transformer architecture, that is stack of self-attensional modules.\n",
        "- The sequential structure is not built-in in the transformer architecture which is permutation invariant by default. The sequetial information is included via the addition to input embedding of positional embeddings;\n",
        "- When training transformer on auto-regressive tasks with a teacher-forcing strategy, it is important to further enforce **causal** constraints to transform the embedding of given token only from information derived from the previous tokens in the input sequencel. In transformers, causal constraints are typically included by masking the attention weights to give a weight of 0 (after the softmax) or -inf (before the softmax) to tokens that appear later in the sequence.\n",
        "\n",
        "The general architecture is has follows (inputs first):\n",
        "\n",
        "- Convert input token with an `Embedding` layer;\n",
        "- Add position embedding to each token vector;\n",
        "- Repeat transformation with the following residual block `num_blocks`-times:\n",
        "    - Transform tokens via multi-head self-attention\n",
        "    - LayerNorm\n",
        "    - Apply MLP with tied weights to\n",
        "    - LayerNorm\n",
        "- Apply a final classification head to map from the transformer `embedding_dim`\n",
        "  output classification logits to each sequence token (taking into account the\n",
        "  vocabulary size).\n",
        "\n",
        "<img src=\"https://www.researchgate.net/publication/349521999/figure/fig1/AS:994338746146817@1614080239754/Decoder-Only-Architecture-used-by-GPT-2.ppm\"\n",
        "  height=\"300px\"\n",
        "/>"
      ],
      "metadata": {
        "id": "rvqRbUkoHgBW"
      }
    },
    {
      "cell_type": "markdown",
      "source": [
        "Let's start with the definition of a self-attentional module:"
      ],
      "metadata": {
        "id": "wIbobRtEHgBW"
      }
    },
    {
      "cell_type": "code",
      "source": [
        "import torch.nn.functional as F\n",
        "import math\n",
        "\n",
        "\n",
        "class CausalSelfAttention(nn.Module):\n",
        "    \"\"\"The main module of the Transformer model.\n",
        "\n",
        "    A vanilla multi-head masked self-attention layer with a linear projection\n",
        "    at the end that reuses the naming convention of our notebook.\n",
        "\n",
        "    A similar module is available as torch.nn.MultiheadAttention.\n",
        "    \"\"\"\n",
        "\n",
        "    def __init__(\n",
        "        self,\n",
        "        sequence_length,\n",
        "        embedding_dim=768,\n",
        "        num_heads=12,\n",
        "        dropout=0.1,\n",
        "    ):\n",
        "        super().__init__()\n",
        "        self.sequence_length = sequence_length\n",
        "        self.num_heads = num_heads\n",
        "        self.embedding_dim = embedding_dim\n",
        "\n",
        "        # Make sure that the hidden embedding dimension is divisible by the\n",
        "        # number of heads.\n",
        "        assert embedding_dim % num_heads == 0\n",
        "\n",
        "        # key, query, value linear projections for all heads, but all packed\n",
        "        # into a single matrix for efficiency.\n",
        "        self.csa_attn = nn.Linear(embedding_dim, 3 * embedding_dim)\n",
        "\n",
        "        # Output projection.\n",
        "        self.csa_proj = nn.Linear(embedding_dim, embedding_dim)\n",
        "\n",
        "        # stochastic regularization.\n",
        "        self.attn_dropout = nn.Dropout(dropout)\n",
        "        self.proj_dropout = nn.Dropout(dropout)\n",
        "\n",
        "        # Causal attention mask to ensure that attention is only applied to the\n",
        "        # left in the input sequence.\n",
        "        causal_mask = torch.tril(torch.ones(sequence_length, sequence_length)).view(\n",
        "            1, 1, sequence_length, sequence_length\n",
        "        )\n",
        "        self.register_buffer(\"causal_mask\", causal_mask)\n",
        "\n",
        "    def forward(self, x):\n",
        "        (\n",
        "            batch_size,\n",
        "            sequence_length,\n",
        "            embedding_dim,\n",
        "        ) = x.size()  # batch size, sequence length, embedding dimensionality\n",
        "        assert embedding_dim == self.embedding_dim\n",
        "        assert sequence_length == self.sequence_length\n",
        "        head_dim = embedding_dim // self.num_heads\n",
        "\n",
        "        # calculate query, key, values for all heads in batch and move head\n",
        "        # forward to be the batch dim\n",
        "        q, k, v = self.csa_attn(x).split(embedding_dim, dim=2)\n",
        "        k = k.view(batch_size, sequence_length, self.num_heads, head_dim).transpose(\n",
        "            1, 2\n",
        "        )  # (batch_size, num_heads, sequence_length, head_dim)\n",
        "        q = q.view(batch_size, sequence_length, self.num_heads, head_dim).transpose(\n",
        "            1, 2\n",
        "        )  # (batch_size, num_heads, sequence_length, head_dim)\n",
        "        v = v.view(batch_size, sequence_length, self.num_heads, head_dim).transpose(\n",
        "            1, 2\n",
        "        )  # (batch_size, num_heads, sequence_length, head_dim)\n",
        "\n",
        "        # Self-attention:\n",
        "        # (batch_size, num_heads, sequence_length, head_dim)\n",
        "        # x (batch_size, num_heads, head_dim, sequence_length)\n",
        "        # -> (batch_size, num_heads, sequence_length, sequence_length)\n",
        "        att = (q @ k.transpose(-2, -1)) * (1.0 / math.sqrt(k.size(-1)))\n",
        "\n",
        "        # Apply the causal mask to attention so that the model cannot \"cheat\":\n",
        "        att = att.masked_fill(self.causal_mask == 0, float(\"-inf\"))\n",
        "\n",
        "        # Normalize the attention weights to positive values that sum to 1.0.\n",
        "        att = F.softmax(att, dim=-1)\n",
        "        att = self.attn_dropout(att)\n",
        "\n",
        "        # Aggregegate the value vectors using the attention weights:\n",
        "        # (batch_size, num_heads, sequence_length, sequence_length)\n",
        "        # x (batch_size, num_heads, sequence_length, head_dim)\n",
        "        # -> (batch_size, num_heads, sequence_length, head_dim)\n",
        "        y = att @ v\n",
        "\n",
        "        # Re-assemble all head outputs side by side:\n",
        "        y = (\n",
        "            y.transpose(1, 2).contiguous().view(batch_size, sequence_length, embedding_dim)\n",
        "        )\n",
        "\n",
        "        # Output projection:\n",
        "        y = self.proj_dropout(self.csa_proj(y))\n",
        "\n",
        "        # Return both the final output and the attention weights to make it\n",
        "        # possible to gain some insights about the inner workings of the model.\n",
        "        return y, att\n"
      ],
      "metadata": {
        "execution": {
          "iopub.status.busy": "2023-11-15T18:05:40.083553Z",
          "iopub.execute_input": "2023-11-15T18:05:40.083849Z",
          "iopub.status.idle": "2023-11-15T18:05:40.101747Z",
          "shell.execute_reply.started": "2023-11-15T18:05:40.083821Z",
          "shell.execute_reply": "2023-11-15T18:05:40.100826Z"
        },
        "trusted": true,
        "id": "TR5RjTWjHgBW"
      },
      "execution_count": 83,
      "outputs": []
    },
    {
      "cell_type": "markdown",
      "source": [
        "Let's build a randomly initiliazed instance of `CausalSelfAttention` with 4 heads to be used on a sequence of 10 random token vectors (in a batch of 1):"
      ],
      "metadata": {
        "id": "W8vLAImbHgBW"
      }
    },
    {
      "cell_type": "code",
      "source": [
        "causal_self_attention = CausalSelfAttention(\n",
        "    num_heads=4,\n",
        "    sequence_length=10,\n",
        "    embedding_dim=256,\n",
        ")\n",
        "\n",
        "with torch.no_grad():\n",
        "    test_tokens = torch.randn(1, 10, 256)\n",
        "    test_output, test_att = causal_self_attention(test_tokens)"
      ],
      "metadata": {
        "execution": {
          "iopub.status.busy": "2023-11-15T18:05:40.102945Z",
          "iopub.execute_input": "2023-11-15T18:05:40.103274Z",
          "iopub.status.idle": "2023-11-15T18:05:40.167771Z",
          "shell.execute_reply.started": "2023-11-15T18:05:40.103246Z",
          "shell.execute_reply": "2023-11-15T18:05:40.166745Z"
        },
        "trusted": true,
        "id": "mm9Jfzu-HgBW"
      },
      "execution_count": 84,
      "outputs": []
    },
    {
      "cell_type": "code",
      "source": [
        "test_output.shape"
      ],
      "metadata": {
        "execution": {
          "iopub.status.busy": "2023-11-15T18:05:40.169162Z",
          "iopub.execute_input": "2023-11-15T18:05:40.169569Z",
          "iopub.status.idle": "2023-11-15T18:05:40.176457Z",
          "shell.execute_reply.started": "2023-11-15T18:05:40.169523Z",
          "shell.execute_reply": "2023-11-15T18:05:40.175301Z"
        },
        "trusted": true,
        "id": "22lLueaCHgBW",
        "outputId": "46adffd4-4a55-4ebc-9908-52bef299bed6",
        "colab": {
          "base_uri": "https://localhost:8080/"
        }
      },
      "execution_count": 85,
      "outputs": [
        {
          "output_type": "execute_result",
          "data": {
            "text/plain": [
              "torch.Size([1, 10, 256])"
            ]
          },
          "metadata": {},
          "execution_count": 85
        }
      ]
    },
    {
      "cell_type": "code",
      "source": [
        "test_att.shape"
      ],
      "metadata": {
        "execution": {
          "iopub.status.busy": "2023-11-15T18:05:40.177725Z",
          "iopub.execute_input": "2023-11-15T18:05:40.178051Z",
          "iopub.status.idle": "2023-11-15T18:05:40.185448Z",
          "shell.execute_reply.started": "2023-11-15T18:05:40.178022Z",
          "shell.execute_reply": "2023-11-15T18:05:40.184391Z"
        },
        "trusted": true,
        "id": "9AV9Xu2tHgBW",
        "outputId": "c7be0abf-3c50-45c3-9166-b375c6c99089",
        "colab": {
          "base_uri": "https://localhost:8080/"
        }
      },
      "execution_count": 86,
      "outputs": [
        {
          "output_type": "execute_result",
          "data": {
            "text/plain": [
              "torch.Size([1, 4, 10, 10])"
            ]
          },
          "metadata": {},
          "execution_count": 86
        }
      ]
    },
    {
      "cell_type": "markdown",
      "source": [
        "Let's visualize the attention maps of the 4 self-attention heads:"
      ],
      "metadata": {
        "id": "FndeQM3sHgBW"
      }
    },
    {
      "cell_type": "code",
      "source": [
        "import matplotlib.pyplot as plt\n",
        "\n",
        "fig, ax = plt.subplots(ncols=causal_self_attention.num_heads, figsize=(16, 6))\n",
        "for head_idx in range(causal_self_attention.num_heads):\n",
        "    ax[head_idx].imshow(test_att[0, head_idx].numpy(), cmap=\"gray\", vmin=0, vmax=1)\n",
        "_ = plt.suptitle(\"Attention weights for each head of a randomly initialized CaualSelfAttention module\")"
      ],
      "metadata": {
        "execution": {
          "iopub.status.busy": "2023-11-15T18:05:40.186811Z",
          "iopub.execute_input": "2023-11-15T18:05:40.187176Z",
          "iopub.status.idle": "2023-11-15T18:05:40.758114Z",
          "shell.execute_reply.started": "2023-11-15T18:05:40.187139Z",
          "shell.execute_reply": "2023-11-15T18:05:40.757171Z"
        },
        "trusted": true,
        "id": "CwSdqH09HgBW",
        "outputId": "d3a62564-971d-4fd0-981f-a132859094da",
        "colab": {
          "base_uri": "https://localhost:8080/",
          "height": 442
        }
      },
      "execution_count": 87,
      "outputs": [
        {
          "output_type": "display_data",
          "data": {
            "text/plain": [
              "<Figure size 1600x600 with 4 Axes>"
            ],
            "image/png": "[encoded data removed]"
          },
          "metadata": {}
        }
      ]
    },
    {
      "cell_type": "markdown",
      "source": [
        "One can observe that to compute the new embedding for the token at position `0`, all the weight is concentrated to the previous embedding of token `0` while for token at position `9`, the attentions weights are randomly (uniformly) spread onto the all the tokens of the sequence, hence the name \"causal attention\".\n",
        "\n",
        "We will later see how those attention maps typically look for particular predicted tokens on a trained transformer model."
      ],
      "metadata": {
        "id": "BHTFtExDHgBW"
      }
    },
    {
      "cell_type": "markdown",
      "source": [
        "The MLP modules in transformers typically use the GELU activation function place of the traditional ReLU activation function. Here is the definition of this function:"
      ],
      "metadata": {
        "id": "hYvHf8QyHgBW"
      }
    },
    {
      "cell_type": "code",
      "source": [
        "import math\n",
        "\n",
        "x = torch.linspace(-3, 3, 1000)\n",
        "gelu = torch.nn.GELU()\n",
        "\n",
        "plt.figure(figsize=(8, 4))\n",
        "plt.plot(x, gelu(x).detach().numpy())\n",
        "_ = plt.title(\"GELU activation function\")\n"
      ],
      "metadata": {
        "execution": {
          "iopub.status.busy": "2023-11-15T18:05:40.759241Z",
          "iopub.execute_input": "2023-11-15T18:05:40.759543Z",
          "iopub.status.idle": "2023-11-15T18:05:40.998637Z",
          "shell.execute_reply.started": "2023-11-15T18:05:40.759514Z",
          "shell.execute_reply": "2023-11-15T18:05:40.997692Z"
        },
        "trusted": true,
        "id": "htzZ7wDjHgBW",
        "outputId": "375ec376-10f3-48cc-f923-6d6dcef2af2d",
        "colab": {
          "base_uri": "https://localhost:8080/",
          "height": 391
        }
      },
      "execution_count": 88,
      "outputs": [
        {
          "output_type": "display_data",
          "data": {
            "text/plain": [
              "<Figure size 800x400 with 1 Axes>"
            ],
            "image/png": "[encoded data removed]"
          },
          "metadata": {}
        }
      ]
    },
    {
      "cell_type": "markdown",
      "source": [
        "We can now define the main transformer block by assembling a self-attentional module, followed by a token-wise MLP module:"
      ],
      "metadata": {
        "id": "6QJUbjfVHgBX"
      }
    },
    {
      "cell_type": "code",
      "source": [
        "class TransformerBlock(nn.Module):\n",
        "    def __init__(self, sequence_length, embedding_dim=768, num_heads=12, dropout=0.1):\n",
        "        super().__init__()\n",
        "\n",
        "        self.ln_1 = nn.LayerNorm(embedding_dim)\n",
        "        self.self_attn = CausalSelfAttention(\n",
        "            sequence_length,\n",
        "            embedding_dim=embedding_dim,\n",
        "            num_heads=num_heads,\n",
        "            dropout=dropout,\n",
        "        )\n",
        "\n",
        "        self.ln_2 = nn.LayerNorm(embedding_dim)\n",
        "\n",
        "        # MLP with a GELU activation function and dropout. The hidden layer has\n",
        "        # 4 times the dimensionality of its input.\n",
        "        self.mlp = nn.Sequential(\n",
        "            nn.Linear(embedding_dim, 4 * embedding_dim),\n",
        "            nn.GELU(),\n",
        "            nn.Linear(4 * embedding_dim, embedding_dim),\n",
        "            nn.Dropout(dropout),\n",
        "        )\n",
        "\n",
        "    def forward(self, x):\n",
        "        xa, attn_weigths = self.self_attn(self.ln_1(x))\n",
        "        x = x + xa\n",
        "\n",
        "        # Since the output of the CausalSelfAttention layer has \"embedding_dim\" dimensions on its last axis, we can\n",
        "        # apply the MLP directly to `x` as it matches the expected input dimensionality of the first linear layer.\n",
        "        # The MLP is repeatedly applied for each position in the sequence.\n",
        "        x = x + self.mlp(self.ln_2(x))\n",
        "        return x, attn_weigths\n"
      ],
      "metadata": {
        "execution": {
          "iopub.status.busy": "2023-11-15T18:05:40.999961Z",
          "iopub.execute_input": "2023-11-15T18:05:41.000261Z",
          "iopub.status.idle": "2023-11-15T18:05:41.009604Z",
          "shell.execute_reply.started": "2023-11-15T18:05:41.000232Z",
          "shell.execute_reply": "2023-11-15T18:05:41.008634Z"
        },
        "trusted": true,
        "id": "ezfLigOAHgBX"
      },
      "execution_count": 89,
      "outputs": []
    },
    {
      "cell_type": "markdown",
      "source": [
        "This block is typically repeated 12 times in a commonly sized GPT architecture for general Natural Language Processing tasks. In the interest of computational efficiency we will use a much smaller number of blocks for our toy French number translation task."
      ],
      "metadata": {
        "id": "ezoVRiVpHgBX"
      }
    },
    {
      "cell_type": "code",
      "source": [
        "class GPT(nn.Module):\n",
        "    \"\"\"GPT Language Model\n",
        "\n",
        "    Decoder-only Transformer model with causal self-attention.\n",
        "    \"\"\"\n",
        "\n",
        "    def __init__(\n",
        "        self,\n",
        "        vocab_size,\n",
        "        sequence_length,\n",
        "        num_blocks=12,\n",
        "        num_heads=12,\n",
        "        embedding_dim=768,\n",
        "        dropout=0.1,\n",
        "    ):\n",
        "        super().__init__()\n",
        "        self.vocab_size = vocab_size\n",
        "        self.sequence_length = sequence_length\n",
        "\n",
        "        self.token_embedding = nn.Embedding(vocab_size, embedding_dim)\n",
        "        self.position_embedding = nn.Embedding(sequence_length, embedding_dim)\n",
        "\n",
        "        self.dropout = nn.Dropout(dropout)\n",
        "        self.blocks = nn.ModuleList(\n",
        "            [\n",
        "                TransformerBlock(\n",
        "                    sequence_length,\n",
        "                    embedding_dim=embedding_dim,\n",
        "                    num_heads=num_heads,\n",
        "                    dropout=dropout,\n",
        "                )\n",
        "                for _ in range(num_blocks)\n",
        "            ]\n",
        "        )\n",
        "        self.ln_final = nn.LayerNorm(embedding_dim)\n",
        "        self.token_classifier = nn.Linear(embedding_dim, vocab_size, bias=False)\n",
        "\n",
        "        # Generic weights initialization for all sub-modules:\n",
        "        self.apply(self._init_weights)\n",
        "\n",
        "        # Apply a special scaled init to the residual projections:\n",
        "        for name, p in self.named_parameters():\n",
        "            if name.endswith(\"csa_proj.weight\"):\n",
        "                torch.nn.init.normal_(p, mean=0.0, std=0.02 / math.sqrt(2 * num_blocks))\n",
        "\n",
        "    def _init_weights(self, module):\n",
        "        if isinstance(module, nn.Linear):\n",
        "            torch.nn.init.normal_(module.weight, mean=0.0, std=0.02)\n",
        "            if module.bias is not None:\n",
        "                torch.nn.init.zeros_(module.bias)\n",
        "        elif isinstance(module, nn.Embedding):\n",
        "            torch.nn.init.normal_(module.weight, mean=0.0, std=0.02)\n",
        "        elif isinstance(module, nn.LayerNorm):\n",
        "            torch.nn.init.zeros_(module.bias)\n",
        "            torch.nn.init.ones_(module.weight)\n",
        "\n",
        "    def forward(self, token_indices, return_attention=False):\n",
        "        device = token_indices.device\n",
        "        batch_size, sequence_length = token_indices.size()\n",
        "        assert sequence_length, self.blocsequence_length\n",
        "\n",
        "        # Create position indices: shape (1, sequence_length)\n",
        "        pos = torch.arange(\n",
        "            0, sequence_length, dtype=torch.long, device=device\n",
        "        ).unsqueeze(0)\n",
        "\n",
        "        # Token embeddings of shape (batch_size, sequence_length, embedding_dim)\n",
        "        tok_emb = self.token_embedding(token_indices)\n",
        "\n",
        "        # Position embeddings of shape (1, sequence_length, embedding_dim)\n",
        "        pos_emb = self.position_embedding(pos)\n",
        "\n",
        "        # Sum the two embeddings and apply dropout (broadcasting on batch_size)\n",
        "        x = self.dropout(tok_emb) # + pos_emb)\n",
        "\n",
        "        # Go through the transformer blocks\n",
        "        all_weights = []\n",
        "        for block in self.blocks:\n",
        "            x, attn_weights = block(x)\n",
        "            all_weights.append(attn_weights)\n",
        "\n",
        "        # Stack all attention weights:\n",
        "        # (batch_size, num_layers, num_heads, sequence_length, sequence_length)\n",
        "        all_weights = torch.stack(all_weights).transpose(0, 1)\n",
        "\n",
        "        # Apply final LayerNorm and linear projection to get logits\n",
        "        x = self.ln_final(x)\n",
        "        logits = self.token_classifier(x)\n",
        "\n",
        "        # Transpose logits to have shape (batch_size, vocab_size, sequence_length)\n",
        "        # for the loss function:\n",
        "        logits = logits.transpose(1, 2)\n",
        "\n",
        "        if return_attention:\n",
        "            return logits, all_weights\n",
        "        else:\n",
        "            return logits\n",
        "\n",
        "\n",
        "gpt_seq2seq = GPT(\n",
        "    vocab_size=len(vocab),\n",
        "    sequence_length=20,\n",
        "    num_blocks=4,\n",
        "    num_heads=4,\n",
        "    embedding_dim=128,\n",
        "    dropout=0.1,\n",
        ").to(DEVICE)\n",
        "\n",
        "\n",
        "with torch.no_grad():\n",
        "    logits, attn_weights = gpt_seq2seq(first_input_batch, return_attention=True)\n",
        "\n",
        "logits.shape"
      ],
      "metadata": {
        "execution": {
          "iopub.status.busy": "2023-11-15T18:05:41.010801Z",
          "iopub.execute_input": "2023-11-15T18:05:41.011146Z",
          "iopub.status.idle": "2023-11-15T18:05:41.079045Z",
          "shell.execute_reply.started": "2023-11-15T18:05:41.011108Z",
          "shell.execute_reply": "2023-11-15T18:05:41.078115Z"
        },
        "trusted": true,
        "id": "PxsVd3HuHgBX",
        "outputId": "5e0fab40-f8bc-4a06-856b-c76ba1a67333",
        "colab": {
          "base_uri": "https://localhost:8080/"
        }
      },
      "execution_count": 90,
      "outputs": [
        {
          "output_type": "execute_result",
          "data": {
            "text/plain": [
              "torch.Size([64, 40, 20])"
            ]
          },
          "metadata": {},
          "execution_count": 90
        }
      ]
    },
    {
      "cell_type": "code",
      "source": [
        "attn_weights.shape"
      ],
      "metadata": {
        "execution": {
          "iopub.status.busy": "2023-11-15T18:05:41.080066Z",
          "iopub.execute_input": "2023-11-15T18:05:41.081929Z",
          "iopub.status.idle": "2023-11-15T18:05:41.087903Z",
          "shell.execute_reply.started": "2023-11-15T18:05:41.081895Z",
          "shell.execute_reply": "2023-11-15T18:05:41.086919Z"
        },
        "trusted": true,
        "id": "EA3FJdoNHgBX",
        "outputId": "d733a2b1-614a-4019-ddde-cd3d411aab1e",
        "colab": {
          "base_uri": "https://localhost:8080/"
        }
      },
      "execution_count": 91,
      "outputs": [
        {
          "output_type": "execute_result",
          "data": {
            "text/plain": [
              "torch.Size([64, 4, 4, 20, 20])"
            ]
          },
          "metadata": {},
          "execution_count": 91
        }
      ]
    },
    {
      "cell_type": "code",
      "source": [
        "# gpt_seq2seq"
      ],
      "metadata": {
        "execution": {
          "iopub.status.busy": "2023-11-15T18:05:41.089249Z",
          "iopub.execute_input": "2023-11-15T18:05:41.089932Z",
          "iopub.status.idle": "2023-11-15T18:05:41.096635Z",
          "shell.execute_reply.started": "2023-11-15T18:05:41.089894Z",
          "shell.execute_reply": "2023-11-15T18:05:41.095769Z"
        },
        "trusted": true,
        "id": "cM6pEtnWHgBX"
      },
      "execution_count": 92,
      "outputs": []
    },
    {
      "cell_type": "code",
      "source": [
        "optimizer = torch.optim.Adam(\n",
        "    params=gpt_seq2seq.parameters(), lr=3e-4, weight_decay=0\n",
        ")\n",
        "criterion = torch.nn.CrossEntropyLoss()"
      ],
      "metadata": {
        "execution": {
          "iopub.status.busy": "2023-11-15T18:05:41.097797Z",
          "iopub.execute_input": "2023-11-15T18:05:41.098536Z",
          "iopub.status.idle": "2023-11-15T18:05:41.107553Z",
          "shell.execute_reply.started": "2023-11-15T18:05:41.098497Z",
          "shell.execute_reply": "2023-11-15T18:05:41.106595Z"
        },
        "trusted": true,
        "id": "uRf7tCy_HgBX"
      },
      "execution_count": 93,
      "outputs": []
    },
    {
      "cell_type": "code",
      "source": [
        "train_model(gpt_seq2seq, optimizer, criterion, train_dl, validation_dl, num_epochs=30)"
      ],
      "metadata": {
        "execution": {
          "iopub.status.busy": "2023-11-15T18:05:41.108858Z",
          "iopub.execute_input": "2023-11-15T18:05:41.109281Z",
          "iopub.status.idle": "2023-11-15T18:06:11.884529Z",
          "shell.execute_reply.started": "2023-11-15T18:05:41.109243Z",
          "shell.execute_reply": "2023-11-15T18:06:11.883497Z"
        },
        "trusted": true,
        "id": "N2euLiBjHgBX",
        "outputId": "5205c02b-3e1a-4bc9-8609-730cd5c55d5b",
        "colab": {
          "base_uri": "https://localhost:8080/"
        }
      },
      "execution_count": 101,
      "outputs": [
        {
          "output_type": "stream",
          "name": "stdout",
          "text": [
            "Epoch 0, Train loss: 0.0156, Val loss: 0.0017, Val acc: 1.00, Train acc: 1.00\n",
            "Epoch 1, Train loss: 0.0134, Val loss: 0.0011, Val acc: 1.00, Train acc: 1.00\n",
            "Epoch 2, Train loss: 0.0143, Val loss: 0.0008, Val acc: 1.00, Train acc: 1.00\n",
            "Epoch 3, Train loss: 0.0129, Val loss: 0.0011, Val acc: 1.00, Train acc: 1.00\n",
            "Epoch 4, Train loss: 0.0136, Val loss: 0.0011, Val acc: 1.00, Train acc: 1.00\n",
            "Epoch 5, Train loss: 0.0127, Val loss: 0.0012, Val acc: 1.00, Train acc: 1.00\n",
            "Epoch 6, Train loss: 0.0137, Val loss: 0.0006, Val acc: 1.00, Train acc: 1.00\n",
            "Epoch 7, Train loss: 0.0115, Val loss: 0.0058, Val acc: 1.00, Train acc: 1.00\n",
            "Epoch 8, Train loss: 0.0110, Val loss: 0.0008, Val acc: 1.00, Train acc: 1.00\n",
            "Epoch 9, Train loss: 0.0109, Val loss: 0.0005, Val acc: 1.00, Train acc: 1.00\n",
            "Epoch 10, Train loss: 0.0109, Val loss: 0.0003, Val acc: 1.00, Train acc: 1.00\n",
            "Epoch 11, Train loss: 0.0105, Val loss: 0.0004, Val acc: 1.00, Train acc: 1.00\n",
            "Epoch 12, Train loss: 0.0103, Val loss: 0.0007, Val acc: 1.00, Train acc: 1.00\n",
            "Epoch 13, Train loss: 0.0099, Val loss: 0.0007, Val acc: 1.00, Train acc: 1.00\n",
            "Epoch 14, Train loss: 0.0094, Val loss: 0.0010, Val acc: 1.00, Train acc: 1.00\n",
            "Epoch 15, Train loss: 0.0086, Val loss: 0.0010, Val acc: 1.00, Train acc: 1.00\n",
            "Epoch 16, Train loss: 0.0096, Val loss: 0.0005, Val acc: 1.00, Train acc: 1.00\n",
            "Epoch 17, Train loss: 0.0093, Val loss: 0.0004, Val acc: 1.00, Train acc: 1.00\n",
            "Epoch 18, Train loss: 0.0093, Val loss: 0.0004, Val acc: 1.00, Train acc: 1.00\n",
            "Epoch 19, Train loss: 0.0083, Val loss: 0.0006, Val acc: 1.00, Train acc: 1.00\n",
            "Epoch 20, Train loss: 0.0082, Val loss: 0.0008, Val acc: 1.00, Train acc: 1.00\n",
            "Epoch 21, Train loss: 0.0084, Val loss: 0.0004, Val acc: 1.00, Train acc: 1.00\n",
            "Epoch 22, Train loss: 0.0086, Val loss: 0.0004, Val acc: 1.00, Train acc: 1.00\n",
            "Epoch 23, Train loss: 0.0078, Val loss: 0.0013, Val acc: 1.00, Train acc: 1.00\n",
            "Epoch 24, Train loss: 0.0067, Val loss: 0.0007, Val acc: 1.00, Train acc: 1.00\n",
            "Epoch 25, Train loss: 0.0085, Val loss: 0.0005, Val acc: 1.00, Train acc: 1.00\n",
            "Epoch 26, Train loss: 0.0075, Val loss: 0.0006, Val acc: 1.00, Train acc: 1.00\n",
            "Epoch 27, Train loss: 0.0076, Val loss: 0.0005, Val acc: 1.00, Train acc: 1.00\n",
            "Epoch 28, Train loss: 0.0073, Val loss: 0.0005, Val acc: 1.00, Train acc: 1.00\n",
            "Epoch 29, Train loss: 0.0071, Val loss: 0.0002, Val acc: 1.00, Train acc: 1.00\n"
          ]
        }
      ]
    },
    {
      "cell_type": "code",
      "source": [
        "phrases = [\n",
        "    \"un\",\n",
        "    \"deux\",\n",
        "    \"trois\",\n",
        "    \"onze\",\n",
        "    \"quinze\",\n",
        "    \"cent trente deux\",\n",
        "    \"deux cent mille douze\",\n",
        "    \"sept mille huit cent cinquante neuf\",\n",
        "    \"vingt et un\",\n",
        "    \"vingt quatre\",\n",
        "    \"quatre vingts\",\n",
        "    \"quatre vingt onze mille\",\n",
        "    \"quatre vingt onze mille deux cent deux\",\n",
        "]\n",
        "for phrase in phrases:\n",
        "    translation = greedy_translate(gpt_seq2seq, phrase, vocab, rev_vocab)\n",
        "    print(phrase.ljust(40), translation)"
      ],
      "metadata": {
        "execution": {
          "iopub.status.busy": "2023-11-15T18:06:11.885919Z",
          "iopub.execute_input": "2023-11-15T18:06:11.886243Z",
          "iopub.status.idle": "2023-11-15T18:06:11.998690Z",
          "shell.execute_reply.started": "2023-11-15T18:06:11.886214Z",
          "shell.execute_reply": "2023-11-15T18:06:11.997558Z"
        },
        "trusted": true,
        "id": "sKc7QCIEHgBX",
        "outputId": "9cb7171c-5712-4318-b2dc-745e770772ce",
        "colab": {
          "base_uri": "https://localhost:8080/"
        }
      },
      "execution_count": 102,
      "outputs": [
        {
          "output_type": "stream",
          "name": "stdout",
          "text": [
            "un                                       1\n",
            "deux                                     2\n",
            "trois                                    3\n",
            "onze                                     11\n",
            "quinze                                   15\n",
            "cent trente deux                         132\n",
            "deux cent mille douze                    20012\n",
            "sept mille huit cent cinquante neuf      7859\n",
            "vingt et un                              21\n",
            "vingt quatre                             24\n",
            "quatre vingts                            80\n",
            "quatre vingt onze mille                  91000\n",
            "quatre vingt onze mille deux cent deux   91202\n"
          ]
        }
      ]
    },
    {
      "cell_type": "code",
      "source": [
        "test_acc = phrase_accuracy(gpt_seq2seq, num_test, fr_test)\n",
        "print(f\"Phrase-level test accuracy: {test_acc:.03f}\")"
      ],
      "metadata": {
        "execution": {
          "iopub.status.busy": "2023-11-15T18:06:12.000399Z",
          "iopub.execute_input": "2023-11-15T18:06:12.000848Z",
          "iopub.status.idle": "2023-11-15T18:06:15.575730Z",
          "shell.execute_reply.started": "2023-11-15T18:06:12.000807Z",
          "shell.execute_reply": "2023-11-15T18:06:15.574716Z"
        },
        "trusted": true,
        "id": "l2JItMcBHgBX",
        "outputId": "b822f5d0-7bb3-4ed9-b800-cdcbb2ff1356",
        "colab": {
          "base_uri": "https://localhost:8080/"
        }
      },
      "execution_count": 104,
      "outputs": [
        {
          "output_type": "stream",
          "name": "stdout",
          "text": [
            "❌ FAIL: vingt deux mille deux cent quatre vingt treize => 2293\n",
            "Phrase-level test accuracy: 0.997\n"
          ]
        }
      ]
    },
    {
      "cell_type": "markdown",
      "source": [
        "## Visualizing self-attention\n",
        "\n",
        "Let's now visualize the trained self-attention activations from the `CausalSelfAttention` modules present in the GPT model."
      ],
      "metadata": {
        "id": "JsfJWwYjHgBX"
      }
    },
    {
      "cell_type": "code",
      "source": [
        "input_sequence = (\n",
        "    \"sept mille huit cent cinquante neuf\"  # Don't hesitate to change the input sequence\n",
        ")\n",
        "\n",
        "input_ids = [vocab.get(t, vocab[UNK]) for t in reversed(tokenize(input_sequence))]\n",
        "input_ids += [\n",
        "    vocab[GO],\n",
        "\n",
        "    # Progressively uncomment the first lines to test the model with already\n",
        "    # predicted tokens:\n",
        "\n",
        "    vocab[\"7\"],\n",
        "    # vocab[\"8\"],\n",
        "    # vocab[\"5\"],\n",
        "    # vocab[\"9\"],\n",
        "]\n",
        "\n",
        "input_array = np.empty([1, gpt_seq2seq.sequence_length], dtype=np.int32)\n",
        "input_array.fill(vocab[PAD])\n",
        "input_array[0, : len(input_ids)] = input_ids\n",
        "\n",
        "with torch.no_grad():\n",
        "    logits, attention_map = gpt_seq2seq(\n",
        "        torch.from_numpy(input_array).to(DEVICE), return_attention=True\n",
        "    )\n",
        "\n",
        "predicted_next_token = rev_vocab[logits[0, :, len(input_ids) - 1].argmax().cpu()]\n",
        "print(f\"Predicted next token = '{predicted_next_token}'\")\n"
      ],
      "metadata": {
        "execution": {
          "iopub.status.busy": "2023-11-15T18:06:15.577080Z",
          "iopub.execute_input": "2023-11-15T18:06:15.577490Z",
          "iopub.status.idle": "2023-11-15T18:06:15.591715Z",
          "shell.execute_reply.started": "2023-11-15T18:06:15.577450Z",
          "shell.execute_reply": "2023-11-15T18:06:15.590671Z"
        },
        "trusted": true,
        "id": "iFRMc8grHgBX",
        "outputId": "45adc22d-3039-4426-e3c7-63889a6b4d65",
        "colab": {
          "base_uri": "https://localhost:8080/"
        }
      },
      "execution_count": 97,
      "outputs": [
        {
          "output_type": "stream",
          "name": "stdout",
          "text": [
            "Predicted next token = '8'\n"
          ]
        }
      ]
    },
    {
      "cell_type": "code",
      "source": [
        "import seaborn as sns\n",
        "\n",
        "n_layers = attention_map.shape[1]\n",
        "n_heads = attention_map.shape[2]\n",
        "tokens = [rev_vocab[t] for t in input_array[0, :]]\n",
        "\n",
        "fig, ax = plt.subplots(nrows=n_layers, ncols=n_heads, figsize=(24, 24))\n",
        "for layer_idx in range(n_layers):\n",
        "    for head_idx in range(n_heads):\n",
        "        sns.heatmap(\n",
        "            attention_map[0, layer_idx, head_idx].cpu().numpy(),\n",
        "            ax=ax[layer_idx, head_idx],\n",
        "            xticklabels=tokens,\n",
        "            yticklabels=tokens,\n",
        "            square=True,\n",
        "            cmap=\"gray\",\n",
        "        )\n",
        "        ax[layer_idx, head_idx].set_title(\n",
        "            f\"Layer {layer_idx + 1} - Head {head_idx + 1}\"\n",
        "        )\n",
        "_ = plt.suptitle(\"Attention weights for each layer and head of the trained GPT model\")\n"
      ],
      "metadata": {
        "execution": {
          "iopub.status.busy": "2023-11-15T18:06:15.592929Z",
          "iopub.execute_input": "2023-11-15T18:06:15.593263Z",
          "iopub.status.idle": "2023-11-15T18:06:30.675886Z",
          "shell.execute_reply.started": "2023-11-15T18:06:15.593234Z",
          "shell.execute_reply": "2023-11-15T18:06:30.674900Z"
        },
        "trusted": true,
        "id": "OWFg-U8JHgBY",
        "outputId": "e0c9667e-3b50-43f0-d497-bff2fa4687a6",
        "colab": {
          "base_uri": "https://localhost:8080/",
          "height": 1000
        }
      },
      "execution_count": 98,
      "outputs": [
        {
          "output_type": "display_data",
          "data": {
            "text/plain": [
              "<Figure size 2400x2400 with 32 Axes>"
            ],
            "image/png": "[encoded data removed]"
          },
          "metadata": {}
        }
      ]
    },
    {
      "cell_type": "markdown",
      "source": [
        "How to read those maps:\n",
        "\n",
        "- When looking at a row, we see the attention weight of the model giving importance to previous input tokens;\n",
        "- Sometimes, they are intuitive to grasp, especially when reading the lines tokens after `<GO>` token but before the `<PAD>` tokens;\n",
        "- Other lines (e.g. the lines for the `<PAD>` tokens in the input) are pretty meaning less."
      ],
      "metadata": {
        "id": "n3jagefDHgBY"
      }
    },
    {
      "cell_type": "markdown",
      "source": [
        "### Questions\n",
        "\n",
        "- What is the output shape of each transformer block in the forward pass?\n",
        "    - Try to reason in your head first by reading the source code;\n",
        "    - Check that your reasoning is correct by inserting;\n",
        "    - Alternatively, use `summary(gpt_seq2seq, input_data=first_input_batch)` from the `torchinfo` package in a the notebook cell below.\n",
        "- What is the meaning of each axis? How does the number of heads impacts those shape?\n",
        "- How many trainable parameters in total?"
      ],
      "metadata": {
        "id": "oCSlgIajHgBY"
      }
    },
    {
      "cell_type": "code",
      "source": [],
      "metadata": {
        "id": "Vt16yhfdHgBY"
      },
      "execution_count": 98,
      "outputs": []
    },
    {
      "cell_type": "markdown",
      "source": [
        "### Exercises\n",
        "\n",
        "In new notebook cells below:\n",
        "\n",
        "- Build a new version of the training, validation and test sets and their data loaders without reversing the order of the source tokens in the input sequences;\n",
        "- Train a new instance of the previous model classes (`RecurrentSeq2Seq` and `GPT`) on this new data:\n",
        "    -  **WARNING** do not forget to create new Adam optimizer instances that update the parameters of the new models instead of updating the parameters of the previously trained models!\n",
        "- Does the order of the source tokens impact the test-set performance of the gru-based seq2seq model?\n",
        "- Does the order of the source tokens impact the test-set performance of the transformer-based seq2seq model?"
      ],
      "metadata": {
        "id": "-6hafJXpHgBY"
      }
    },
    {
      "cell_type": "code",
      "source": [
        "# TODO: write your code here, do not edit the previous models and dataloader\n",
        "# but feel free to reuse any existing class or function defined above, in\n",
        "# particular the `vectorize_corpus` which accepts a `reverse_source=True/False`\n",
        "# keyword argument."
      ],
      "metadata": {
        "execution": {
          "iopub.status.busy": "2023-11-15T18:06:30.677153Z",
          "iopub.execute_input": "2023-11-15T18:06:30.677484Z",
          "iopub.status.idle": "2023-11-15T18:06:30.681658Z",
          "shell.execute_reply.started": "2023-11-15T18:06:30.677455Z",
          "shell.execute_reply": "2023-11-15T18:06:30.680679Z"
        },
        "trusted": true,
        "id": "ymatGV90HgBY"
      },
      "execution_count": 99,
      "outputs": []
    },
    {
      "cell_type": "code",
      "source": [
        "# As always, feel free to insert as many new notebook cells as you want."
      ],
      "metadata": {
        "execution": {
          "iopub.status.busy": "2023-11-15T18:06:30.682656Z",
          "iopub.execute_input": "2023-11-15T18:06:30.682907Z",
          "iopub.status.idle": "2023-11-15T18:06:30.693720Z",
          "shell.execute_reply.started": "2023-11-15T18:06:30.682883Z",
          "shell.execute_reply": "2023-11-15T18:06:30.692726Z"
        },
        "trusted": true,
        "id": "yDx2mbqgHgBY"
      },
      "execution_count": 100,
      "outputs": []
    },
    {
      "cell_type": "markdown",
      "source": [
        "# Going Further (optional exercises)\n",
        "\n",
        "We only scratched the surface of sequence-to-sequence systems. To go further, we recommend reading the initial [Sequence to Sequence paper](https://arxiv.org/abs/1409.3215) as well as later developments, in particular [Attention is all you need paper](https://arxiv.org/abs/1706.03762) that introduced the transformer architecture with self-attention layers.\n",
        "\n",
        "Here are a few pointers on how to go further if you're interested in getting more practical experience with those models.\n",
        "\n",
        "### Reverse translation: Numeric to French\n",
        "\n",
        "- Build a model, with the same data but for the opposite task: translate from Numeric to French\n",
        "- Use the same kind of architectures\n",
        "\n",
        "### Check the importance of position embeddings for the transformer-based model\n",
        "\n",
        "- Try to comment out the use of position embedding in the forward pass of the transformer and check the impact on sequence-level accuracy of the model.\n",
        "- Why do you think this happens? Try to think what becomes permutation invariant or not but also how much accuracy you would get when trying to transcribe French sentences to number when the word order is randomly permuted.\n",
        "- Do you think the performance degradation would be higher or lower when doing the same experiments for models trained on the Numeric to French task instead of the French to Numeric task?\n",
        "\n",
        "### Impact of the model architecture on sample efficiency\n",
        "\n",
        "- Generate a new version of the dataset by subsampling the original training data (e.g. 1000 examples).\n",
        "- For the recurrent network model, try to add multiple, larger GRU layers and more dropout regularization.\n",
        "- Similarly for the transformer based model, try to increase the number of layers, number of attention heads and embedding size to see the impact on the model performance, with smaller training sets.\n",
        "- Quite counter intuitively, this might make it possible train a perfect translation model with a smaller amount of labeled samples. Try to train a seq2seq model with only 4000 training sequences or even fewer without overfitting.\n",
        "\n",
        "### Separated Encoder-Decoder\n",
        "\n",
        "We may want to build a model with a separated encoder and decoder, and expect to improve the performance by using a more flexible architecture.\n",
        "\n",
        "The encoder would read the source sequence to build one embedding vector or a set of per-source-token embedding vectors in one forward pass.\n",
        "\n",
        "The decoder will then iteratively predict one token at a time. The first layer of the decoder is feed both the output and the encoder and the embedding of the previously decoded tokens.\n",
        "\n",
        "There is no need to \"causal\" constraints in the encoder: if using a transformer for the encoder, then the token embedding of a given layer can be computed from all the embeddings of the previous layer (past and future).\n",
        "\n",
        "The encoder-decoder pair can still be trained end-to-end via teacher forcing, meaning that it's important for the decoder to use a \"causal\" architecture (uniderectional GRU/LSTM or causal transformer) to make sure that token decoding cannot access information from the \"future\".\n",
        "\n",
        "Also, when using transformers,  It's important use positional embeddings both for the encoder and the decoder (for transformers). It's important use positional embeddings both for the encoder and the decoder (for transformers).\n",
        "\n",
        "Try to implement a Encoder-Decoder Seq2Seq architecture an apply it to the French numbers dataset. It's possible to either do it using a recurrent-network based architecture or a transformer based architecture as shown on this diagram:\n",
        "\n",
        "<img src=\"https://m2dsupsdlclass.github.io/lectures-labs/slides/07_deep_nlp_2/images/transformer.png\" height=\"500px\" />\n",
        "\n",
        "When training and using such an architecture, the source tokens are passed separately instead of being concatenated to the target tokens in the input with the `<GO>` special token. The encoder-decoder join model has therefore two inputs: the source tokens and the previously predicted tokens. When preparing the expected outputs for teacher forcing training, one should also ensure to pass shifted tokens for the target sequence, without source length extra padding as we did above for the decoder only architecture.\n",
        "\n",
        "### Beam search decoding\n",
        "\n",
        "The naive greedy decoding strategy we used does not necessarily select the most likely sequence overall. Using a beam-search algorithm might lead to better results for instance, however it is significantly more complex to implement correctly."
      ],
      "metadata": {
        "id": "p_PLaSc8HgBY"
      }
    },
    {
      "cell_type": "code",
      "source": [],
      "metadata": {
        "id": "93jKiyNKHgBY"
      },
      "execution_count": 100,
      "outputs": []
    }
  ]
}