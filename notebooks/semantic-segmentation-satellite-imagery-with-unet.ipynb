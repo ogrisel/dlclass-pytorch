{
  "cells": [
    {
      "cell_type": "markdown",
      "id": "04102eed",
      "metadata": {
        "id": "04102eed",
        "papermill": {
          "duration": 0.008398,
          "end_time": "2023-11-10T07:48:42.126884",
          "exception": false,
          "start_time": "2023-11-10T07:48:42.118486",
          "status": "completed"
        },
        "tags": []
      },
      "source": [
        "# U-Net On Semantic Segmentation Satellite Imagery Dataset\n",
        "\n",
        "Use of a U-Net model on a [Semantic segmentation satellite imagery dataset](https://figshare.com/collections/_/6026765)."
      ]
    },
    {
      "cell_type": "markdown",
      "id": "0f2f08ca",
      "metadata": {
        "execution": {
          "iopub.execute_input": "2022-11-08T15:47:46.847688Z",
          "iopub.status.busy": "2022-11-08T15:47:46.847231Z",
          "iopub.status.idle": "2022-11-08T15:47:46.855802Z",
          "shell.execute_reply": "2022-11-08T15:47:46.854341Z",
          "shell.execute_reply.started": "2022-11-08T15:47:46.847646Z"
        },
        "id": "0f2f08ca",
        "papermill": {
          "duration": 0.007473,
          "end_time": "2023-11-10T07:48:42.142096",
          "exception": false,
          "start_time": "2023-11-10T07:48:42.134623",
          "status": "completed"
        },
        "tags": []
      },
      "source": [
        "AS a reminder, the U-Net architecture is defined as follows :\n",
        "\n",
        "[<img src=\"https://camo.githubusercontent.com/6b548ee09b97874014d72903c891360beb0989e74b4585249436421558faa89d/68747470733a2f2f692e696d6775722e636f6d2f6a6544567071462e706e67\" alt=\"drawing\" width=\"1000\">](https://github.com/milesial/Pytorch-UNet)\n",
        "\n",
        "Follow the link to a nice U-Net implementation in PyTorch, from which this notebook is built. And for more information see your own notes (lesson 7 !). Or you can take a look at the [paper](https://arxiv.org/pdf/1505.04597.pdf) !"
      ]
    },
    {
      "cell_type": "code",
      "execution_count": 1,
      "id": "9863aefd",
      "metadata": {
        "_cell_guid": "b1076dfc-b9ad-4769-8c92-a6c4dae69d19",
        "_uuid": "8f2839f25d086af736a60e9eeb907d3b93b6e0e5",
        "colab": {
          "base_uri": "https://localhost:8080/"
        },
        "execution": {
          "iopub.execute_input": "2023-11-10T07:48:42.159192Z",
          "iopub.status.busy": "2023-11-10T07:48:42.158428Z",
          "iopub.status.idle": "2023-11-10T07:48:45.737849Z",
          "shell.execute_reply": "2023-11-10T07:48:45.736940Z"
        },
        "id": "9863aefd",
        "outputId": "139bd5bb-ba00-4d2f-e39d-18230d9e337a",
        "papermill": {
          "duration": 3.590627,
          "end_time": "2023-11-10T07:48:45.740187",
          "exception": false,
          "start_time": "2023-11-10T07:48:42.149560",
          "status": "completed"
        },
        "tags": []
      },
      "outputs": [
        {
          "output_type": "execute_result",
          "data": {
            "text/plain": [
              "device(type='cuda', index=0)"
            ]
          },
          "metadata": {},
          "execution_count": 1
        }
      ],
      "source": [
        "import zipfile\n",
        "from pathlib import Path\n",
        "\n",
        "import numpy as np\n",
        "import torch\n",
        "import torch.nn as nn\n",
        "import torchvision.transforms as T\n",
        "import torch.nn.functional as F\n",
        "from torch import optim\n",
        "from torch.hub import download_url_to_file\n",
        "\n",
        "import matplotlib.pyplot as plt\n",
        "from tqdm.notebook import tqdm_notebook as tqdm\n",
        "from PIL import Image\n",
        "\n",
        "DEVICE = torch.device(\"cuda:0\" if torch.cuda.is_available() else \"cpu\")\n",
        "DEVICE"
      ]
    },
    {
      "cell_type": "markdown",
      "id": "8940879c",
      "metadata": {
        "id": "8940879c",
        "papermill": {
          "duration": 0.007739,
          "end_time": "2023-11-10T07:48:45.755858",
          "exception": false,
          "start_time": "2023-11-10T07:48:45.748119",
          "status": "completed"
        },
        "tags": []
      },
      "source": [
        "Let's download the dataset, from figshare."
      ]
    },
    {
      "cell_type": "code",
      "execution_count": 2,
      "id": "987ba6ff",
      "metadata": {
        "execution": {
          "iopub.execute_input": "2023-11-10T07:48:45.772406Z",
          "iopub.status.busy": "2023-11-10T07:48:45.772035Z",
          "iopub.status.idle": "2023-11-10T07:50:14.894007Z",
          "shell.execute_reply": "2023-11-10T07:50:14.893027Z"
        },
        "id": "987ba6ff",
        "papermill": {
          "duration": 89.132474,
          "end_time": "2023-11-10T07:50:14.896028",
          "exception": false,
          "start_time": "2023-11-10T07:48:45.763554",
          "status": "completed"
        },
        "tags": []
      },
      "outputs": [],
      "source": [
        "if not Path(\"train_masks.zip\").exists():\n",
        "    download_url_to_file(\"https://figshare.com/ndownloader/articles/19961426/versions/1\", dst=\"train_masks.zip\")\n",
        "if not Path(\"train_images.zip\").exists():\n",
        "    download_url_to_file(\"https://figshare.com/ndownloader/articles/19961336/versions/1\", dst=\"train_images.zip\")"
      ]
    },
    {
      "cell_type": "markdown",
      "id": "f9ae54d1",
      "metadata": {
        "id": "f9ae54d1",
        "papermill": {
          "duration": 0.053567,
          "end_time": "2023-11-10T07:50:15.004390",
          "exception": false,
          "start_time": "2023-11-10T07:50:14.950823",
          "status": "completed"
        },
        "tags": []
      },
      "source": [
        "## The Model\n",
        "\n",
        "We define the model. Note the different classes : one for the model, and one for each type of layer relative to U-Net."
      ]
    },
    {
      "cell_type": "code",
      "execution_count": 3,
      "id": "16b185a4",
      "metadata": {
        "execution": {
          "iopub.execute_input": "2023-11-10T07:50:15.160192Z",
          "iopub.status.busy": "2023-11-10T07:50:15.159360Z",
          "iopub.status.idle": "2023-11-10T07:50:15.178703Z",
          "shell.execute_reply": "2023-11-10T07:50:15.177967Z"
        },
        "id": "16b185a4",
        "papermill": {
          "duration": 0.122297,
          "end_time": "2023-11-10T07:50:15.180701",
          "exception": false,
          "start_time": "2023-11-10T07:50:15.058404",
          "status": "completed"
        },
        "tags": []
      },
      "outputs": [],
      "source": [
        "\"\"\"Full U-Net module.\n",
        "\n",
        "Taken from https://github.com/milesial/Pytorch-UNet under GNU-GPL license.\n",
        "\"\"\"\n",
        "\n",
        "class DoubleConv(nn.Module):\n",
        "    \"\"\"(convolution => [BN] => ReLU) * 2\"\"\"\n",
        "\n",
        "    def __init__(self, in_channels, out_channels, mid_channels=None):\n",
        "        super().__init__()\n",
        "        if not mid_channels:\n",
        "            mid_channels = out_channels\n",
        "        self.double_conv = nn.Sequential(\n",
        "            nn.Conv2d(\n",
        "                in_channels, mid_channels, kernel_size=3, padding=1, bias=False\n",
        "            ),\n",
        "            nn.BatchNorm2d(mid_channels),\n",
        "            nn.ReLU(inplace=True),\n",
        "            nn.Conv2d(\n",
        "                mid_channels,\n",
        "                out_channels,\n",
        "                kernel_size=3,\n",
        "                padding=1,\n",
        "                bias=False,\n",
        "            ),\n",
        "            nn.BatchNorm2d(out_channels),\n",
        "            nn.ReLU(inplace=True),\n",
        "        )\n",
        "\n",
        "    def forward(self, x):\n",
        "        return self.double_conv(x)\n",
        "\n",
        "\n",
        "class Down(nn.Module):\n",
        "    \"\"\"Downscaling with maxpool then double conv\"\"\"\n",
        "\n",
        "    def __init__(self, in_channels, out_channels):\n",
        "        super().__init__()\n",
        "        self.maxpool_conv = nn.Sequential(\n",
        "            nn.MaxPool2d(2), DoubleConv(in_channels, out_channels)\n",
        "        )\n",
        "\n",
        "    def forward(self, x):\n",
        "        return self.maxpool_conv(x)\n",
        "\n",
        "\n",
        "class Up(nn.Module):\n",
        "    \"\"\"Upscaling then double conv\"\"\"\n",
        "\n",
        "    def __init__(self, in_channels, out_channels):\n",
        "        super().__init__()\n",
        "        self.up = nn.ConvTranspose2d(\n",
        "            in_channels, in_channels // 2, kernel_size=2, stride=2\n",
        "        )\n",
        "        self.conv = DoubleConv(in_channels, out_channels)\n",
        "\n",
        "    def forward(self, x1, x2):\n",
        "        # x1 is the output of the previous Up layer;\n",
        "        # x2 is the skip connection from the last Downlayer with compatible\n",
        "        # shape.\n",
        "        x1 = self.up(x1)\n",
        "        # input shape is (batch, channel, height, width)\n",
        "        diffY = x2.size()[2] - x1.size()[2]\n",
        "        diffX = x2.size()[3] - x1.size()[3]\n",
        "\n",
        "        x1 = F.pad(\n",
        "            x1,\n",
        "            [diffX // 2, diffX - diffX // 2, diffY // 2, diffY - diffY // 2],\n",
        "        )\n",
        "        x = torch.cat([x2, x1], dim=1)  # Concat along the channel dim.\n",
        "        return self.conv(x)\n",
        "\n",
        "\n",
        "class OutConv(nn.Module):\n",
        "    def __init__(self, in_channels, out_channels):\n",
        "        super(OutConv, self).__init__()\n",
        "        # Final classification to compute the per-pixel class logits using a\n",
        "        # 1x1 convolution layer.\n",
        "        # out_channels should match the number of possible classes.\n",
        "        self.conv = nn.Conv2d(in_channels, out_channels, kernel_size=1)\n",
        "\n",
        "    def forward(self, x):\n",
        "        return self.conv(x)"
      ]
    },
    {
      "cell_type": "markdown",
      "id": "ueeAwg7d6WhE",
      "metadata": {
        "id": "ueeAwg7d6WhE"
      },
      "source": [
        "## Exercise: Assembling a `UNet`\n",
        "\n",
        "Let's build a `UNet` model from these building blocks. Complete the forward pass using the defined modules.\n",
        "Make sure that the output shape of the model is coherent.\n",
        "\n",
        "> HINT: Take a look at the model architecture in the figure above.\n",
        "\n",
        "> HINT2: The `Up` layers take two input tensors: the output map of the `Down` layer with the matching output shape and the previous `Up` layer."
      ]
    },
    {
      "cell_type": "code",
      "execution_count": 4,
      "id": "37Ynnbij6WhF",
      "metadata": {
        "id": "37Ynnbij6WhF"
      },
      "outputs": [],
      "source": [
        "class UNet(nn.Module):\n",
        "    def __init__(self, in_channels, n_classes):\n",
        "        super(UNet, self).__init__()\n",
        "        self.in_channels = in_channels\n",
        "        self.n_classes = n_classes\n",
        "\n",
        "        self.inc = DoubleConv(in_channels=in_channels, out_channels=64)\n",
        "        self.down1 = Down(in_channels=64, out_channels=128)\n",
        "        self.down2 = Down(in_channels=128, out_channels=256)\n",
        "        self.down3 = Down(in_channels=256, out_channels=512)\n",
        "\n",
        "        self.down4 = Down(in_channels=512, out_channels=1024)\n",
        "        self.up1 = Up(in_channels=1024, out_channels=512)\n",
        "        self.up2 = Up(in_channels=512, out_channels=256)\n",
        "        self.up3 = Up(in_channels=256, out_channels=128)\n",
        "        self.up4 = Up(in_channels=128, out_channels=64)\n",
        "        self.outc = OutConv(64, n_classes)\n",
        "\n",
        "    def forward(self, x):\n",
        "        \"\"\"\n",
        "        Parameters\n",
        "        ==========\n",
        "            x: Tensor - size (b,in_channels,h,w) input image\n",
        "        Returns\n",
        "        =======\n",
        "            logits: Tensor - size (b,n_classes,h,w) output logits\n",
        "        \"\"\"\n",
        "        # TODO: complete the forward pass by using the layers initialized in\n",
        "        # __init__."
      ]
    },
    {
      "cell_type": "code",
      "execution_count": 5,
      "id": "NmMobtqA6WhF",
      "metadata": {
        "id": "NmMobtqA6WhF"
      },
      "outputs": [],
      "source": [
        "# Write the code to test your forward pass and a randomly generated input.\n",
        "# Make sure the output size is correct.\n",
        "\n",
        "image_height = 256\n",
        "image_width = 512\n",
        "\n",
        "n_channels = 3  # RGB image\n",
        "n_classes = 25\n",
        "\n",
        "# input_data = torch.randn(...)"
      ]
    },
    {
      "cell_type": "markdown",
      "id": "TEaB1h8E6WhG",
      "metadata": {
        "id": "TEaB1h8E6WhG"
      },
      "source": [
        "### Solution"
      ]
    },
    {
      "cell_type": "code",
      "execution_count": 6,
      "id": "Wcpz_HVU6WhG",
      "metadata": {
        "id": "Wcpz_HVU6WhG"
      },
      "outputs": [],
      "source": [
        "class UNet(nn.Module):\n",
        "    def __init__(self, in_channels, n_classes):\n",
        "        super(UNet, self).__init__()\n",
        "        self.in_channels = in_channels\n",
        "        self.n_classes = n_classes\n",
        "\n",
        "        self.inc = DoubleConv(in_channels=in_channels, out_channels=64)\n",
        "        self.down1 = Down(in_channels=64, out_channels=128)\n",
        "        self.down2 = Down(in_channels=128, out_channels=256)\n",
        "        self.down3 = Down(in_channels=256, out_channels=512)\n",
        "\n",
        "        self.down4 = Down(in_channels=512, out_channels=1024)\n",
        "        self.up1 = Up(in_channels=1024, out_channels=512)\n",
        "        self.up2 = Up(in_channels=512, out_channels=256)\n",
        "        self.up3 = Up(in_channels=256, out_channels=128)\n",
        "        self.up4 = Up(in_channels=128, out_channels=64)\n",
        "        self.outc = OutConv(64, n_classes)\n",
        "\n",
        "    def forward(self, x):\n",
        "        \"\"\"\n",
        "        Parameters\n",
        "        ==========\n",
        "            x: Tensor - size (b,in_channels,h,w) input image\n",
        "        Returns\n",
        "        =======\n",
        "            logits: Tensor - size (b,n_classes,h,w) output logits\n",
        "        \"\"\"\n",
        "        x1 = self.inc(x)\n",
        "        x2 = self.down1(x1)\n",
        "        x3 = self.down2(x2)\n",
        "        x4 = self.down3(x3)\n",
        "        x5 = self.down4(x4)\n",
        "        x = self.up1(x5, x4)\n",
        "        x = self.up2(x, x3)\n",
        "        x = self.up3(x, x2)\n",
        "        x = self.up4(x, x1)\n",
        "        logits = self.outc(x)\n",
        "        return logits"
      ]
    },
    {
      "cell_type": "code",
      "source": [],
      "metadata": {
        "id": "zuL85tXUoFgr"
      },
      "id": "zuL85tXUoFgr",
      "execution_count": 6,
      "outputs": []
    },
    {
      "cell_type": "code",
      "execution_count": 7,
      "id": "dI4mdbqA6WhG",
      "metadata": {
        "id": "dI4mdbqA6WhG"
      },
      "outputs": [],
      "source": [
        "batch_size = 2\n",
        "input_data = torch.randn(2, n_channels, image_height, image_width)\n",
        "\n",
        "unet = UNet(n_channels, n_classes)\n",
        "output_data = unet(input_data)"
      ]
    },
    {
      "cell_type": "code",
      "execution_count": 8,
      "id": "FKZvUyGx6WhG",
      "metadata": {
        "id": "FKZvUyGx6WhG"
      },
      "outputs": [],
      "source": [
        "assert output_data.shape == (batch_size, n_classes, image_height, image_width)"
      ]
    },
    {
      "cell_type": "markdown",
      "id": "df9e8719",
      "metadata": {
        "id": "df9e8719",
        "papermill": {
          "duration": 0.054324,
          "end_time": "2023-11-10T07:50:15.289010",
          "exception": false,
          "start_time": "2023-11-10T07:50:15.234686",
          "status": "completed"
        },
        "tags": []
      },
      "source": [
        "## Losses\n",
        "\n",
        "Let's define several custom losses for semantic segmentation. Note the use of the PyTorch framework and what you should do to implement your own."
      ]
    },
    {
      "cell_type": "code",
      "execution_count": 9,
      "id": "6788bbc8",
      "metadata": {
        "execution": {
          "iopub.execute_input": "2023-11-10T07:50:15.398413Z",
          "iopub.status.busy": "2023-11-10T07:50:15.397662Z",
          "iopub.status.idle": "2023-11-10T07:50:15.408275Z",
          "shell.execute_reply": "2023-11-10T07:50:15.407420Z"
        },
        "id": "6788bbc8",
        "papermill": {
          "duration": 0.067367,
          "end_time": "2023-11-10T07:50:15.410188",
          "exception": false,
          "start_time": "2023-11-10T07:50:15.342821",
          "status": "completed"
        },
        "tags": []
      },
      "outputs": [],
      "source": [
        "class SemanticCrossEntropyLoss(torch.nn.Module):\n",
        "    def __init__(self, weight=None):\n",
        "        \"\"\"\n",
        "        Parameters\n",
        "        ==========\n",
        "            weight: Optional[Tensor] - a manual rescaling weight given to each class. If given, has to be a Tensor of size C\n",
        "        \"\"\"\n",
        "        super().__init__()\n",
        "        self.weight = weight\n",
        "\n",
        "    def forward(self, preds, labels):\n",
        "        \"\"\"\n",
        "        Parameters\n",
        "        ==========\n",
        "            preds: Tensor - size (b, C, H, W)\n",
        "            labels: Tensor - size (b, H, W)\n",
        "        Returns\n",
        "        =======\n",
        "            ce_loss: Tensor - size () the cross entropy loss\n",
        "        \"\"\"\n",
        "        n_classes = preds.size(1)\n",
        "        preds = preds.permute(0, 2, 3, 1).reshape(-1, n_classes)\n",
        "        labels = labels.flatten()\n",
        "        return torch.nn.functional.cross_entropy(preds, labels, weight=self.weight)\n",
        "\n",
        "\n",
        "class SemanticFocalLoss(torch.nn.Module):\n",
        "    \"\"\"\n",
        "    Focal loss implementation of:\n",
        "\n",
        "    - Lin, Tsung-Yi, et al. \"Focal loss for dense object detection.\"\n",
        "      Proceedings of the IEEE international conference on computer vision. 2017.\n",
        "    \"\"\"\n",
        "    def __init__(self, gamma=0.0, weight=None):\n",
        "        \"\"\"\n",
        "        Parameters\n",
        "        ==========\n",
        "            gamma : float - the regularization parameter, gamma = 0. will return\n",
        "            the value as the SemanticCrossEntropyLoss.\n",
        "            weight: Optional[Tensor] - a manual rescaling weight given to each\n",
        "            class. If given, has to be a Tensor of size C\n",
        "        \"\"\"\n",
        "        super().__init__()\n",
        "        self.gamma = gamma\n",
        "        self.weight = weight\n",
        "\n",
        "    def forward(self, preds, labels):\n",
        "        \"\"\"\n",
        "        Parameters\n",
        "        ==========\n",
        "            preds: Tensor - size (b, C, H, W)\n",
        "            labels: Tensor - size (b, H, W)\n",
        "        Returns\n",
        "        =======\n",
        "            f_loss: Tensor - size () the focal loss\n",
        "        \"\"\"\n",
        "        n_classes = preds.size(1)\n",
        "        preds = preds.permute(0, 2, 3, 1).reshape(-1, n_classes)\n",
        "        labels = labels.flatten()\n",
        "        probs = torch.nn.functional.softmax(preds, dim=-1)\n",
        "        weighted_probs = (1 - probs) ** self.gamma * probs.log()\n",
        "        return torch.nn.functional.nll_loss(\n",
        "            weighted_probs, labels, weight=self.weight\n",
        "        )"
      ]
    },
    {
      "cell_type": "markdown",
      "id": "c7645aa4",
      "metadata": {
        "id": "c7645aa4",
        "papermill": {
          "duration": 0.053983,
          "end_time": "2023-11-10T07:50:15.517558",
          "exception": false,
          "start_time": "2023-11-10T07:50:15.463575",
          "status": "completed"
        },
        "tags": []
      },
      "source": [
        "## Dataset definition\n",
        "\n",
        "We extract the downloaded zipfiles and write a `Dataset` subclass to access it."
      ]
    },
    {
      "cell_type": "code",
      "execution_count": 10,
      "id": "64350641",
      "metadata": {
        "execution": {
          "iopub.execute_input": "2023-11-10T07:50:15.627059Z",
          "iopub.status.busy": "2023-11-10T07:50:15.626181Z",
          "iopub.status.idle": "2023-11-10T07:50:17.723124Z",
          "shell.execute_reply": "2023-11-10T07:50:17.722294Z"
        },
        "id": "64350641",
        "papermill": {
          "duration": 2.15445,
          "end_time": "2023-11-10T07:50:17.725639",
          "exception": false,
          "start_time": "2023-11-10T07:50:15.571189",
          "status": "completed"
        },
        "tags": []
      },
      "outputs": [],
      "source": [
        "train_images_dir = Path(\"train_images\")\n",
        "if not train_images_dir.exists():\n",
        "    train_images_zip = zipfile.ZipFile(\"train_images.zip\", \"r\")\n",
        "    train_images_dir.mkdir(exist_ok=True)\n",
        "    train_images_zip.extractall(path=train_images_dir)"
      ]
    },
    {
      "cell_type": "code",
      "execution_count": 11,
      "id": "0f7072ae",
      "metadata": {
        "execution": {
          "iopub.execute_input": "2023-11-10T07:50:17.839349Z",
          "iopub.status.busy": "2023-11-10T07:50:17.839038Z",
          "iopub.status.idle": "2023-11-10T07:50:17.929854Z",
          "shell.execute_reply": "2023-11-10T07:50:17.928967Z"
        },
        "id": "0f7072ae",
        "papermill": {
          "duration": 0.150531,
          "end_time": "2023-11-10T07:50:17.932277",
          "exception": false,
          "start_time": "2023-11-10T07:50:17.781746",
          "status": "completed"
        },
        "tags": []
      },
      "outputs": [],
      "source": [
        "train_masks_dir = Path(\"train_masks\")\n",
        "if not train_masks_dir.exists():\n",
        "    train_masks_zip = zipfile.ZipFile(\"train_masks.zip\", \"r\")\n",
        "    train_masks_dir.mkdir(exist_ok=True)\n",
        "    train_masks_zip.extractall(path=train_masks_dir)"
      ]
    },
    {
      "cell_type": "code",
      "execution_count": 12,
      "id": "13083a7d",
      "metadata": {
        "execution": {
          "iopub.execute_input": "2023-11-10T07:50:18.045685Z",
          "iopub.status.busy": "2023-11-10T07:50:18.045345Z",
          "iopub.status.idle": "2023-11-10T07:50:18.058170Z",
          "shell.execute_reply": "2023-11-10T07:50:18.057350Z"
        },
        "id": "13083a7d",
        "papermill": {
          "duration": 0.072366,
          "end_time": "2023-11-10T07:50:18.060169",
          "exception": false,
          "start_time": "2023-11-10T07:50:17.987803",
          "status": "completed"
        },
        "tags": []
      },
      "outputs": [],
      "source": [
        "class SemanticSegmentationSatelliteImageryDataset(torch.utils.data.Dataset):\n",
        "    def __init__(\n",
        "        self, root, train=True, transform=lambda x: x, mask_transform=lambda x: x\n",
        "    ):\n",
        "        super().__init__()\n",
        "        self.transform = transform\n",
        "        self.mask_transform = mask_transform\n",
        "        self.root = Path(root)\n",
        "        self.train_images = self.root / \"train_images\"\n",
        "        self.train_images_files = sorted(list(self.train_images.iterdir()))\n",
        "\n",
        "        self.train_masks = self.root / \"train_masks\"\n",
        "        self.train_masks_files = sorted(list(self.train_masks.iterdir()))\n",
        "\n",
        "        self.train = train\n",
        "\n",
        "        # Images ending with a filename ending with either 8 or 9\n",
        "        # are part of the validation set.\n",
        "        if train:\n",
        "            self.train_images_files = [\n",
        "                f\n",
        "                for f in self.train_images_files\n",
        "                if int(f.with_suffix(\"\").name[-1]) < 8\n",
        "            ]\n",
        "            self.train_masks_files = [\n",
        "                f for f in self.train_masks_files if int(f.with_suffix(\"\").name[-1]) < 8\n",
        "            ]\n",
        "        else:\n",
        "            self.train_images_files = [\n",
        "                f\n",
        "                for f in self.train_images_files\n",
        "                if int(f.with_suffix(\"\").name[-1]) >= 8\n",
        "            ]\n",
        "            self.train_masks_files = [\n",
        "                f\n",
        "                for f in self.train_masks_files\n",
        "                if int(f.with_suffix(\"\").name[-1]) >= 8\n",
        "            ]\n",
        "\n",
        "        self.classes = [\n",
        "            \"Background\",\n",
        "            \"Property Roof\",\n",
        "            \"Secondary Structure\",\n",
        "            \"Swimming Pool\",\n",
        "            \"Vehicle\",\n",
        "            \"Grass\",\n",
        "            \"Trees / Shrubs\",\n",
        "            \"Solar Panels\",\n",
        "            \"Chimney\",\n",
        "            \"Street Light\",\n",
        "            \"Window\",\n",
        "            \"Satellite Antenna\",\n",
        "            \"Garbage Bins\",\n",
        "            \"Trampoline\",\n",
        "            \"Road/Highway\",\n",
        "            \"Under Construction / In Progress Status\",\n",
        "            \"Power Lines & Cables\",\n",
        "            \"Water Tank / Oil Tank\",\n",
        "            \"Parking Area - Commercial\",\n",
        "            \"Sports Complex / Arena\",\n",
        "            \"Industrial Site\",\n",
        "            \"Dense Vegetation / Forest\",\n",
        "            \"Water Body\",\n",
        "            \"Flooded\",\n",
        "            \"Boat\",\n",
        "        ]\n",
        "\n",
        "        assert len(self.train_images_files) == len(self.train_masks_files)\n",
        "\n",
        "    def __len__(self):\n",
        "        return len(self.train_images_files)\n",
        "\n",
        "    def __getitem__(self, idx):\n",
        "        mask = Image.open(self.train_masks_files[idx])\n",
        "        image = Image.open(self.train_images_files[idx]).convert(\"RGB\")\n",
        "        return self.transform(image), self.mask_transform(mask)"
      ]
    },
    {
      "cell_type": "code",
      "execution_count": 13,
      "id": "32d452c9",
      "metadata": {
        "colab": {
          "base_uri": "https://localhost:8080/"
        },
        "execution": {
          "iopub.execute_input": "2023-11-10T07:50:18.170016Z",
          "iopub.status.busy": "2023-11-10T07:50:18.169682Z",
          "iopub.status.idle": "2023-11-10T07:50:18.189495Z",
          "shell.execute_reply": "2023-11-10T07:50:18.188565Z"
        },
        "id": "32d452c9",
        "outputId": "09e26cf7-abe5-4e56-c2c6-6ecd4199cac5",
        "papermill": {
          "duration": 0.076762,
          "end_time": "2023-11-10T07:50:18.191420",
          "exception": false,
          "start_time": "2023-11-10T07:50:18.114658",
          "status": "completed"
        },
        "tags": []
      },
      "outputs": [
        {
          "output_type": "execute_result",
          "data": {
            "text/plain": [
              "(214, 47)"
            ]
          },
          "metadata": {},
          "execution_count": 13
        }
      ],
      "source": [
        "train_dataset = SemanticSegmentationSatelliteImageryDataset(\"./\", train=True)\n",
        "val_dataset = SemanticSegmentationSatelliteImageryDataset(\"./\", train=False)\n",
        "len(train_dataset), len(val_dataset)"
      ]
    },
    {
      "cell_type": "code",
      "execution_count": 14,
      "id": "a7114bc1",
      "metadata": {
        "execution": {
          "iopub.execute_input": "2023-11-10T07:50:18.303548Z",
          "iopub.status.busy": "2023-11-10T07:50:18.303175Z",
          "iopub.status.idle": "2023-11-10T07:50:18.308792Z",
          "shell.execute_reply": "2023-11-10T07:50:18.307914Z"
        },
        "id": "a7114bc1",
        "papermill": {
          "duration": 0.064042,
          "end_time": "2023-11-10T07:50:18.310599",
          "exception": false,
          "start_time": "2023-11-10T07:50:18.246557",
          "status": "completed"
        },
        "tags": []
      },
      "outputs": [],
      "source": [
        "def view_sample(ds, idx):\n",
        "    _, axs = plt.subplots(ncols=2)\n",
        "\n",
        "    img, mask = ds[idx]\n",
        "\n",
        "    axs[0].set_title(\"Image\")\n",
        "    axs[0].imshow(img)\n",
        "    axs[0].axis(\"off\")\n",
        "\n",
        "    axs[1].set_title(\"Ground Truth\")\n",
        "    axs[1].imshow(mask)\n",
        "    axs[1].axis(\"off\")\n",
        "\n",
        "    plt.show()"
      ]
    },
    {
      "cell_type": "code",
      "execution_count": 15,
      "id": "13fa64a6",
      "metadata": {
        "colab": {
          "base_uri": "https://localhost:8080/",
          "height": 359
        },
        "execution": {
          "iopub.execute_input": "2023-11-10T07:50:18.423654Z",
          "iopub.status.busy": "2023-11-10T07:50:18.423284Z",
          "iopub.status.idle": "2023-11-10T07:50:23.542431Z",
          "shell.execute_reply": "2023-11-10T07:50:23.541618Z"
        },
        "id": "13fa64a6",
        "outputId": "1b8d18e6-cde3-4292-ff75-b067a7af51f3",
        "papermill": {
          "duration": 5.177701,
          "end_time": "2023-11-10T07:50:23.544401",
          "exception": false,
          "start_time": "2023-11-10T07:50:18.366700",
          "status": "completed"
        },
        "tags": []
      },
      "outputs": [
        {
          "output_type": "display_data",
          "data": {
            "text/plain": [
              "<Figure size 640x480 with 2 Axes>"
            ],
            "image/png": "[encoded data removed]"
          },
          "metadata": {}
        }
      ],
      "source": [
        "view_sample(train_dataset, 1)"
      ]
    },
    {
      "cell_type": "code",
      "execution_count": null,
      "id": "1kpuJaAa7nr7",
      "metadata": {
        "id": "1kpuJaAa7nr7"
      },
      "outputs": [],
      "source": [
        "view_sample(val_dataset, 1)"
      ]
    },
    {
      "cell_type": "markdown",
      "id": "bmXAFLXh6WhI",
      "metadata": {
        "id": "bmXAFLXh6WhI"
      },
      "source": [
        "## Setting up the model and parameters"
      ]
    },
    {
      "cell_type": "code",
      "execution_count": null,
      "id": "Kies90SM6WhI",
      "metadata": {
        "id": "Kies90SM6WhI"
      },
      "outputs": [],
      "source": [
        "# Similar functions to visualize the predictions of our model:\n",
        "\n",
        "def denormalize_image(image, mean, std):\n",
        "    \"\"\"Denormalize the image.\"\"\"\n",
        "    return (\n",
        "        image * torch.tensor(std)[:, None, None]\n",
        "        + torch.tensor(mean)[:, None, None]\n",
        "    )\n",
        "\n",
        "\n",
        "def view_predictions(image, predictions, labels, axs=None):\n",
        "    if axs is None:\n",
        "        _, axs = plt.subplots(ncols=3)\n",
        "    axs[0].imshow(\n",
        "        denormalize_image(image, NORMALIZATION_MEANS, NORMALIZATION_STDS)\n",
        "        .permute(1,2,0)\n",
        "    )\n",
        "    axs[0].axis('off')\n",
        "    axs[0].set_title(\"Image\")\n",
        "    axs[1].imshow(predictions)\n",
        "    axs[1].axis('off')\n",
        "    axs[1].set_title(\"Prediction\")\n",
        "    axs[2].imshow(labels)\n",
        "    axs[2].axis('off')\n",
        "    axs[2].set_title(\"GT\")\n",
        "    return axs\n",
        "\n",
        "\n",
        "def view_batch_prediction(model, images, labels):\n",
        "    model.eval()\n",
        "    with torch.no_grad():\n",
        "        preds = model(images.to(DEVICE)).cpu()\n",
        "        pred_labels = preds.argmax(1)\n",
        "\n",
        "    n_images = images.shape[0]\n",
        "    fig, axes = plt.subplots(\n",
        "        nrows=n_images,\n",
        "        ncols=3,\n",
        "        figsize=(15, n_images * 5),\n",
        "        constrained_layout=True,\n",
        "    )\n",
        "\n",
        "    for i, (image, pred_label, gt_label) in enumerate(\n",
        "        zip(images, pred_labels, labels)\n",
        "    ):\n",
        "        view_predictions(image, pred_label, gt_label, axs=axes[i])\n",
        "\n",
        "    plt.axis(\"off\")\n",
        "    plt.show()"
      ]
    },
    {
      "cell_type": "code",
      "execution_count": null,
      "id": "e21869f0",
      "metadata": {
        "execution": {
          "iopub.execute_input": "2023-11-10T07:50:23.663307Z",
          "iopub.status.busy": "2023-11-10T07:50:23.662976Z",
          "iopub.status.idle": "2023-11-10T07:50:23.668160Z",
          "shell.execute_reply": "2023-11-10T07:50:23.667273Z"
        },
        "id": "e21869f0",
        "papermill": {
          "duration": 0.066417,
          "end_time": "2023-11-10T07:50:23.670051",
          "exception": false,
          "start_time": "2023-11-10T07:50:23.603634",
          "status": "completed"
        },
        "tags": []
      },
      "outputs": [],
      "source": [
        "TRAIN_BATCH_SIZE = 2\n",
        "VAL_BATCH_SIZE = 2\n",
        "\n",
        "N_CHANNELS = 3\n",
        "N_CLASSES = 25\n",
        "\n",
        "N_EPOCHS = 3\n",
        "LEARNING_RATE = 1e-3\n",
        "WEIGHT_DECAY = 1e-6\n",
        "\n",
        "NORMALIZATION_MEANS = [0.4643, 0.3185, 0.3141]\n",
        "NORMALIZATION_STDS = [0.2171, 0.1561, 0.1496]"
      ]
    },
    {
      "cell_type": "code",
      "execution_count": null,
      "id": "27ab5ede",
      "metadata": {
        "execution": {
          "iopub.execute_input": "2023-11-10T07:50:23.788616Z",
          "iopub.status.busy": "2023-11-10T07:50:23.788040Z",
          "iopub.status.idle": "2023-11-10T07:50:27.005290Z",
          "shell.execute_reply": "2023-11-10T07:50:27.004514Z"
        },
        "id": "27ab5ede",
        "papermill": {
          "duration": 3.27916,
          "end_time": "2023-11-10T07:50:27.007591",
          "exception": false,
          "start_time": "2023-11-10T07:50:23.728431",
          "status": "completed"
        },
        "tags": []
      },
      "outputs": [],
      "source": [
        "model = UNet(in_channels=N_CHANNELS, n_classes=N_CLASSES).to(DEVICE)"
      ]
    },
    {
      "cell_type": "code",
      "execution_count": null,
      "id": "ba1fc179",
      "metadata": {
        "execution": {
          "iopub.execute_input": "2023-11-10T07:50:27.128603Z",
          "iopub.status.busy": "2023-11-10T07:50:27.128270Z",
          "iopub.status.idle": "2023-11-10T07:50:27.149117Z",
          "shell.execute_reply": "2023-11-10T07:50:27.148408Z"
        },
        "id": "ba1fc179",
        "papermill": {
          "duration": 0.083345,
          "end_time": "2023-11-10T07:50:27.151005",
          "exception": false,
          "start_time": "2023-11-10T07:50:27.067660",
          "status": "completed"
        },
        "tags": []
      },
      "outputs": [],
      "source": [
        "transform = T.Compose(\n",
        "    [\n",
        "        T.CenterCrop(3000),\n",
        "        T.Resize(512),\n",
        "        T.ToTensor(),\n",
        "        T.Normalize(mean=NORMALIZATION_MEANS, std=NORMALIZATION_STDS),\n",
        "    ]\n",
        ")\n",
        "\n",
        "mask_transform = T.Compose(\n",
        "    [\n",
        "        T.CenterCrop(3000),\n",
        "        T.Resize(512),\n",
        "        np.asarray,\n",
        "        torch.tensor,\n",
        "    ]\n",
        ")\n",
        "\n",
        "train_dataset = SemanticSegmentationSatelliteImageryDataset(\n",
        "    \"./\", train=True, transform=transform, mask_transform=mask_transform\n",
        ")\n",
        "train_loader = torch.utils.data.DataLoader(\n",
        "    train_dataset, batch_size=TRAIN_BATCH_SIZE, shuffle=True\n",
        ")\n",
        "validation_dataset = SemanticSegmentationSatelliteImageryDataset(\n",
        "    \"./\", train=False, transform=transform, mask_transform=mask_transform\n",
        ")\n",
        "validation_loader = torch.utils.data.DataLoader(\n",
        "    validation_dataset, batch_size=VAL_BATCH_SIZE, shuffle=False\n",
        ")"
      ]
    },
    {
      "cell_type": "code",
      "execution_count": null,
      "id": "3f44c70c",
      "metadata": {
        "execution": {
          "iopub.execute_input": "2023-11-10T08:23:41.039515Z",
          "iopub.status.busy": "2023-11-10T08:23:41.038895Z",
          "iopub.status.idle": "2023-11-10T08:23:42.755047Z",
          "shell.execute_reply": "2023-11-10T08:23:42.754126Z"
        },
        "id": "3f44c70c",
        "papermill": {
          "duration": 1.782556,
          "end_time": "2023-11-10T08:23:42.757455",
          "exception": false,
          "start_time": "2023-11-10T08:23:40.974899",
          "status": "completed"
        },
        "tags": []
      },
      "outputs": [],
      "source": [
        "# Extract the first validation batch for qualitative checks:\n",
        "\n",
        "images, labels = next(iter(validation_loader))"
      ]
    },
    {
      "cell_type": "code",
      "source": [
        "len(images)"
      ],
      "metadata": {
        "id": "wATAKRqnqwN4"
      },
      "id": "wATAKRqnqwN4",
      "execution_count": null,
      "outputs": []
    },
    {
      "cell_type": "code",
      "execution_count": null,
      "id": "MoGhTv3c6WhJ",
      "metadata": {
        "id": "MoGhTv3c6WhJ"
      },
      "outputs": [],
      "source": [
        "view_batch_prediction(model, images, labels)"
      ]
    },
    {
      "cell_type": "markdown",
      "id": "8RCndTuR6WhJ",
      "metadata": {
        "id": "8RCndTuR6WhJ"
      },
      "source": [
        "## Exercise: The training loop\n",
        "\n",
        "With the dataloader defined and the model initialized. Write the training loop to train the semantic segmentation model."
      ]
    },
    {
      "cell_type": "code",
      "execution_count": null,
      "id": "nkEsWD4M6WhJ",
      "metadata": {
        "id": "nkEsWD4M6WhJ"
      },
      "outputs": [],
      "source": [
        "# Define an optimizer for the unet and choose a loss function among the two\n",
        "# defined above.\n",
        "# Then, write the training loop to perform semantic segmentation.\n",
        "optimizer = ...\n",
        "loss_fn = ...\n",
        "\n",
        "# NOTE: You can compute validation metrics such as pixel accuracy on the\n",
        "# validation set to monitor the training.\n",
        "# ....  Other metrics might be more adapted to semantic segmentation such as\n",
        "# the DICE index.\n",
        "\n",
        "\n",
        "\n",
        "\n",
        "\n"
      ]
    },
    {
      "cell_type": "code",
      "source": [],
      "metadata": {
        "id": "Lo59otjptJsW"
      },
      "id": "Lo59otjptJsW",
      "execution_count": null,
      "outputs": []
    },
    {
      "cell_type": "code",
      "source": [],
      "metadata": {
        "id": "7HVeAclgtJiw"
      },
      "id": "7HVeAclgtJiw",
      "execution_count": null,
      "outputs": []
    },
    {
      "cell_type": "code",
      "source": [],
      "metadata": {
        "id": "MhSTFScutJYw"
      },
      "id": "MhSTFScutJYw",
      "execution_count": null,
      "outputs": []
    },
    {
      "cell_type": "markdown",
      "id": "KpOdaW3z6WhJ",
      "metadata": {
        "id": "KpOdaW3z6WhJ"
      },
      "source": [
        "### Potential Solution"
      ]
    },
    {
      "cell_type": "code",
      "execution_count": null,
      "id": "2988a8df",
      "metadata": {
        "execution": {
          "iopub.execute_input": "2023-11-10T07:50:27.271491Z",
          "iopub.status.busy": "2023-11-10T07:50:27.271148Z",
          "iopub.status.idle": "2023-11-10T08:23:39.694942Z",
          "shell.execute_reply": "2023-11-10T08:23:39.693918Z"
        },
        "id": "2988a8df",
        "papermill": {
          "duration": 1992.549687,
          "end_time": "2023-11-10T08:23:39.759998",
          "exception": false,
          "start_time": "2023-11-10T07:50:27.210311",
          "status": "completed"
        },
        "tags": []
      },
      "outputs": [],
      "source": [
        "# Try other optimizers if you want !\n",
        "optimizer = optim.Adam(model.parameters(), lr=LEARNING_RATE, weight_decay=WEIGHT_DECAY)\n",
        "\n",
        "# Here choose the loss function.\n",
        "loss_fn = SemanticCrossEntropyLoss()\n",
        "# loss_fn = SemanticFocalLoss(gamma=1)\n",
        "\n",
        "losses = []\n",
        "accs = []\n",
        "\n",
        "for epoch in range(N_EPOCHS):\n",
        "    epoch_losses = []\n",
        "\n",
        "    # Setting the model in train mode i.e. activates all training layers such\n",
        "    # as batch normalization and dropout layers if any.\n",
        "    model.train()\n",
        "\n",
        "    # Just to have a nice loading bar.\n",
        "    pbar = tqdm(train_loader, desc=f\"Epoch {epoch} \")\n",
        "\n",
        "    for images, labels in pbar:\n",
        "        # Remember to send the data to the GPU (if you are using it !).\n",
        "        images = images.to(DEVICE)\n",
        "        labels = labels.to(DEVICE)\n",
        "\n",
        "        masks_pred = model(images)\n",
        "        loss = loss_fn(masks_pred, labels)\n",
        "\n",
        "        # You know the drill.\n",
        "        loss.backward()\n",
        "        optimizer.step()\n",
        "        optimizer.zero_grad()\n",
        "\n",
        "        loss_value = loss.cpu().item()\n",
        "\n",
        "        epoch_losses.append(loss_value)\n",
        "        pbar.set_description(f\"Epoch {epoch}, Loss : {loss_value:.2f} \")\n",
        "\n",
        "    losses.append(epoch_losses)\n",
        "\n",
        "    model.eval()\n",
        "\n",
        "    # Validations step.\n",
        "\n",
        "    well_predicted = 0\n",
        "    total_predicted = 0\n",
        "\n",
        "    for images, labels in validation_loader:\n",
        "        with torch.no_grad():\n",
        "            preds = model(images.to(DEVICE))\n",
        "\n",
        "        pred_labels = preds.argmax(dim=1)\n",
        "        well_predicted += (labels.to(DEVICE) == pred_labels).sum()\n",
        "        total_predicted += labels.numel()\n",
        "\n",
        "    val_acc = well_predicted / total_predicted\n",
        "    print(f\"Validation Accuracy : {val_acc:2.3f}.\")\n",
        "    accs.append(val_acc)\n",
        "\n",
        "    torch.save(\n",
        "        model.state_dict(),\n",
        "        f\"semantic_segmentation_si_unet_epoch_{epoch:03d}.model\"\n",
        "    )"
      ]
    },
    {
      "cell_type": "markdown",
      "id": "954ed48e",
      "metadata": {
        "id": "954ed48e",
        "papermill": {
          "duration": 0.06318,
          "end_time": "2023-11-10T08:23:39.885898",
          "exception": false,
          "start_time": "2023-11-10T08:23:39.822718",
          "status": "completed"
        },
        "tags": []
      },
      "source": [
        "You don't know what is the focal loss ? [Here](https://arxiv.org/abs/1708.02002) is the paper !"
      ]
    },
    {
      "cell_type": "markdown",
      "id": "dFmSDxqF6WhJ",
      "metadata": {
        "id": "dFmSDxqF6WhJ"
      },
      "source": [
        "We can save the parameters of the model for later use."
      ]
    },
    {
      "cell_type": "code",
      "execution_count": null,
      "id": "e463c301",
      "metadata": {
        "execution": {
          "iopub.execute_input": "2023-11-10T08:23:40.065413Z",
          "iopub.status.busy": "2023-11-10T08:23:40.064680Z",
          "iopub.status.idle": "2023-11-10T08:23:40.259103Z",
          "shell.execute_reply": "2023-11-10T08:23:40.258270Z"
        },
        "id": "e463c301",
        "papermill": {
          "duration": 0.261344,
          "end_time": "2023-11-10T08:23:40.261409",
          "exception": false,
          "start_time": "2023-11-10T08:23:40.000065",
          "status": "completed"
        },
        "tags": []
      },
      "outputs": [],
      "source": [
        "# Here you can save the model for further use.\n",
        "save_path = \"semantic_segmentation_si_unet.model\"\n",
        "torch.save(model.state_dict(), save_path)"
      ]
    },
    {
      "cell_type": "markdown",
      "id": "iA-L3Cu06WhK",
      "metadata": {
        "id": "iA-L3Cu06WhK"
      },
      "source": [
        "We can also download and apply the weights to a pretrained model trained for 20 epochs which reaches ~60% accuracy on the validation set."
      ]
    },
    {
      "cell_type": "code",
      "execution_count": null,
      "id": "IeZ_SQRm6WhK",
      "metadata": {
        "id": "IeZ_SQRm6WhK"
      },
      "outputs": [],
      "source": [
        "pretrained_model_path = \"pretrained_semantic_segmentation_si_unet.model\"\n",
        "download_url_to_file(\n",
        "    \"https://www.dropbox.com/scl/fi/rtfn746yx540hsz8zbljl/semantic_segmentation_si_unet.model?rlkey=a9xoamt2m5mhp6xzklg7dxlad&dl=1\", dst=pretrained_model_path\n",
        ")"
      ]
    },
    {
      "cell_type": "code",
      "execution_count": null,
      "id": "SywDm3xn6WhK",
      "metadata": {
        "id": "SywDm3xn6WhK"
      },
      "outputs": [],
      "source": [
        "# Look at the results with your model first then try with the pretrained model weights.\n",
        "# model.load_state_dict(torch.load(pretrained_model_path, weights_only=True))"
      ]
    },
    {
      "cell_type": "markdown",
      "id": "0e1b3d9a",
      "metadata": {
        "id": "0e1b3d9a",
        "papermill": {
          "duration": 0.06274,
          "end_time": "2023-11-10T08:23:40.911717",
          "exception": false,
          "start_time": "2023-11-10T08:23:40.848977",
          "status": "completed"
        },
        "tags": []
      },
      "source": [
        "## Let's see the results !"
      ]
    },
    {
      "cell_type": "code",
      "execution_count": null,
      "id": "2755547e",
      "metadata": {
        "execution": {
          "iopub.execute_input": "2023-11-10T08:23:42.887739Z",
          "iopub.status.busy": "2023-11-10T08:23:42.887368Z",
          "iopub.status.idle": "2023-11-10T08:23:44.257404Z",
          "shell.execute_reply": "2023-11-10T08:23:44.256435Z"
        },
        "id": "2755547e",
        "papermill": {
          "duration": 1.445559,
          "end_time": "2023-11-10T08:23:44.267500",
          "exception": false,
          "start_time": "2023-11-10T08:23:42.821941",
          "status": "completed"
        },
        "tags": []
      },
      "outputs": [],
      "source": [
        "# And now let's see it !\n",
        "\n",
        "images, labels = next(iter(validation_loader))\n",
        "\n",
        "view_batch_prediction(model, images, labels)"
      ]
    },
    {
      "cell_type": "code",
      "execution_count": null,
      "id": "5a85af44",
      "metadata": {
        "id": "5a85af44",
        "papermill": {
          "duration": 0.075912,
          "end_time": "2023-11-10T08:23:44.419959",
          "exception": false,
          "start_time": "2023-11-10T08:23:44.344047",
          "status": "completed"
        },
        "tags": []
      },
      "outputs": [],
      "source": []
    },
    {
      "cell_type": "code",
      "execution_count": null,
      "id": "9800a656",
      "metadata": {
        "id": "9800a656",
        "papermill": {
          "duration": 0.078686,
          "end_time": "2023-11-10T08:23:44.578904",
          "exception": false,
          "start_time": "2023-11-10T08:23:44.500218",
          "status": "completed"
        },
        "tags": []
      },
      "outputs": [],
      "source": []
    },
    {
      "cell_type": "code",
      "execution_count": null,
      "id": "a5c31c0a",
      "metadata": {
        "id": "a5c31c0a",
        "papermill": {
          "duration": 0.075321,
          "end_time": "2023-11-10T08:23:44.730771",
          "exception": false,
          "start_time": "2023-11-10T08:23:44.655450",
          "status": "completed"
        },
        "tags": []
      },
      "outputs": [],
      "source": []
    }
  ],
  "metadata": {
    "accelerator": "GPU",
    "colab": {
      "gpuType": "T4",
      "provenance": []
    },
    "kernelspec": {
      "display_name": "Python 3",
      "name": "python3"
    },
    "language_info": {
      "codemirror_mode": {
        "name": "ipython",
        "version": 3
      },
      "file_extension": ".py",
      "mimetype": "text/x-python",
      "name": "python",
      "nbconvert_exporter": "python",
      "pygments_lexer": "ipython3",
      "version": "3.10.9"
    },
    "papermill": {
      "default_parameters": {},
      "duration": 2108.470205,
      "end_time": "2023-11-10T08:23:47.236264",
      "environment_variables": {},
      "exception": null,
      "input_path": "__notebook__.ipynb",
      "output_path": "__notebook__.ipynb",
      "parameters": {},
      "start_time": "2023-11-10T07:48:38.766059",
      "version": "2.4.0"
    }
  },
  "nbformat": 4,
  "nbformat_minor": 5
}